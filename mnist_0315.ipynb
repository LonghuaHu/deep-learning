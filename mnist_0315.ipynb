{
  "nbformat": 4,
  "nbformat_minor": 0,
  "metadata": {
    "colab": {
      "name": "mnist_0315.ipynb",
      "version": "0.3.2",
      "provenance": [],
      "include_colab_link": true
    },
    "kernelspec": {
      "name": "python3",
      "display_name": "Python 3"
    },
    "accelerator": "GPU"
  },
  "cells": [
    {
      "cell_type": "markdown",
      "metadata": {
        "id": "view-in-github",
        "colab_type": "text"
      },
      "source": [
        "<a href=\"https://colab.research.google.com/github/LonghuaHu/deep-learning/blob/master/mnist_0315.ipynb\" target=\"_parent\"><img src=\"https://colab.research.google.com/assets/colab-badge.svg\" alt=\"Open In Colab\"/></a>"
      ]
    },
    {
      "metadata": {
        "id": "igene0HDnqUw",
        "colab_type": "code",
        "colab": {
          "base_uri": "https://localhost:8080/",
          "height": 129
        },
        "outputId": "4a03b4b0-4b01-48cb-cfad-e0f01e39213f"
      },
      "cell_type": "code",
      "source": [
        "from google.colab import drive\n",
        "drive.mount('/content/drive')"
      ],
      "execution_count": 5,
      "outputs": [
        {
          "output_type": "stream",
          "text": [
            "Go to this URL in a browser: https://accounts.google.com/o/oauth2/auth?client_id=947318989803-6bn6qk8qdgf4n4g3pfee6491hc0brc4i.apps.googleusercontent.com&redirect_uri=urn%3Aietf%3Awg%3Aoauth%3A2.0%3Aoob&scope=email%20https%3A%2F%2Fwww.googleapis.com%2Fauth%2Fdocs.test%20https%3A%2F%2Fwww.googleapis.com%2Fauth%2Fdrive%20https%3A%2F%2Fwww.googleapis.com%2Fauth%2Fdrive.photos.readonly%20https%3A%2F%2Fwww.googleapis.com%2Fauth%2Fpeopleapi.readonly&response_type=code\n",
            "\n",
            "Enter your authorization code:\n",
            "··········\n",
            "Mounted at /content/drive\n"
          ],
          "name": "stdout"
        }
      ]
    },
    {
      "metadata": {
        "id": "NAF488HOlfZq",
        "colab_type": "code",
        "colab": {
          "base_uri": "https://localhost:8080/",
          "height": 51
        },
        "outputId": "f5ebb9e8-44b8-4e3a-a4d5-1b0ae725aad5"
      },
      "cell_type": "code",
      "source": [
        "import numpy as np\n",
        "from sklearn.model_selection import train_test_split\n",
        "import h5py \n",
        "#data\n",
        "f = h5py.File('/content/drive/My Drive/Colab Notebooks/new_quaternionImages.mat','r') \n",
        "\n",
        "X = f['quaternionImages'][:]\n",
        "#data = data.T\n",
        "print(X.shape)\n",
        "\n",
        "#lable\n",
        "f = h5py.File('/content/drive/My Drive/Colab Notebooks/new_quaternionImagesLabels.mat','r') \n",
        "y = f['quaternionImagesLabels'][:]\n",
        "y = y.T\n",
        "print(y.shape)\n",
        "\n"
      ],
      "execution_count": 6,
      "outputs": [
        {
          "output_type": "stream",
          "text": [
            "(10000, 12, 14, 14)\n",
            "(10000, 1)\n"
          ],
          "name": "stdout"
        }
      ]
    },
    {
      "metadata": {
        "id": "0nIIU2d2vEfL",
        "colab_type": "code",
        "colab": {}
      },
      "cell_type": "code",
      "source": [
        "X_train, X_test, y_train, y_test = train_test_split(\n",
        "X, y, test_size=0.2, random_state=42)"
      ],
      "execution_count": 0,
      "outputs": []
    },
    {
      "metadata": {
        "id": "SFs9tDOev_7Q",
        "colab_type": "code",
        "colab": {
          "base_uri": "https://localhost:8080/",
          "height": 34
        },
        "outputId": "77329d3d-6198-4a81-eecc-76971b7c19d8"
      },
      "cell_type": "code",
      "source": [
        "print(X_train.shape, X_test.shape, y_train.shape, y_test.shape)"
      ],
      "execution_count": 8,
      "outputs": [
        {
          "output_type": "stream",
          "text": [
            "(8000, 12, 14, 14) (2000, 12, 14, 14) (8000, 1) (2000, 1)\n"
          ],
          "name": "stdout"
        }
      ]
    },
    {
      "metadata": {
        "id": "cZ5hAxiblfZ4",
        "colab_type": "code",
        "colab": {}
      },
      "cell_type": "code",
      "source": [
        "#data[0,7,0,0]"
      ],
      "execution_count": 0,
      "outputs": []
    },
    {
      "metadata": {
        "id": "ejnj8UP_lfZ-",
        "colab_type": "code",
        "colab": {
          "base_uri": "https://localhost:8080/",
          "height": 102
        },
        "outputId": "485b1e22-deff-4dae-bd4f-74a1a6ef5b44"
      },
      "cell_type": "code",
      "source": [
        "X_train = X_train.reshape(X_train.shape[0], X_train.shape[1], X_train.shape[2], X_train.shape[3],1)\n",
        "X_test = X_test.reshape(X_test.shape[0], X_train.shape[1], X_train.shape[2], X_train.shape[3],1)\n",
        "#training_labels = training_labels[0]\n",
        "y_train.astype(int)\n",
        "y_test.astype(int)\n",
        "print('Number of training examples: ' + str(X_train.shape[0]))\n",
        "print('Training images shape:' + str(X_train.shape))\n",
        "print('Training labels shape:' + str(y_train.shape))\n",
        "print('Test images shape:' + str(X_test.shape))\n",
        "print('Test labels shape:' + str(y_test.shape))"
      ],
      "execution_count": 10,
      "outputs": [
        {
          "output_type": "stream",
          "text": [
            "Number of training examples: 8000\n",
            "Training images shape:(8000, 12, 14, 14, 1)\n",
            "Training labels shape:(8000, 1)\n",
            "Test images shape:(2000, 12, 14, 14, 1)\n",
            "Test labels shape:(2000, 1)\n"
          ],
          "name": "stdout"
        }
      ]
    },
    {
      "metadata": {
        "id": "VM4ures9lfaH",
        "colab_type": "code",
        "colab": {
          "base_uri": "https://localhost:8080/",
          "height": 34
        },
        "outputId": "f791dcfb-ff32-4183-839a-0220d6dc6b61"
      },
      "cell_type": "code",
      "source": [
        "import os\n",
        "import tensorflow as tf\n",
        "from keras.callbacks import TensorBoard"
      ],
      "execution_count": 11,
      "outputs": [
        {
          "output_type": "stream",
          "text": [
            "Using TensorFlow backend.\n"
          ],
          "name": "stderr"
        }
      ]
    },
    {
      "metadata": {
        "id": "p51cbvmKyJ-7",
        "colab_type": "code",
        "colab": {}
      },
      "cell_type": "code",
      "source": [
        "class TrainValTensorBoard(TensorBoard):\n",
        "    def __init__(self, log_dir='./logs', **kwargs):\n",
        "        # Make the original `TensorBoard` log to a subdirectory 'training'\n",
        "        training_log_dir = os.path.join(log_dir, 'training')\n",
        "        super(TrainValTensorBoard, self).__init__(training_log_dir, **kwargs)\n",
        "\n",
        "        # Log the validation metrics to a separate subdirectory\n",
        "        self.val_log_dir = os.path.join(log_dir, 'validation')\n",
        "\n",
        "    def set_model(self, model):\n",
        "        # Setup writer for validation metrics\n",
        "        self.val_writer = tf.summary.FileWriter(self.val_log_dir)\n",
        "        super(TrainValTensorBoard, self).set_model(model)\n",
        "\n",
        "    def on_epoch_end(self, epoch, logs=None):\n",
        "        # Pop the validation logs and handle them separately with\n",
        "        # `self.val_writer`. Also rename the keys so that they can\n",
        "        # be plotted on the same figure with the training metrics\n",
        "        logs = logs or {}\n",
        "        val_logs = {k.replace('val_', ''): v for k, v in logs.items() if k.startswith('val_')}\n",
        "        for name, value in val_logs.items():\n",
        "            summary = tf.Summary()\n",
        "            summary_value = summary.value.add()\n",
        "            summary_value.simple_value = value.item()\n",
        "            summary_value.tag = name\n",
        "            self.val_writer.add_summary(summary, epoch)\n",
        "        self.val_writer.flush()\n",
        "\n",
        "        # Pass the remaining logs to `TensorBoard.on_epoch_end`\n",
        "        logs = {k: v for k, v in logs.items() if not k.startswith('val_')}\n",
        "        super(TrainValTensorBoard, self).on_epoch_end(epoch, logs)"
      ],
      "execution_count": 0,
      "outputs": []
    },
    {
      "metadata": {
        "id": "K_crVCSjlfaK",
        "colab_type": "code",
        "colab": {
          "base_uri": "https://localhost:8080/",
          "height": 340
        },
        "outputId": "c3992953-7410-4198-eb5e-9c0ebe4309fd"
      },
      "cell_type": "code",
      "source": [
        "model = tf.keras.models.Sequential()\n",
        "model.add(tf.keras.layers.Conv3D(8, (3,3,3), activation='relu', input_shape=(12, 14, 14, 1)))\n",
        "model.add(tf.keras.layers.MaxPooling3D(pool_size=(2, 2, 2), strides=(1, 2, 2)))\n",
        "model.add(tf.keras.layers.BatchNormalization())\n",
        "#model.add(tf.keras.layers.Conv3D(16, (1,3,3), activation='relu'))\n",
        "#model.add(tf.keras.layers.MaxPooling3D(pool_size=(1, 2, 2), strides=(1, 2, 2)))\n",
        "#model.add(tf.keras.layers.BatchNormalization())\n",
        "\n",
        "\n",
        "#FC Layers\n",
        "model.add(tf.keras.layers.Flatten())\n",
        "model.add(tf.keras.layers.Dense(128))\n",
        "model.add(tf.keras.layers.Dense(1, activation='sigmoid'))\n",
        "\n",
        "model.summary()\n"
      ],
      "execution_count": 67,
      "outputs": [
        {
          "output_type": "stream",
          "text": [
            "_________________________________________________________________\n",
            "Layer (type)                 Output Shape              Param #   \n",
            "=================================================================\n",
            "conv3d_12 (Conv3D)           (None, 10, 12, 12, 8)     224       \n",
            "_________________________________________________________________\n",
            "max_pooling3d_12 (MaxPooling (None, 9, 6, 6, 8)        0         \n",
            "_________________________________________________________________\n",
            "batch_normalization_v1_11 (B (None, 9, 6, 6, 8)        32        \n",
            "_________________________________________________________________\n",
            "flatten_11 (Flatten)         (None, 2592)              0         \n",
            "_________________________________________________________________\n",
            "dense_22 (Dense)             (None, 128)               331904    \n",
            "_________________________________________________________________\n",
            "dense_23 (Dense)             (None, 1)                 129       \n",
            "=================================================================\n",
            "Total params: 332,289\n",
            "Trainable params: 332,273\n",
            "Non-trainable params: 16\n",
            "_________________________________________________________________\n"
          ],
          "name": "stdout"
        }
      ]
    },
    {
      "metadata": {
        "id": "th7o91LtlfaT",
        "colab_type": "code",
        "colab": {
          "base_uri": "https://localhost:8080/",
          "height": 1734
        },
        "outputId": "9adbdd6c-d2e1-4b8e-cae8-5a855c5c033f"
      },
      "cell_type": "code",
      "source": [
        "import matplotlib.pyplot as plt\n",
        "from tensorflow.keras.optimizers import RMSprop\n",
        "\n",
        "model.compile(loss='binary_crossentropy',\n",
        "              optimizer=RMSprop(lr=0.0003),\n",
        "              metrics=['acc'])\n",
        "\n",
        "history1 = model.fit(X_train, y_train, epochs=50, verbose=1)\n",
        "test_loss = model.evaluate(X_test, y_test)\n",
        "\n",
        "\n",
        "#model.fit(X_train, y_train, epochs=30)\n",
        "#test_loss = model.evaluate(X_test, y_test)\n",
        "\n",
        "#model.fit(X_train, y_train, epochs=10,\n",
        "#          validation_data=(X_test, y_test),\n",
        "#          callbacks=[TrainValTensorBoard(write_graph=False)])"
      ],
      "execution_count": 68,
      "outputs": [
        {
          "output_type": "stream",
          "text": [
            "Epoch 1/50\n",
            "8000/8000 [==============================] - 2s 303us/sample - loss: 0.2600 - acc: 0.9186\n",
            "Epoch 2/50\n",
            "8000/8000 [==============================] - 2s 261us/sample - loss: 0.1128 - acc: 0.9643\n",
            "Epoch 3/50\n",
            "8000/8000 [==============================] - 2s 261us/sample - loss: 0.0860 - acc: 0.9720\n",
            "Epoch 4/50\n",
            "8000/8000 [==============================] - 2s 258us/sample - loss: 0.0590 - acc: 0.9796\n",
            "Epoch 5/50\n",
            "8000/8000 [==============================] - 2s 259us/sample - loss: 0.0529 - acc: 0.9811\n",
            "Epoch 6/50\n",
            "8000/8000 [==============================] - 2s 261us/sample - loss: 0.0423 - acc: 0.9859\n",
            "Epoch 7/50\n",
            "8000/8000 [==============================] - 2s 258us/sample - loss: 0.0357 - acc: 0.9869\n",
            "Epoch 8/50\n",
            "8000/8000 [==============================] - 2s 261us/sample - loss: 0.0294 - acc: 0.9904\n",
            "Epoch 9/50\n",
            "8000/8000 [==============================] - 2s 262us/sample - loss: 0.0218 - acc: 0.9914\n",
            "Epoch 10/50\n",
            "8000/8000 [==============================] - 2s 258us/sample - loss: 0.0185 - acc: 0.9933\n",
            "Epoch 11/50\n",
            "8000/8000 [==============================] - 2s 256us/sample - loss: 0.0182 - acc: 0.9933\n",
            "Epoch 12/50\n",
            "8000/8000 [==============================] - 2s 256us/sample - loss: 0.0127 - acc: 0.9958\n",
            "Epoch 13/50\n",
            "8000/8000 [==============================] - 2s 258us/sample - loss: 0.0122 - acc: 0.9956\n",
            "Epoch 14/50\n",
            "8000/8000 [==============================] - 2s 258us/sample - loss: 0.0115 - acc: 0.9956\n",
            "Epoch 15/50\n",
            "8000/8000 [==============================] - 2s 258us/sample - loss: 0.0090 - acc: 0.9965\n",
            "Epoch 16/50\n",
            "8000/8000 [==============================] - 2s 259us/sample - loss: 0.0085 - acc: 0.9969\n",
            "Epoch 17/50\n",
            "8000/8000 [==============================] - 2s 257us/sample - loss: 0.0082 - acc: 0.9965\n",
            "Epoch 18/50\n",
            "8000/8000 [==============================] - 2s 260us/sample - loss: 0.0062 - acc: 0.9979\n",
            "Epoch 19/50\n",
            "8000/8000 [==============================] - 2s 260us/sample - loss: 0.0049 - acc: 0.9980\n",
            "Epoch 20/50\n",
            "8000/8000 [==============================] - 2s 260us/sample - loss: 0.0065 - acc: 0.9981\n",
            "Epoch 21/50\n",
            "8000/8000 [==============================] - 2s 256us/sample - loss: 0.0047 - acc: 0.9981\n",
            "Epoch 22/50\n",
            "8000/8000 [==============================] - 2s 258us/sample - loss: 0.0055 - acc: 0.9983\n",
            "Epoch 23/50\n",
            "8000/8000 [==============================] - 2s 259us/sample - loss: 0.0026 - acc: 0.9994\n",
            "Epoch 24/50\n",
            "8000/8000 [==============================] - 2s 258us/sample - loss: 0.0028 - acc: 0.9991\n",
            "Epoch 25/50\n",
            "8000/8000 [==============================] - 2s 260us/sample - loss: 0.0020 - acc: 0.9991\n",
            "Epoch 26/50\n",
            "8000/8000 [==============================] - 2s 258us/sample - loss: 0.0042 - acc: 0.9989\n",
            "Epoch 27/50\n",
            "8000/8000 [==============================] - 2s 257us/sample - loss: 0.0015 - acc: 0.9994\n",
            "Epoch 28/50\n",
            "8000/8000 [==============================] - 2s 261us/sample - loss: 0.0039 - acc: 0.9984\n",
            "Epoch 29/50\n",
            "8000/8000 [==============================] - 2s 261us/sample - loss: 0.0029 - acc: 0.9989\n",
            "Epoch 30/50\n",
            "8000/8000 [==============================] - 2s 260us/sample - loss: 0.0029 - acc: 0.9994\n",
            "Epoch 31/50\n",
            "8000/8000 [==============================] - 2s 260us/sample - loss: 0.0016 - acc: 0.9992\n",
            "Epoch 32/50\n",
            "8000/8000 [==============================] - 2s 259us/sample - loss: 0.0018 - acc: 0.9994\n",
            "Epoch 33/50\n",
            "8000/8000 [==============================] - 2s 258us/sample - loss: 0.0027 - acc: 0.9992\n",
            "Epoch 34/50\n",
            "8000/8000 [==============================] - 2s 259us/sample - loss: 0.0013 - acc: 0.9995\n",
            "Epoch 35/50\n",
            "8000/8000 [==============================] - 2s 260us/sample - loss: 0.0021 - acc: 0.9994\n",
            "Epoch 36/50\n",
            "8000/8000 [==============================] - 2s 259us/sample - loss: 0.0036 - acc: 0.9986\n",
            "Epoch 37/50\n",
            "8000/8000 [==============================] - 2s 259us/sample - loss: 0.0022 - acc: 0.9991\n",
            "Epoch 38/50\n",
            "8000/8000 [==============================] - 2s 261us/sample - loss: 8.5282e-04 - acc: 0.9998\n",
            "Epoch 39/50\n",
            "8000/8000 [==============================] - 2s 259us/sample - loss: 0.0038 - acc: 0.9994\n",
            "Epoch 40/50\n",
            "8000/8000 [==============================] - 2s 260us/sample - loss: 6.9488e-04 - acc: 0.9996\n",
            "Epoch 41/50\n",
            "8000/8000 [==============================] - 2s 260us/sample - loss: 3.0232e-04 - acc: 0.9999\n",
            "Epoch 42/50\n",
            "8000/8000 [==============================] - 2s 260us/sample - loss: 3.0752e-04 - acc: 1.0000\n",
            "Epoch 43/50\n",
            "8000/8000 [==============================] - 2s 259us/sample - loss: 2.2530e-05 - acc: 1.0000\n",
            "Epoch 44/50\n",
            "8000/8000 [==============================] - 2s 258us/sample - loss: 0.0013 - acc: 0.9995\n",
            "Epoch 45/50\n",
            "8000/8000 [==============================] - 2s 259us/sample - loss: 0.0013 - acc: 0.9999\n",
            "Epoch 46/50\n",
            "8000/8000 [==============================] - 2s 260us/sample - loss: 0.0016 - acc: 0.9992\n",
            "Epoch 47/50\n",
            "8000/8000 [==============================] - 2s 260us/sample - loss: 7.1596e-04 - acc: 0.9999\n",
            "Epoch 48/50\n",
            "8000/8000 [==============================] - 2s 259us/sample - loss: 0.0019 - acc: 0.9994\n",
            "Epoch 49/50\n",
            "8000/8000 [==============================] - 2s 259us/sample - loss: 8.9158e-04 - acc: 0.9999\n",
            "Epoch 50/50\n",
            "8000/8000 [==============================] - 2s 258us/sample - loss: 2.8540e-04 - acc: 0.9999\n",
            "2000/2000 [==============================] - 0s 190us/sample - loss: 0.1737 - acc: 0.9800\n"
          ],
          "name": "stdout"
        }
      ]
    },
    {
      "metadata": {
        "id": "MjZATJE2-3Bg",
        "colab_type": "code",
        "colab": {
          "base_uri": "https://localhost:8080/",
          "height": 735
        },
        "outputId": "da807d23-04b3-4a30-c3fe-5b7d13cbf3da"
      },
      "cell_type": "code",
      "source": [
        "# Plot training accuracy values\n",
        "plt.plot(history1.history['acc'], color='green', label='stride1x2,sigmoid')\n",
        "plt.title('Model accuracy')\n",
        "plt.ylabel('Accuracy')\n",
        "plt.xlabel('Epoch')\n",
        "plt.legend()\n",
        "plt.show()\n",
        "\n",
        "# Plot training loss values\n",
        "plt.plot(history1.history['loss'], color='green', label='stride1x2,sigmoid')\n",
        "plt.title('Model loss')\n",
        "plt.ylabel('Loss')\n",
        "plt.xlabel('Epoch')\n",
        "plt.legend()\n",
        "plt.show()\n",
        "\n",
        "\n"
      ],
      "execution_count": 69,
      "outputs": [
        {
          "output_type": "display_data",
          "data": {
            "image/png": "[encoded data removed]",
            "text/plain": [
              "<Figure size 576x396 with 1 Axes>"
            ]
          },
          "metadata": {
            "tags": []
          }
        },
        {
          "output_type": "display_data",
          "data": {
            "image/png": "[encoded data removed]",
            "text/plain": [
              "<Figure size 576x396 with 1 Axes>"
            ]
          },
          "metadata": {
            "tags": []
          }
        }
      ]
    },
    {
      "metadata": {
        "id": "HcmXvalPlfaV",
        "colab_type": "code",
        "colab": {
          "base_uri": "https://localhost:8080/",
          "height": 340
        },
        "outputId": "b583c0aa-8082-4ae4-efd5-fc40ce190367"
      },
      "cell_type": "code",
      "source": [
        "model = tf.keras.models.Sequential()\n",
        "model.add(tf.keras.layers.Conv3D(8, (3,3,3), activation='relu', input_shape=(12, 14, 14, 1)))\n",
        "model.add(tf.keras.layers.MaxPooling3D(pool_size=(2, 2, 2), strides=(2, 2, 2)))\n",
        "model.add(tf.keras.layers.BatchNormalization())\n",
        "#model.add(tf.keras.layers.Conv3D(16, (1,3,3), activation='relu'))\n",
        "#model.add(tf.keras.layers.MaxPooling3D(pool_size=(1, 2, 2), strides=(1, 2, 2)))\n",
        "#model.add(tf.keras.layers.BatchNormalization())\n",
        "\n",
        "\n",
        "#FC Layers\n",
        "model.add(tf.keras.layers.Flatten())\n",
        "model.add(tf.keras.layers.Dense(128))\n",
        "model.add(tf.keras.layers.Dense(1, activation='sigmoid'))\n",
        "\n",
        "model.summary()\n",
        "\n"
      ],
      "execution_count": 70,
      "outputs": [
        {
          "output_type": "stream",
          "text": [
            "_________________________________________________________________\n",
            "Layer (type)                 Output Shape              Param #   \n",
            "=================================================================\n",
            "conv3d_13 (Conv3D)           (None, 10, 12, 12, 8)     224       \n",
            "_________________________________________________________________\n",
            "max_pooling3d_13 (MaxPooling (None, 5, 6, 6, 8)        0         \n",
            "_________________________________________________________________\n",
            "batch_normalization_v1_12 (B (None, 5, 6, 6, 8)        32        \n",
            "_________________________________________________________________\n",
            "flatten_12 (Flatten)         (None, 1440)              0         \n",
            "_________________________________________________________________\n",
            "dense_24 (Dense)             (None, 128)               184448    \n",
            "_________________________________________________________________\n",
            "dense_25 (Dense)             (None, 1)                 129       \n",
            "=================================================================\n",
            "Total params: 184,833\n",
            "Trainable params: 184,817\n",
            "Non-trainable params: 16\n",
            "_________________________________________________________________\n"
          ],
          "name": "stdout"
        }
      ]
    },
    {
      "metadata": {
        "id": "T4XA10JYlfaZ",
        "colab_type": "code",
        "colab": {
          "base_uri": "https://localhost:8080/",
          "height": 1734
        },
        "outputId": "f0cd1af8-1a0e-4360-ea90-b315e647077b"
      },
      "cell_type": "code",
      "source": [
        "import matplotlib.pyplot as plt\n",
        "from tensorflow.keras.optimizers import RMSprop\n",
        "\n",
        "model.compile(loss='binary_crossentropy',\n",
        "              optimizer=RMSprop(lr=0.0003),\n",
        "              metrics=['acc'])\n",
        "\n",
        "history2 = model.fit(X_train, y_train, epochs=50, verbose=1)\n",
        "test_loss = model.evaluate(X_test, y_test)\n",
        "\n",
        "\n",
        "#model.fit(X_train, y_train, epochs=30)\n",
        "#test_loss = model.evaluate(X_test, y_test)\n",
        "\n",
        "#model.fit(X_train, y_train, epochs=10,\n",
        "#          validation_data=(X_test, y_test),\n",
        "#          callbacks=[TrainValTensorBoard(write_graph=False)])"
      ],
      "execution_count": 71,
      "outputs": [
        {
          "output_type": "stream",
          "text": [
            "Epoch 1/50\n",
            "8000/8000 [==============================] - 2s 302us/sample - loss: 0.1915 - acc: 0.9290\n",
            "Epoch 2/50\n",
            "8000/8000 [==============================] - 2s 254us/sample - loss: 0.0877 - acc: 0.9691\n",
            "Epoch 3/50\n",
            "8000/8000 [==============================] - 2s 253us/sample - loss: 0.0692 - acc: 0.9744\n",
            "Epoch 4/50\n",
            "8000/8000 [==============================] - 2s 254us/sample - loss: 0.0551 - acc: 0.9810\n",
            "Epoch 5/50\n",
            "8000/8000 [==============================] - 2s 253us/sample - loss: 0.0430 - acc: 0.9847\n",
            "Epoch 6/50\n",
            "8000/8000 [==============================] - 2s 256us/sample - loss: 0.0356 - acc: 0.9875\n",
            "Epoch 7/50\n",
            "8000/8000 [==============================] - 2s 257us/sample - loss: 0.0289 - acc: 0.9904\n",
            "Epoch 8/50\n",
            "8000/8000 [==============================] - 2s 255us/sample - loss: 0.0290 - acc: 0.9904\n",
            "Epoch 9/50\n",
            "8000/8000 [==============================] - 2s 255us/sample - loss: 0.0230 - acc: 0.9915\n",
            "Epoch 10/50\n",
            "8000/8000 [==============================] - 2s 255us/sample - loss: 0.0199 - acc: 0.9940\n",
            "Epoch 11/50\n",
            "8000/8000 [==============================] - 2s 254us/sample - loss: 0.0176 - acc: 0.9945\n",
            "Epoch 12/50\n",
            "8000/8000 [==============================] - 2s 251us/sample - loss: 0.0159 - acc: 0.9944\n",
            "Epoch 13/50\n",
            "8000/8000 [==============================] - 2s 253us/sample - loss: 0.0122 - acc: 0.9965\n",
            "Epoch 14/50\n",
            "8000/8000 [==============================] - 2s 252us/sample - loss: 0.0133 - acc: 0.9960\n",
            "Epoch 15/50\n",
            "8000/8000 [==============================] - 2s 254us/sample - loss: 0.0094 - acc: 0.9962\n",
            "Epoch 16/50\n",
            "8000/8000 [==============================] - 2s 254us/sample - loss: 0.0091 - acc: 0.9973\n",
            "Epoch 17/50\n",
            "8000/8000 [==============================] - 2s 255us/sample - loss: 0.0068 - acc: 0.9976\n",
            "Epoch 18/50\n",
            "8000/8000 [==============================] - 2s 251us/sample - loss: 0.0068 - acc: 0.9973\n",
            "Epoch 19/50\n",
            "8000/8000 [==============================] - 2s 253us/sample - loss: 0.0064 - acc: 0.9976\n",
            "Epoch 20/50\n",
            "8000/8000 [==============================] - 2s 255us/sample - loss: 0.0044 - acc: 0.9985\n",
            "Epoch 21/50\n",
            "8000/8000 [==============================] - 2s 254us/sample - loss: 0.0035 - acc: 0.9990\n",
            "Epoch 22/50\n",
            "8000/8000 [==============================] - 2s 257us/sample - loss: 0.0042 - acc: 0.9987\n",
            "Epoch 23/50\n",
            "8000/8000 [==============================] - 2s 255us/sample - loss: 0.0037 - acc: 0.9989\n",
            "Epoch 24/50\n",
            "8000/8000 [==============================] - 2s 253us/sample - loss: 0.0051 - acc: 0.9980\n",
            "Epoch 25/50\n",
            "8000/8000 [==============================] - 2s 256us/sample - loss: 0.0044 - acc: 0.9989\n",
            "Epoch 26/50\n",
            "8000/8000 [==============================] - 2s 256us/sample - loss: 0.0022 - acc: 0.9994\n",
            "Epoch 27/50\n",
            "8000/8000 [==============================] - 2s 257us/sample - loss: 0.0028 - acc: 0.9992\n",
            "Epoch 28/50\n",
            "8000/8000 [==============================] - 2s 256us/sample - loss: 0.0020 - acc: 0.9994\n",
            "Epoch 29/50\n",
            "8000/8000 [==============================] - 2s 256us/sample - loss: 0.0021 - acc: 0.9995\n",
            "Epoch 30/50\n",
            "8000/8000 [==============================] - 2s 258us/sample - loss: 0.0020 - acc: 0.9994\n",
            "Epoch 31/50\n",
            "8000/8000 [==============================] - 2s 258us/sample - loss: 0.0011 - acc: 0.9996\n",
            "Epoch 32/50\n",
            "8000/8000 [==============================] - 2s 256us/sample - loss: 0.0017 - acc: 0.9995\n",
            "Epoch 33/50\n",
            "8000/8000 [==============================] - 2s 255us/sample - loss: 9.9125e-04 - acc: 0.9995\n",
            "Epoch 34/50\n",
            "8000/8000 [==============================] - 2s 254us/sample - loss: 0.0015 - acc: 0.9994\n",
            "Epoch 35/50\n",
            "8000/8000 [==============================] - 2s 257us/sample - loss: 0.0032 - acc: 0.9991\n",
            "Epoch 36/50\n",
            "8000/8000 [==============================] - 2s 260us/sample - loss: 0.0018 - acc: 0.9995\n",
            "Epoch 37/50\n",
            "8000/8000 [==============================] - 2s 255us/sample - loss: 0.0021 - acc: 0.9992\n",
            "Epoch 38/50\n",
            "8000/8000 [==============================] - 2s 252us/sample - loss: 0.0011 - acc: 0.9996\n",
            "Epoch 39/50\n",
            "8000/8000 [==============================] - 2s 254us/sample - loss: 0.0011 - acc: 0.9999\n",
            "Epoch 40/50\n",
            "8000/8000 [==============================] - 2s 252us/sample - loss: 0.0010 - acc: 0.9995\n",
            "Epoch 41/50\n",
            "8000/8000 [==============================] - 2s 255us/sample - loss: 3.5890e-04 - acc: 0.9999\n",
            "Epoch 42/50\n",
            "8000/8000 [==============================] - 2s 254us/sample - loss: 5.9445e-04 - acc: 0.9998\n",
            "Epoch 43/50\n",
            "8000/8000 [==============================] - 2s 255us/sample - loss: 0.0020 - acc: 0.9991\n",
            "Epoch 44/50\n",
            "8000/8000 [==============================] - 2s 256us/sample - loss: 0.0010 - acc: 0.9996\n",
            "Epoch 45/50\n",
            "8000/8000 [==============================] - 2s 255us/sample - loss: 0.0020 - acc: 0.9991\n",
            "Epoch 46/50\n",
            "8000/8000 [==============================] - 2s 254us/sample - loss: 2.9662e-04 - acc: 1.0000\n",
            "Epoch 47/50\n",
            "8000/8000 [==============================] - 2s 254us/sample - loss: 6.5403e-04 - acc: 0.9996\n",
            "Epoch 48/50\n",
            "8000/8000 [==============================] - 2s 255us/sample - loss: 3.3821e-04 - acc: 1.0000\n",
            "Epoch 49/50\n",
            "8000/8000 [==============================] - 2s 255us/sample - loss: 0.0014 - acc: 0.9995\n",
            "Epoch 50/50\n",
            "8000/8000 [==============================] - 2s 257us/sample - loss: 4.3177e-04 - acc: 0.9999\n",
            "2000/2000 [==============================] - 0s 209us/sample - loss: 0.2424 - acc: 0.9745\n"
          ],
          "name": "stdout"
        }
      ]
    },
    {
      "metadata": {
        "id": "Iy-jVqBVlfad",
        "colab_type": "code",
        "colab": {
          "base_uri": "https://localhost:8080/",
          "height": 735
        },
        "outputId": "0223f5a4-6faa-454d-bf45-e2e2f1429829"
      },
      "cell_type": "code",
      "source": [
        "# Plot training accuracy values\n",
        "plt.plot(history1.history['acc'], color='green', label='stride1x2,sigmoid')\n",
        "plt.plot(history2.history['acc'], color='red', label='stride2x2,sigmoid')\n",
        "plt.title('Model accuracy')\n",
        "plt.ylabel('Accuracy')\n",
        "plt.xlabel('Epoch')\n",
        "plt.legend()\n",
        "plt.show()\n",
        "\n",
        "# Plot training loss values\n",
        "plt.plot(history1.history['loss'], color='green', label='stride1x2,sigmoid')\n",
        "plt.plot(history2.history['loss'], color='red', label='stride2x2,sigmoid')\n",
        "plt.title('Model loss')\n",
        "plt.ylabel('Loss')\n",
        "plt.xlabel('Epoch')\n",
        "plt.legend()\n",
        "plt.show()\n",
        "\n"
      ],
      "execution_count": 72,
      "outputs": [
        {
          "output_type": "display_data",
          "data": {
            "image/png": "[encoded data removed]",
            "text/plain": [
              "<Figure size 576x396 with 1 Axes>"
            ]
          },
          "metadata": {
            "tags": []
          }
        },
        {
          "output_type": "display_data",
          "data": {
            "image/png": "[encoded data removed]",
            "text/plain": [
              "<Figure size 576x396 with 1 Axes>"
            ]
          },
          "metadata": {
            "tags": []
          }
        }
      ]
    },
    {
      "metadata": {
        "id": "kk1eVkdnlfaj",
        "colab_type": "code",
        "colab": {
          "base_uri": "https://localhost:8080/",
          "height": 340
        },
        "outputId": "58af9ca6-be30-4249-dd3c-47b381a852ef"
      },
      "cell_type": "code",
      "source": [
        "model = tf.keras.models.Sequential()\n",
        "model.add(tf.keras.layers.Conv3D(8, (3,3,3), activation='relu', input_shape=(12, 14, 14, 1)))\n",
        "model.add(tf.keras.layers.MaxPooling3D(pool_size=(2, 2, 2), strides=(1, 2, 2)))\n",
        "model.add(tf.keras.layers.BatchNormalization())\n",
        "#model.add(tf.keras.layers.Conv3D(16, (1,3,3), activation='relu'))\n",
        "#model.add(tf.keras.layers.MaxPooling3D(pool_size=(1, 2, 2), strides=(1, 2, 2)))\n",
        "#model.add(tf.keras.layers.BatchNormalization())\n",
        "\n",
        "\n",
        "#FC Layers\n",
        "model.add(tf.keras.layers.Flatten())\n",
        "model.add(tf.keras.layers.Dense(128))\n",
        "model.add(tf.keras.layers.Dense(1, activation='tanh'))\n",
        "\n",
        "model.summary()\n",
        "\n",
        "\n"
      ],
      "execution_count": 73,
      "outputs": [
        {
          "output_type": "stream",
          "text": [
            "_________________________________________________________________\n",
            "Layer (type)                 Output Shape              Param #   \n",
            "=================================================================\n",
            "conv3d_14 (Conv3D)           (None, 10, 12, 12, 8)     224       \n",
            "_________________________________________________________________\n",
            "max_pooling3d_14 (MaxPooling (None, 9, 6, 6, 8)        0         \n",
            "_________________________________________________________________\n",
            "batch_normalization_v1_13 (B (None, 9, 6, 6, 8)        32        \n",
            "_________________________________________________________________\n",
            "flatten_13 (Flatten)         (None, 2592)              0         \n",
            "_________________________________________________________________\n",
            "dense_26 (Dense)             (None, 128)               331904    \n",
            "_________________________________________________________________\n",
            "dense_27 (Dense)             (None, 1)                 129       \n",
            "=================================================================\n",
            "Total params: 332,289\n",
            "Trainable params: 332,273\n",
            "Non-trainable params: 16\n",
            "_________________________________________________________________\n"
          ],
          "name": "stdout"
        }
      ]
    },
    {
      "metadata": {
        "id": "MA2XSOdKlfam",
        "colab_type": "code",
        "colab": {
          "base_uri": "https://localhost:8080/",
          "height": 1734
        },
        "outputId": "6c934c6f-ab4b-4961-db03-b3d72a76beb4"
      },
      "cell_type": "code",
      "source": [
        "import matplotlib.pyplot as plt\n",
        "from tensorflow.keras.optimizers import RMSprop\n",
        "\n",
        "model.compile(loss='binary_crossentropy',\n",
        "              optimizer=RMSprop(lr=0.0003),\n",
        "              metrics=['acc'])\n",
        "\n",
        "history3 = model.fit(X_train, y_train, epochs=50, verbose=1)\n",
        "test_loss = model.evaluate(X_test, y_test)\n",
        "\n",
        "\n",
        "#model.fit(X_train, y_train, epochs=30)\n",
        "#test_loss = model.evaluate(X_test, y_test)\n",
        "\n",
        "#model.fit(X_train, y_train, epochs=10,\n",
        "#          validation_data=(X_test, y_test),\n",
        "#          callbacks=[TrainValTensorBoard(write_graph=False)])"
      ],
      "execution_count": 74,
      "outputs": [
        {
          "output_type": "stream",
          "text": [
            "Epoch 1/50\n",
            "8000/8000 [==============================] - 3s 315us/sample - loss: 1.5144 - acc: 0.8764\n",
            "Epoch 2/50\n",
            "8000/8000 [==============================] - 2s 262us/sample - loss: 0.7146 - acc: 0.9383\n",
            "Epoch 3/50\n",
            "8000/8000 [==============================] - 2s 264us/sample - loss: 0.5983 - acc: 0.9501\n",
            "Epoch 4/50\n",
            "8000/8000 [==============================] - 2s 263us/sample - loss: 0.5328 - acc: 0.9574\n",
            "Epoch 5/50\n",
            "8000/8000 [==============================] - 2s 262us/sample - loss: 0.5286 - acc: 0.9564\n",
            "Epoch 6/50\n",
            "8000/8000 [==============================] - 2s 263us/sample - loss: 0.5046 - acc: 0.9551\n",
            "Epoch 7/50\n",
            "8000/8000 [==============================] - 2s 267us/sample - loss: 0.4684 - acc: 0.9651\n",
            "Epoch 8/50\n",
            "8000/8000 [==============================] - 2s 265us/sample - loss: 0.3427 - acc: 0.9750\n",
            "Epoch 9/50\n",
            "8000/8000 [==============================] - 2s 264us/sample - loss: 0.3543 - acc: 0.9731\n",
            "Epoch 10/50\n",
            "8000/8000 [==============================] - 2s 264us/sample - loss: 0.2838 - acc: 0.9769\n",
            "Epoch 11/50\n",
            "8000/8000 [==============================] - 2s 266us/sample - loss: 0.2604 - acc: 0.9796\n",
            "Epoch 12/50\n",
            "8000/8000 [==============================] - 2s 264us/sample - loss: 0.2547 - acc: 0.9797\n",
            "Epoch 13/50\n",
            "8000/8000 [==============================] - 2s 262us/sample - loss: 0.2803 - acc: 0.9783\n",
            "Epoch 14/50\n",
            "8000/8000 [==============================] - 2s 266us/sample - loss: 0.2403 - acc: 0.9811\n",
            "Epoch 15/50\n",
            "8000/8000 [==============================] - 2s 263us/sample - loss: 0.2243 - acc: 0.9824\n",
            "Epoch 16/50\n",
            "8000/8000 [==============================] - 2s 264us/sample - loss: 0.1970 - acc: 0.9852\n",
            "Epoch 17/50\n",
            "8000/8000 [==============================] - 2s 266us/sample - loss: 0.1725 - acc: 0.9859\n",
            "Epoch 18/50\n",
            "8000/8000 [==============================] - 2s 265us/sample - loss: 0.1938 - acc: 0.9856\n",
            "Epoch 19/50\n",
            "8000/8000 [==============================] - 2s 265us/sample - loss: 0.1637 - acc: 0.9865\n",
            "Epoch 20/50\n",
            "8000/8000 [==============================] - 2s 264us/sample - loss: 0.1605 - acc: 0.9872\n",
            "Epoch 21/50\n",
            "8000/8000 [==============================] - 2s 262us/sample - loss: 0.1484 - acc: 0.9883\n",
            "Epoch 22/50\n",
            "8000/8000 [==============================] - 2s 265us/sample - loss: 0.1453 - acc: 0.9858\n",
            "Epoch 23/50\n",
            "8000/8000 [==============================] - 2s 264us/sample - loss: 0.1440 - acc: 0.9884\n",
            "Epoch 24/50\n",
            "8000/8000 [==============================] - 2s 265us/sample - loss: 0.1344 - acc: 0.9896\n",
            "Epoch 25/50\n",
            "8000/8000 [==============================] - 2s 265us/sample - loss: 0.1314 - acc: 0.9885\n",
            "Epoch 26/50\n",
            "8000/8000 [==============================] - 2s 266us/sample - loss: 0.1154 - acc: 0.9909\n",
            "Epoch 27/50\n",
            "8000/8000 [==============================] - 2s 263us/sample - loss: 0.1242 - acc: 0.9899\n",
            "Epoch 28/50\n",
            "8000/8000 [==============================] - 2s 264us/sample - loss: 0.1381 - acc: 0.9901\n",
            "Epoch 29/50\n",
            "8000/8000 [==============================] - 2s 264us/sample - loss: 0.1495 - acc: 0.9891\n",
            "Epoch 30/50\n",
            "8000/8000 [==============================] - 2s 266us/sample - loss: 0.1146 - acc: 0.9923\n",
            "Epoch 31/50\n",
            "8000/8000 [==============================] - 2s 265us/sample - loss: 0.1150 - acc: 0.9915\n",
            "Epoch 32/50\n",
            "8000/8000 [==============================] - 2s 263us/sample - loss: 0.1060 - acc: 0.9912\n",
            "Epoch 33/50\n",
            "8000/8000 [==============================] - 2s 264us/sample - loss: 0.1380 - acc: 0.9899\n",
            "Epoch 34/50\n",
            "8000/8000 [==============================] - 2s 263us/sample - loss: 0.1226 - acc: 0.9911\n",
            "Epoch 35/50\n",
            "8000/8000 [==============================] - 2s 266us/sample - loss: 0.1240 - acc: 0.9912\n",
            "Epoch 36/50\n",
            "8000/8000 [==============================] - 2s 266us/sample - loss: 0.1082 - acc: 0.9926\n",
            "Epoch 37/50\n",
            "8000/8000 [==============================] - 2s 266us/sample - loss: 0.0948 - acc: 0.9915\n",
            "Epoch 38/50\n",
            "8000/8000 [==============================] - 2s 261us/sample - loss: 0.0938 - acc: 0.9927\n",
            "Epoch 39/50\n",
            "8000/8000 [==============================] - 2s 263us/sample - loss: 0.1014 - acc: 0.9923\n",
            "Epoch 40/50\n",
            "8000/8000 [==============================] - 2s 266us/sample - loss: 0.0968 - acc: 0.9934\n",
            "Epoch 41/50\n",
            "8000/8000 [==============================] - 2s 268us/sample - loss: 0.0920 - acc: 0.9926\n",
            "Epoch 42/50\n",
            "8000/8000 [==============================] - 2s 265us/sample - loss: 0.0854 - acc: 0.9934\n",
            "Epoch 43/50\n",
            "8000/8000 [==============================] - 2s 264us/sample - loss: 0.0802 - acc: 0.9937\n",
            "Epoch 44/50\n",
            "8000/8000 [==============================] - 2s 264us/sample - loss: 0.0802 - acc: 0.9940\n",
            "Epoch 45/50\n",
            "8000/8000 [==============================] - 2s 265us/sample - loss: 0.0827 - acc: 0.9937\n",
            "Epoch 46/50\n",
            "8000/8000 [==============================] - 2s 263us/sample - loss: 0.0816 - acc: 0.9940\n",
            "Epoch 47/50\n",
            "8000/8000 [==============================] - 2s 263us/sample - loss: 0.0713 - acc: 0.9946\n",
            "Epoch 48/50\n",
            "8000/8000 [==============================] - 2s 263us/sample - loss: 0.0842 - acc: 0.9935\n",
            "Epoch 49/50\n",
            "8000/8000 [==============================] - 2s 264us/sample - loss: 0.0884 - acc: 0.9937\n",
            "Epoch 50/50\n",
            "8000/8000 [==============================] - 2s 263us/sample - loss: 0.0801 - acc: 0.9942\n",
            "2000/2000 [==============================] - 0s 211us/sample - loss: 0.2479 - acc: 0.9780\n"
          ],
          "name": "stdout"
        }
      ]
    },
    {
      "metadata": {
        "id": "xWFWNo8PDH-a",
        "colab_type": "code",
        "colab": {
          "base_uri": "https://localhost:8080/",
          "height": 735
        },
        "outputId": "5033e0c6-d420-4cea-c842-617772de6dba"
      },
      "cell_type": "code",
      "source": [
        "# Plot training accuracy values\n",
        "plt.plot(history1.history['acc'], color='green', label='stride1x2,sigmoid')\n",
        "plt.plot(history2.history['acc'], color='red', label='stride2x2,sigmoid')\n",
        "plt.plot(history3.history['acc'], color='blue', label='stride1x2,tanh')\n",
        "plt.title('Model accuracy')\n",
        "plt.ylabel('Accuracy')\n",
        "plt.xlabel('Epoch')\n",
        "plt.legend()\n",
        "plt.show()\n",
        "\n",
        "# Plot training loss values\n",
        "plt.plot(history1.history['loss'], color='green', label='stride1x2,sigmoid')\n",
        "plt.plot(history2.history['loss'], color='red', label='stride2x2,sigmoid')\n",
        "plt.plot(history3.history['loss'], color='blue', label='stride1x2,tanh')\n",
        "plt.title('Model loss')\n",
        "plt.ylabel('Loss')\n",
        "plt.xlabel('Epoch')\n",
        "plt.legend()\n",
        "plt.show()\n",
        "\n",
        "\n"
      ],
      "execution_count": 75,
      "outputs": [
        {
          "output_type": "display_data",
          "data": {
            "image/png": "[encoded data removed]",
            "text/plain": [
              "<Figure size 576x396 with 1 Axes>"
            ]
          },
          "metadata": {
            "tags": []
          }
        },
        {
          "output_type": "display_data",
          "data": {
            "image/png": "[encoded data removed]",
            "text/plain": [
              "<Figure size 576x396 with 1 Axes>"
            ]
          },
          "metadata": {
            "tags": []
          }
        }
      ]
    },
    {
      "metadata": {
        "id": "BDUcICa5Dt7T",
        "colab_type": "code",
        "colab": {}
      },
      "cell_type": "code",
      "source": [
        ""
      ],
      "execution_count": 0,
      "outputs": []
    }
  ]
}