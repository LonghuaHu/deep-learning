{
  "nbformat": 4,
  "nbformat_minor": 0,
  "metadata": {
    "colab": {
      "name": "WCNN_100.ipynb",
      "version": "0.3.2",
      "provenance": [],
      "machine_shape": "hm",
      "include_colab_link": true
    },
    "kernelspec": {
      "name": "python3",
      "display_name": "Python 3"
    },
    "accelerator": "GPU"
  },
  "cells": [
    {
      "cell_type": "markdown",
      "metadata": {
        "id": "view-in-github",
        "colab_type": "text"
      },
      "source": [
        "<a href=\"https://colab.research.google.com/github/LonghuaHu/deep-learning/blob/master/WCNN_100.ipynb\" target=\"_parent\"><img src=\"https://colab.research.google.com/assets/colab-badge.svg\" alt=\"Open In Colab\"/></a>"
      ]
    },
    {
      "cell_type": "code",
      "metadata": {
        "id": "u23yNdBN5Bd9",
        "colab_type": "code",
        "outputId": "694f9030-0f4c-4aad-f700-b8e0248328c7",
        "colab": {
          "base_uri": "https://localhost:8080/",
          "height": 122
        }
      },
      "source": [
        "      from google.colab import drive\n",
        "drive.mount('/content/drive')"
      ],
      "execution_count": 1,
      "outputs": [
        {
          "output_type": "stream",
          "text": [
            "Go to this URL in a browser: https://accounts.google.com/o/oauth2/auth?client_id=947318989803-6bn6qk8qdgf4n4g3pfee6491hc0brc4i.apps.googleusercontent.com&redirect_uri=urn%3Aietf%3Awg%3Aoauth%3A2.0%3Aoob&scope=email%20https%3A%2F%2Fwww.googleapis.com%2Fauth%2Fdocs.test%20https%3A%2F%2Fwww.googleapis.com%2Fauth%2Fdrive%20https%3A%2F%2Fwww.googleapis.com%2Fauth%2Fdrive.photos.readonly%20https%3A%2F%2Fwww.googleapis.com%2Fauth%2Fpeopleapi.readonly&response_type=code\n",
            "\n",
            "Enter your authorization code:\n",
            "··········\n",
            "Mounted at /content/drive\n"
          ],
          "name": "stdout"
        }
      ]
    },
    {
      "cell_type": "code",
      "metadata": {
        "id": "mv_5ZzGY5DrO",
        "colab_type": "code",
        "outputId": "ea6181d2-5f8e-438c-ecda-1f3cd4711236",
        "colab": {
          "base_uri": "https://localhost:8080/",
          "height": 51
        }
      },
      "source": [
        "import numpy as np\n",
        "from sklearn.model_selection import train_test_split\n",
        "import h5py \n",
        "#data\n",
        "f = h5py.File('/content/drive/My Drive/Colab Notebooks/catdog/waveletImages.mat','r') \n",
        "\n",
        "X = f['waveletImages'][:]\n",
        "#data = data.T\n",
        "print(X.shape)\n",
        "\n",
        "#lable\n",
        "#f = h5py.File('/content/drive/My Drive/Colab Notebooks/new_quaternionImagesLabels.mat','r') \n",
        "y = f['waveletImagesLabels'][:]\n",
        "y = y.T\n",
        "print(y.shape)\n",
        "\n",
        "\n"
      ],
      "execution_count": 2,
      "outputs": [
        {
          "output_type": "stream",
          "text": [
            "(25000, 4, 75, 75)\n",
            "(25000, 1)\n"
          ],
          "name": "stdout"
        }
      ]
    },
    {
      "cell_type": "code",
      "metadata": {
        "id": "mu3rsq3F6X8t",
        "colab_type": "code",
        "colab": {}
      },
      "source": [
        "X_train, X_test, y_train, y_test = train_test_split(\n",
        "X, y, test_size=0.996, random_state=42)"
      ],
      "execution_count": 0,
      "outputs": []
    },
    {
      "cell_type": "code",
      "metadata": {
        "id": "OZ6TX0te7xQW",
        "colab_type": "code",
        "outputId": "fc7a4343-2817-409b-8591-a85a81fc1656",
        "colab": {
          "base_uri": "https://localhost:8080/",
          "height": 102
        }
      },
      "source": [
        "X_train = X_train.reshape(X_train.shape[0], X_train.shape[1], X_train.shape[2], X_train.shape[3],1)\n",
        "X_test = X_test.reshape(X_test.shape[0], X_train.shape[1], X_train.shape[2], X_train.shape[3],1)\n",
        "#training_labels = training_labels[0]\n",
        "y_train.astype(int)\n",
        "y_test.astype(int)\n",
        "print('Number of training examples: ' + str(X_train.shape[0]))\n",
        "print('Training images shape:' + str(X_train.shape))\n",
        "print('Training labels shape:' + str(y_train.shape))\n",
        "print('Test images shape:' + str(X_test.shape))\n",
        "print('Test labels shape:' + str(y_test.shape))"
      ],
      "execution_count": 4,
      "outputs": [
        {
          "output_type": "stream",
          "text": [
            "Number of training examples: 100\n",
            "Training images shape:(100, 4, 75, 75, 1)\n",
            "Training labels shape:(100, 1)\n",
            "Test images shape:(24900, 4, 75, 75, 1)\n",
            "Test labels shape:(24900, 1)\n"
          ],
          "name": "stdout"
        }
      ]
    },
    {
      "cell_type": "code",
      "metadata": {
        "id": "nEUqfn1r8Bbx",
        "colab_type": "code",
        "outputId": "5419e1ef-b4e0-4b4d-f6f7-78897fced602",
        "colab": {
          "base_uri": "https://localhost:8080/",
          "height": 34
        }
      },
      "source": [
        "import os\n",
        "import tensorflow as tf\n",
        "from keras.callbacks import TensorBoard"
      ],
      "execution_count": 5,
      "outputs": [
        {
          "output_type": "stream",
          "text": [
            "Using TensorFlow backend.\n"
          ],
          "name": "stderr"
        }
      ]
    },
    {
      "cell_type": "code",
      "metadata": {
        "id": "h9I_QqWB8EIj",
        "colab_type": "code",
        "outputId": "a251b975-f7c3-4c64-fcce-b2b2a7b850fb",
        "colab": {
          "base_uri": "https://localhost:8080/",
          "height": 615
        }
      },
      "source": [
        "model = tf.keras.models.Sequential()\n",
        "model.add(tf.keras.layers.Conv3D(32, (1,3,3), activation='relu', input_shape=(4, 75, 75, 1)))\n",
        "#model.add(tf.keras.layers.MaxPooling3D(pool_size=(1, 2, 2), strides=(1, 2, 2)))\n",
        "#model.add(tf.keras.layers.BatchNormalization())\n",
        "model.add(tf.keras.layers.Conv3D(64, (1,3,3), activation='relu'))\n",
        "model.add(tf.keras.layers.MaxPooling3D(pool_size=(1, 2, 2), strides=(1, 2, 2)))\n",
        "model.add(tf.keras.layers.Conv3D(128, (1,3,3), activation='relu'))\n",
        "model.add(tf.keras.layers.MaxPooling3D(pool_size=(1, 2, 2), strides=(1, 2, 2)))\n",
        "model.add(tf.keras.layers.Conv3D(128, (1,3,3), activation='relu'))\n",
        "model.add(tf.keras.layers.MaxPooling3D(pool_size=(1, 2, 2), strides=(1, 2, 2)))\n",
        "model.add(tf.keras.layers.BatchNormalization())\n",
        "\n",
        "\n",
        "#FC Layers\n",
        "model.add(tf.keras.layers.Flatten())\n",
        "model.add(tf.keras.layers.Dense(512))\n",
        "model.add(tf.keras.layers.Dense(1, activation='sigmoid'))\n",
        "\n",
        "model.summary()\n",
        "\n"
      ],
      "execution_count": 6,
      "outputs": [
        {
          "output_type": "stream",
          "text": [
            "WARNING: Logging before flag parsing goes to stderr.\n",
            "W0905 02:14:19.620139 140509921568640 deprecation.py:506] From /usr/local/lib/python3.6/dist-packages/tensorflow/python/ops/init_ops.py:1251: calling VarianceScaling.__init__ (from tensorflow.python.ops.init_ops) with dtype is deprecated and will be removed in a future version.\n",
            "Instructions for updating:\n",
            "Call initializer instance with the dtype argument instead of passing it to the constructor\n"
          ],
          "name": "stderr"
        },
        {
          "output_type": "stream",
          "text": [
            "Model: \"sequential\"\n",
            "_________________________________________________________________\n",
            "Layer (type)                 Output Shape              Param #   \n",
            "=================================================================\n",
            "conv3d (Conv3D)              (None, 4, 73, 73, 32)     320       \n",
            "_________________________________________________________________\n",
            "conv3d_1 (Conv3D)            (None, 4, 71, 71, 64)     18496     \n",
            "_________________________________________________________________\n",
            "max_pooling3d (MaxPooling3D) (None, 4, 35, 35, 64)     0         \n",
            "_________________________________________________________________\n",
            "conv3d_2 (Conv3D)            (None, 4, 33, 33, 128)    73856     \n",
            "_________________________________________________________________\n",
            "max_pooling3d_1 (MaxPooling3 (None, 4, 16, 16, 128)    0         \n",
            "_________________________________________________________________\n",
            "conv3d_3 (Conv3D)            (None, 4, 14, 14, 128)    147584    \n",
            "_________________________________________________________________\n",
            "max_pooling3d_2 (MaxPooling3 (None, 4, 7, 7, 128)      0         \n",
            "_________________________________________________________________\n",
            "batch_normalization (BatchNo (None, 4, 7, 7, 128)      512       \n",
            "_________________________________________________________________\n",
            "flatten (Flatten)            (None, 25088)             0         \n",
            "_________________________________________________________________\n",
            "dense (Dense)                (None, 512)               12845568  \n",
            "_________________________________________________________________\n",
            "dense_1 (Dense)              (None, 1)                 513       \n",
            "=================================================================\n",
            "Total params: 13,086,849\n",
            "Trainable params: 13,086,593\n",
            "Non-trainable params: 256\n",
            "_________________________________________________________________\n"
          ],
          "name": "stdout"
        }
      ]
    },
    {
      "cell_type": "code",
      "metadata": {
        "id": "pO4n6R1o844x",
        "colab_type": "code",
        "outputId": "6f06592c-8229-41db-ade8-c56e01a0ebc5",
        "colab": {
          "base_uri": "https://localhost:8080/",
          "height": 785
        }
      },
      "source": [
        "import matplotlib.pyplot as plt\n",
        "from tensorflow.keras.optimizers import RMSprop\n",
        "\n",
        "model.compile(loss='binary_crossentropy',\n",
        "              optimizer=RMSprop(lr=0.0003),\n",
        "              metrics=['acc'])\n",
        "\n",
        "history_wcnn = model.fit(X_train, y_train, epochs=20, verbose=1)\n",
        "test_loss = model.evaluate(X_test, y_test)\n",
        "\n",
        "\n",
        "#model.fit(X_train, y_train, epochs=30)\n",
        "#test_loss = model.evaluate(X_test, y_test)\n",
        "\n",
        "#model.fit(X_train, y_train, epochs=10,\n",
        "#          validation_data=(X_test, y_test),\n",
        "#          callbacks=[TrainValTensorBoard(write_graph=False)])"
      ],
      "execution_count": 7,
      "outputs": [
        {
          "output_type": "stream",
          "text": [
            "W0905 02:14:23.427103 140509921568640 deprecation.py:323] From /usr/local/lib/python3.6/dist-packages/tensorflow/python/ops/nn_impl.py:180: add_dispatch_support.<locals>.wrapper (from tensorflow.python.ops.array_ops) is deprecated and will be removed in a future version.\n",
            "Instructions for updating:\n",
            "Use tf.where in 2.0, which has the same broadcast rule as np.where\n"
          ],
          "name": "stderr"
        },
        {
          "output_type": "stream",
          "text": [
            "Epoch 1/20\n",
            "100/100 [==============================] - 6s 55ms/sample - loss: 31.0840 - acc: 0.5600\n",
            "Epoch 2/20\n",
            "100/100 [==============================] - 0s 3ms/sample - loss: 17.4555 - acc: 0.5900\n",
            "Epoch 3/20\n",
            "100/100 [==============================] - 0s 3ms/sample - loss: 0.6508 - acc: 0.8900\n",
            "Epoch 4/20\n",
            "100/100 [==============================] - 0s 3ms/sample - loss: 10.4410 - acc: 0.5700\n",
            "Epoch 5/20\n",
            "100/100 [==============================] - 0s 3ms/sample - loss: 0.6104 - acc: 0.9100\n",
            "Epoch 6/20\n",
            "100/100 [==============================] - 0s 3ms/sample - loss: 0.0702 - acc: 0.9700\n",
            "Epoch 7/20\n",
            "100/100 [==============================] - 0s 3ms/sample - loss: 0.0130 - acc: 0.9900\n",
            "Epoch 8/20\n",
            "100/100 [==============================] - 0s 3ms/sample - loss: 2.4728 - acc: 0.8200\n",
            "Epoch 9/20\n",
            "100/100 [==============================] - 0s 3ms/sample - loss: 0.3174 - acc: 0.9600\n",
            "Epoch 10/20\n",
            "100/100 [==============================] - 0s 3ms/sample - loss: 0.3111 - acc: 0.9400\n",
            "Epoch 11/20\n",
            "100/100 [==============================] - 0s 3ms/sample - loss: 0.0378 - acc: 0.9800\n",
            "Epoch 12/20\n",
            "100/100 [==============================] - 0s 3ms/sample - loss: 0.0010 - acc: 1.0000\n",
            "Epoch 13/20\n",
            "100/100 [==============================] - 0s 3ms/sample - loss: 1.7915e-05 - acc: 1.0000\n",
            "Epoch 14/20\n",
            "100/100 [==============================] - 0s 3ms/sample - loss: 4.4430e-05 - acc: 1.0000\n",
            "Epoch 15/20\n",
            "100/100 [==============================] - 0s 3ms/sample - loss: 1.8348e-05 - acc: 1.0000\n",
            "Epoch 16/20\n",
            "100/100 [==============================] - 0s 3ms/sample - loss: 4.2543e-05 - acc: 1.0000\n",
            "Epoch 17/20\n",
            "100/100 [==============================] - 0s 3ms/sample - loss: 8.9055e-06 - acc: 1.0000\n",
            "Epoch 18/20\n",
            "100/100 [==============================] - 0s 3ms/sample - loss: 1.6274e-05 - acc: 1.0000\n",
            "Epoch 19/20\n",
            "100/100 [==============================] - 0s 3ms/sample - loss: 1.7211e-05 - acc: 1.0000\n",
            "Epoch 20/20\n",
            "100/100 [==============================] - 0s 3ms/sample - loss: 3.0868e-05 - acc: 1.0000\n",
            "24900/24900 [==============================] - 24s 961us/sample - loss: 3.0797 - acc: 0.5780\n"
          ],
          "name": "stdout"
        }
      ]
    },
    {
      "cell_type": "code",
      "metadata": {
        "id": "g5XXCAwl-l-I",
        "colab_type": "code",
        "colab": {}
      },
      "source": [
        ""
      ],
      "execution_count": 0,
      "outputs": []
    }
  ]
}