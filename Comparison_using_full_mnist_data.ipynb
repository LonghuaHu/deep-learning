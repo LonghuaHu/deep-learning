{
  "nbformat": 4,
  "nbformat_minor": 0,
  "metadata": {
    "colab": {
      "name": "Comparison_using_full_mnist_data.ipynb",
      "version": "0.3.2",
      "provenance": [],
      "toc_visible": true,
      "include_colab_link": true
    },
    "kernelspec": {
      "name": "python3",
      "display_name": "Python 3"
    },
    "accelerator": "GPU"
  },
  "cells": [
    {
      "cell_type": "markdown",
      "metadata": {
        "id": "view-in-github",
        "colab_type": "text"
      },
      "source": [
        "<a href=\"https://colab.research.google.com/github/LonghuaHu/deep-learning/blob/master/Comparison_using_full_mnist_data.ipynb\" target=\"_parent\"><img src=\"https://colab.research.google.com/assets/colab-badge.svg\" alt=\"Open In Colab\"/></a>"
      ]
    },
    {
      "cell_type": "code",
      "metadata": {
        "id": "_YJ4YMTr5bTn",
        "colab_type": "code",
        "outputId": "5976a9d4-1606-424f-9e7c-69d2c40d5b46",
        "colab": {
          "base_uri": "https://localhost:8080/",
          "height": 159
        }
      },
      "source": [
        "from google.colab import drive\n",
        "drive.mount('/content/drive')"
      ],
      "execution_count": 1,
      "outputs": [
        {
          "output_type": "stream",
          "text": [
            "Go to this URL in a browser: https://accounts.google.com/o/oauth2/auth?client_id=947318989803-6bn6qk8qdgf4n4g3pfee6491hc0brc4i.apps.googleusercontent.com&redirect_uri=urn%3Aietf%3Awg%3Aoauth%3A2.0%3Aoob&scope=email%20https%3A%2F%2Fwww.googleapis.com%2Fauth%2Fdocs.test%20https%3A%2F%2Fwww.googleapis.com%2Fauth%2Fdrive%20https%3A%2F%2Fwww.googleapis.com%2Fauth%2Fdrive.photos.readonly%20https%3A%2F%2Fwww.googleapis.com%2Fauth%2Fpeopleapi.readonly&response_type=code\n",
            "\n",
            "Enter your authorization code:\n",
            "··········\n",
            "Mounted at /content/drive\n"
          ],
          "name": "stdout"
        }
      ]
    },
    {
      "cell_type": "code",
      "metadata": {
        "id": "g0nIwb1tHh9T",
        "colab_type": "code",
        "outputId": "61b6c07f-dfa8-4479-adba-b16dcd6bc54d",
        "colab": {
          "base_uri": "https://localhost:8080/",
          "height": 146
        }
      },
      "source": [
        "from shutil import copyfileobj\n",
        "from six.moves import urllib\n",
        "from sklearn.datasets.base import get_data_home\n",
        "import os\n",
        " \n",
        "def fetch_mnist(data_home=None):\n",
        "    mnist_alternative_url = \"https://github.com/amplab/datascience-sp14/raw/master/lab7/mldata/mnist-original.mat\"\n",
        "    data_home = get_data_home(data_home=data_home)\n",
        "    data_home = os.path.join(data_home, 'mldata')\n",
        "    if not os.path.exists(data_home):\n",
        "        os.makedirs(data_home)\n",
        "    mnist_save_path = os.path.join(data_home, \"mnist-original.mat\")\n",
        "    if not os.path.exists(mnist_save_path):\n",
        "        mnist_url = urllib.request.urlopen(mnist_alternative_url)\n",
        "        with open(mnist_save_path, \"wb\") as matlab_file:\n",
        "            copyfileobj(mnist_url, matlab_file)\n",
        " \n",
        "fetch_mnist()\n",
        "from sklearn.datasets import fetch_mldata\n",
        "mnist = fetch_mldata(\"MNIST original\")"
      ],
      "execution_count": 2,
      "outputs": [
        {
          "output_type": "stream",
          "text": [
            "/usr/local/lib/python3.6/dist-packages/sklearn/utils/deprecation.py:77: DeprecationWarning: Function fetch_mldata is deprecated; fetch_mldata was deprecated in version 0.20 and will be removed in version 0.22\n",
            "  warnings.warn(msg, category=DeprecationWarning)\n",
            "/usr/local/lib/python3.6/dist-packages/sklearn/utils/deprecation.py:77: DeprecationWarning: Function mldata_filename is deprecated; mldata_filename was deprecated in version 0.20 and will be removed in version 0.22\n",
            "  warnings.warn(msg, category=DeprecationWarning)\n"
          ],
          "name": "stderr"
        }
      ]
    },
    {
      "cell_type": "code",
      "metadata": {
        "id": "NVz1-bXGNu9U",
        "colab_type": "code",
        "outputId": "da8ae549-fa32-4ff9-ced9-d2c8d0463d8c",
        "colab": {
          "base_uri": "https://localhost:8080/",
          "height": 34
        }
      },
      "source": [
        "import tensorflow as tf\n",
        "import numpy as np\n",
        "type(mnist)"
      ],
      "execution_count": 3,
      "outputs": [
        {
          "output_type": "execute_result",
          "data": {
            "text/plain": [
              "sklearn.utils.Bunch"
            ]
          },
          "metadata": {
            "tags": []
          },
          "execution_count": 3
        }
      ]
    },
    {
      "cell_type": "code",
      "metadata": {
        "id": "opebQ4DqOdIE",
        "colab_type": "code",
        "outputId": "21e754bc-74c2-4cd9-a8b9-d47d42342f3a",
        "colab": {
          "base_uri": "https://localhost:8080/",
          "height": 136
        }
      },
      "source": [
        "print(mnist.values())"
      ],
      "execution_count": 4,
      "outputs": [
        {
          "output_type": "stream",
          "text": [
            "dict_values(['mldata.org dataset: mnist-original', ['label', 'data'], array([0., 0., 0., ..., 9., 9., 9.]), array([[0, 0, 0, ..., 0, 0, 0],\n",
            "       [0, 0, 0, ..., 0, 0, 0],\n",
            "       [0, 0, 0, ..., 0, 0, 0],\n",
            "       ...,\n",
            "       [0, 0, 0, ..., 0, 0, 0],\n",
            "       [0, 0, 0, ..., 0, 0, 0],\n",
            "       [0, 0, 0, ..., 0, 0, 0]], dtype=uint8)])\n"
          ],
          "name": "stdout"
        }
      ]
    },
    {
      "cell_type": "code",
      "metadata": {
        "id": "ZnfKYTj2OdGa",
        "colab_type": "code",
        "outputId": "3d432897-bf7c-4ed4-e1d2-d75165f9c6f6",
        "colab": {
          "base_uri": "https://localhost:8080/",
          "height": 187
        }
      },
      "source": [
        "for key, value in mnist.items():\n",
        "  print('val', value)"
      ],
      "execution_count": 5,
      "outputs": [
        {
          "output_type": "stream",
          "text": [
            "val mldata.org dataset: mnist-original\n",
            "val ['label', 'data']\n",
            "val [0. 0. 0. ... 9. 9. 9.]\n",
            "val [[0 0 0 ... 0 0 0]\n",
            " [0 0 0 ... 0 0 0]\n",
            " [0 0 0 ... 0 0 0]\n",
            " ...\n",
            " [0 0 0 ... 0 0 0]\n",
            " [0 0 0 ... 0 0 0]\n",
            " [0 0 0 ... 0 0 0]]\n"
          ],
          "name": "stdout"
        }
      ]
    },
    {
      "cell_type": "code",
      "metadata": {
        "id": "P_MvWCHIOdET",
        "colab_type": "code",
        "colab": {}
      },
      "source": [
        "listlabel = list(list(mnist.items())[2])\n",
        "listvalues = list(list(mnist.items())[3])"
      ],
      "execution_count": 0,
      "outputs": []
    },
    {
      "cell_type": "code",
      "metadata": {
        "id": "bnjw5zc1OdBK",
        "colab_type": "code",
        "outputId": "4f4b54f1-1439-4649-d9f4-d0fffd3a38bf",
        "colab": {
          "base_uri": "https://localhost:8080/",
          "height": 34
        }
      },
      "source": [
        "listlabel"
      ],
      "execution_count": 7,
      "outputs": [
        {
          "output_type": "execute_result",
          "data": {
            "text/plain": [
              "['target', array([0., 0., 0., ..., 9., 9., 9.])]"
            ]
          },
          "metadata": {
            "tags": []
          },
          "execution_count": 7
        }
      ]
    },
    {
      "cell_type": "code",
      "metadata": {
        "id": "soMNWc3nYBAj",
        "colab_type": "code",
        "colab": {}
      },
      "source": [
        "y = listlabel[1]"
      ],
      "execution_count": 0,
      "outputs": []
    },
    {
      "cell_type": "code",
      "metadata": {
        "id": "BSbC8-0gOc95",
        "colab_type": "code",
        "outputId": "7d23394a-5e57-4f99-bc2f-599014c3da2b",
        "colab": {
          "base_uri": "https://localhost:8080/",
          "height": 34
        }
      },
      "source": [
        "type(y)"
      ],
      "execution_count": 9,
      "outputs": [
        {
          "output_type": "execute_result",
          "data": {
            "text/plain": [
              "numpy.ndarray"
            ]
          },
          "metadata": {
            "tags": []
          },
          "execution_count": 9
        }
      ]
    },
    {
      "cell_type": "code",
      "metadata": {
        "id": "dbpWZnYRYv5l",
        "colab_type": "code",
        "outputId": "b4792685-0590-403d-8d14-7b315c4b6229",
        "colab": {
          "base_uri": "https://localhost:8080/",
          "height": 34
        }
      },
      "source": [
        "y.astype(int)"
      ],
      "execution_count": 10,
      "outputs": [
        {
          "output_type": "execute_result",
          "data": {
            "text/plain": [
              "array([0, 0, 0, ..., 9, 9, 9])"
            ]
          },
          "metadata": {
            "tags": []
          },
          "execution_count": 10
        }
      ]
    },
    {
      "cell_type": "code",
      "metadata": {
        "id": "U_78PHweOc7i",
        "colab_type": "code",
        "outputId": "fbe470f0-f9b6-4a7c-f4c3-b6a8f893a576",
        "colab": {
          "base_uri": "https://localhost:8080/",
          "height": 34
        }
      },
      "source": [
        "y.shape"
      ],
      "execution_count": 11,
      "outputs": [
        {
          "output_type": "execute_result",
          "data": {
            "text/plain": [
              "(70000,)"
            ]
          },
          "metadata": {
            "tags": []
          },
          "execution_count": 11
        }
      ]
    },
    {
      "cell_type": "code",
      "metadata": {
        "id": "XmqBdjRbZyeF",
        "colab_type": "code",
        "colab": {}
      },
      "source": [
        "X = listvalues[1].reshape(70000, 28, 28, 1)"
      ],
      "execution_count": 0,
      "outputs": []
    },
    {
      "cell_type": "code",
      "metadata": {
        "id": "61zUr7RiZyKu",
        "colab_type": "code",
        "outputId": "eea9c7a3-7aad-409d-8fd0-1d11e69a3dd7",
        "colab": {
          "base_uri": "https://localhost:8080/",
          "height": 34
        }
      },
      "source": [
        "X.shape"
      ],
      "execution_count": 13,
      "outputs": [
        {
          "output_type": "execute_result",
          "data": {
            "text/plain": [
              "(70000, 28, 28, 1)"
            ]
          },
          "metadata": {
            "tags": []
          },
          "execution_count": 13
        }
      ]
    },
    {
      "cell_type": "code",
      "metadata": {
        "id": "j-8ThkR6Oc17",
        "colab_type": "code",
        "colab": {}
      },
      "source": [
        "from sklearn.model_selection import train_test_split\n",
        "X_train, X_test, y_train, y_test = train_test_split(\n",
        "X, y, test_size=0.2, random_state=42)\n",
        "X_train = X_train / 255.0\n",
        "X_test = X_test / 255.0"
      ],
      "execution_count": 0,
      "outputs": []
    },
    {
      "cell_type": "code",
      "metadata": {
        "id": "ZLmPrgIIcf-z",
        "colab_type": "code",
        "outputId": "9f450dbd-4607-4105-84e4-05ad1b6c7a96",
        "colab": {
          "base_uri": "https://localhost:8080/",
          "height": 34
        }
      },
      "source": [
        "print(X_train.shape, X_test.shape, y_train.shape, y_test.shape)"
      ],
      "execution_count": 15,
      "outputs": [
        {
          "output_type": "stream",
          "text": [
            "(56000, 28, 28, 1) (14000, 28, 28, 1) (56000,) (14000,)\n"
          ],
          "name": "stdout"
        }
      ]
    },
    {
      "cell_type": "code",
      "metadata": {
        "id": "0gvgp4p-fMRb",
        "colab_type": "code",
        "outputId": "d3d2f1a0-d90e-4efd-8813-6cef94b90183",
        "colab": {
          "base_uri": "https://localhost:8080/",
          "height": 480
        }
      },
      "source": [
        "model = tf.keras.models.Sequential([\n",
        "  tf.keras.layers.Conv2D(8, (3,3), activation='relu', input_shape=(28, 28, 1)),\n",
        "  tf.keras.layers.MaxPooling2D(2, 2),\n",
        "  tf.keras.layers.Conv2D(16, (3,3), activation='relu'),\n",
        "  tf.keras.layers.MaxPooling2D(2,2),\n",
        "  tf.keras.layers.Flatten(),\n",
        "  tf.keras.layers.Dense(128, activation='relu'),\n",
        "  tf.keras.layers.Dense(10, activation='softmax')\n",
        "])\n",
        "model.compile(optimizer='adam', loss='sparse_categorical_crossentropy', metrics=['accuracy'])\n",
        "model.summary()"
      ],
      "execution_count": 16,
      "outputs": [
        {
          "output_type": "stream",
          "text": [
            "WARNING:tensorflow:From /usr/local/lib/python3.6/dist-packages/tensorflow/python/ops/resource_variable_ops.py:435: colocate_with (from tensorflow.python.framework.ops) is deprecated and will be removed in a future version.\n",
            "Instructions for updating:\n",
            "Colocations handled automatically by placer.\n",
            "_________________________________________________________________\n",
            "Layer (type)                 Output Shape              Param #   \n",
            "=================================================================\n",
            "conv2d (Conv2D)              (None, 26, 26, 8)         80        \n",
            "_________________________________________________________________\n",
            "max_pooling2d (MaxPooling2D) (None, 13, 13, 8)         0         \n",
            "_________________________________________________________________\n",
            "conv2d_1 (Conv2D)            (None, 11, 11, 16)        1168      \n",
            "_________________________________________________________________\n",
            "max_pooling2d_1 (MaxPooling2 (None, 5, 5, 16)          0         \n",
            "_________________________________________________________________\n",
            "flatten (Flatten)            (None, 400)               0         \n",
            "_________________________________________________________________\n",
            "dense (Dense)                (None, 128)               51328     \n",
            "_________________________________________________________________\n",
            "dense_1 (Dense)              (None, 10)                1290      \n",
            "=================================================================\n",
            "Total params: 53,866\n",
            "Trainable params: 53,866\n",
            "Non-trainable params: 0\n",
            "_________________________________________________________________\n"
          ],
          "name": "stdout"
        }
      ]
    },
    {
      "cell_type": "code",
      "metadata": {
        "id": "C7Wq_UZQfccz",
        "colab_type": "code",
        "outputId": "23105773-db93-4e2c-dca3-6bca7756036b",
        "colab": {
          "base_uri": "https://localhost:8080/",
          "height": 714
        }
      },
      "source": [
        "history_cnn_2c2p = model.fit(X_train, y_train, epochs=20)\n",
        "test_loss = model.evaluate(X_test, y_test)"
      ],
      "execution_count": 17,
      "outputs": [
        {
          "output_type": "stream",
          "text": [
            "Epoch 1/20\n",
            "56000/56000 [==============================] - 10s 182us/sample - loss: 0.1865 - acc: 0.9442\n",
            "Epoch 2/20\n",
            "56000/56000 [==============================] - 7s 121us/sample - loss: 0.0685 - acc: 0.9779\n",
            "Epoch 3/20\n",
            "56000/56000 [==============================] - 7s 119us/sample - loss: 0.0487 - acc: 0.9841\n",
            "Epoch 4/20\n",
            "56000/56000 [==============================] - 7s 119us/sample - loss: 0.0368 - acc: 0.9876\n",
            "Epoch 5/20\n",
            "56000/56000 [==============================] - 8s 135us/sample - loss: 0.0286 - acc: 0.9905\n",
            "Epoch 6/20\n",
            "56000/56000 [==============================] - 7s 123us/sample - loss: 0.0243 - acc: 0.9918\n",
            "Epoch 7/20\n",
            "56000/56000 [==============================] - 7s 121us/sample - loss: 0.0187 - acc: 0.9937\n",
            "Epoch 8/20\n",
            "56000/56000 [==============================] - 7s 119us/sample - loss: 0.0161 - acc: 0.9948\n",
            "Epoch 9/20\n",
            "56000/56000 [==============================] - 7s 120us/sample - loss: 0.0137 - acc: 0.9954\n",
            "Epoch 10/20\n",
            "56000/56000 [==============================] - 7s 119us/sample - loss: 0.0117 - acc: 0.9961\n",
            "Epoch 11/20\n",
            "56000/56000 [==============================] - 7s 120us/sample - loss: 0.0096 - acc: 0.9967\n",
            "Epoch 12/20\n",
            "56000/56000 [==============================] - 7s 121us/sample - loss: 0.0098 - acc: 0.9966\n",
            "Epoch 13/20\n",
            "56000/56000 [==============================] - 7s 121us/sample - loss: 0.0080 - acc: 0.9971\n",
            "Epoch 14/20\n",
            "56000/56000 [==============================] - 7s 119us/sample - loss: 0.0075 - acc: 0.9974\n",
            "Epoch 15/20\n",
            "56000/56000 [==============================] - 7s 119us/sample - loss: 0.0055 - acc: 0.9982\n",
            "Epoch 16/20\n",
            "56000/56000 [==============================] - 8s 138us/sample - loss: 0.0068 - acc: 0.9975\n",
            "Epoch 17/20\n",
            "56000/56000 [==============================] - 8s 136us/sample - loss: 0.0062 - acc: 0.9978\n",
            "Epoch 18/20\n",
            "56000/56000 [==============================] - 7s 117us/sample - loss: 0.0048 - acc: 0.9984\n",
            "Epoch 19/20\n",
            "56000/56000 [==============================] - 7s 118us/sample - loss: 0.0035 - acc: 0.9987\n",
            "Epoch 20/20\n",
            "56000/56000 [==============================] - 7s 119us/sample - loss: 0.0053 - acc: 0.9980\n",
            "14000/14000 [==============================] - 1s 55us/sample - loss: 0.0557 - acc: 0.9886\n"
          ],
          "name": "stdout"
        }
      ]
    },
    {
      "cell_type": "code",
      "metadata": {
        "id": "LOlPL8l-Hp5A",
        "colab_type": "code",
        "outputId": "49cb78fd-362c-4388-a17d-61c5d60c36a3",
        "colab": {
          "base_uri": "https://localhost:8080/",
          "height": 374
        }
      },
      "source": [
        "model = tf.keras.models.Sequential([\n",
        "  tf.keras.layers.Conv2D(8, (3,3), activation='relu', input_shape=(28, 28, 1)),\n",
        "  tf.keras.layers.Conv2D(16, (3,3), activation='relu'),\n",
        "  tf.keras.layers.Conv2D(32, (3,3), activation='relu'),\n",
        "  tf.keras.layers.MaxPooling2D(2,2),\n",
        "  tf.keras.layers.Flatten(),\n",
        "  tf.keras.layers.Dense(128, activation='relu'),\n",
        "  tf.keras.layers.Dense(10, activation='softmax')\n",
        "])\n",
        "model.compile(optimizer='adam', loss='sparse_categorical_crossentropy', metrics=['accuracy'])\n",
        "model.summary()"
      ],
      "execution_count": 18,
      "outputs": [
        {
          "output_type": "stream",
          "text": [
            "_________________________________________________________________\n",
            "Layer (type)                 Output Shape              Param #   \n",
            "=================================================================\n",
            "conv2d_2 (Conv2D)            (None, 26, 26, 8)         80        \n",
            "_________________________________________________________________\n",
            "conv2d_3 (Conv2D)            (None, 24, 24, 16)        1168      \n",
            "_________________________________________________________________\n",
            "conv2d_4 (Conv2D)            (None, 22, 22, 32)        4640      \n",
            "_________________________________________________________________\n",
            "max_pooling2d_2 (MaxPooling2 (None, 11, 11, 32)        0         \n",
            "_________________________________________________________________\n",
            "flatten_1 (Flatten)          (None, 3872)              0         \n",
            "_________________________________________________________________\n",
            "dense_2 (Dense)              (None, 128)               495744    \n",
            "_________________________________________________________________\n",
            "dense_3 (Dense)              (None, 10)                1290      \n",
            "=================================================================\n",
            "Total params: 502,922\n",
            "Trainable params: 502,922\n",
            "Non-trainable params: 0\n",
            "_________________________________________________________________\n"
          ],
          "name": "stdout"
        }
      ]
    },
    {
      "cell_type": "code",
      "metadata": {
        "id": "55akjNiuzedU",
        "colab_type": "code",
        "outputId": "8accae46-d0ef-4e52-8448-525b8cd67b28",
        "colab": {
          "base_uri": "https://localhost:8080/",
          "height": 714
        }
      },
      "source": [
        "history_cnn_3c1p = model.fit(X_train, y_train, epochs=20)\n",
        "test_loss = model.evaluate(X_test, y_test)"
      ],
      "execution_count": 19,
      "outputs": [
        {
          "output_type": "stream",
          "text": [
            "Epoch 1/20\n",
            "56000/56000 [==============================] - 8s 136us/sample - loss: 0.1258 - acc: 0.9623\n",
            "Epoch 2/20\n",
            "56000/56000 [==============================] - 7s 133us/sample - loss: 0.0408 - acc: 0.9869\n",
            "Epoch 3/20\n",
            "56000/56000 [==============================] - 7s 133us/sample - loss: 0.0267 - acc: 0.9914\n",
            "Epoch 4/20\n",
            "56000/56000 [==============================] - 8s 137us/sample - loss: 0.0182 - acc: 0.9940\n",
            "Epoch 5/20\n",
            "56000/56000 [==============================] - 8s 142us/sample - loss: 0.0127 - acc: 0.9958\n",
            "Epoch 6/20\n",
            "56000/56000 [==============================] - 8s 148us/sample - loss: 0.0097 - acc: 0.9967\n",
            "Epoch 7/20\n",
            "56000/56000 [==============================] - 8s 136us/sample - loss: 0.0086 - acc: 0.9973\n",
            "Epoch 8/20\n",
            "56000/56000 [==============================] - 7s 133us/sample - loss: 0.0074 - acc: 0.9974\n",
            "Epoch 9/20\n",
            "56000/56000 [==============================] - 7s 132us/sample - loss: 0.0056 - acc: 0.9981\n",
            "Epoch 10/20\n",
            "56000/56000 [==============================] - 7s 132us/sample - loss: 0.0053 - acc: 0.9982\n",
            "Epoch 11/20\n",
            "56000/56000 [==============================] - 7s 133us/sample - loss: 0.0057 - acc: 0.9982\n",
            "Epoch 12/20\n",
            "56000/56000 [==============================] - 7s 132us/sample - loss: 0.0045 - acc: 0.9987\n",
            "Epoch 13/20\n",
            "56000/56000 [==============================] - 7s 133us/sample - loss: 0.0045 - acc: 0.9985\n",
            "Epoch 14/20\n",
            "56000/56000 [==============================] - 7s 133us/sample - loss: 0.0041 - acc: 0.9990\n",
            "Epoch 15/20\n",
            "56000/56000 [==============================] - 7s 133us/sample - loss: 0.0040 - acc: 0.9986\n",
            "Epoch 16/20\n",
            "56000/56000 [==============================] - 8s 137us/sample - loss: 0.0038 - acc: 0.9988\n",
            "Epoch 17/20\n",
            "56000/56000 [==============================] - 8s 147us/sample - loss: 0.0039 - acc: 0.9990\n",
            "Epoch 18/20\n",
            "56000/56000 [==============================] - 7s 132us/sample - loss: 0.0025 - acc: 0.9992\n",
            "Epoch 19/20\n",
            "56000/56000 [==============================] - 7s 133us/sample - loss: 0.0036 - acc: 0.9988\n",
            "Epoch 20/20\n",
            "56000/56000 [==============================] - 7s 133us/sample - loss: 0.0036 - acc: 0.9990\n",
            "14000/14000 [==============================] - 1s 57us/sample - loss: 0.0515 - acc: 0.9913\n"
          ],
          "name": "stdout"
        }
      ]
    },
    {
      "cell_type": "code",
      "metadata": {
        "id": "QNObs7C5uQEg",
        "colab_type": "code",
        "outputId": "3387d98d-46a2-49df-97de-d88d4f3759de",
        "colab": {
          "base_uri": "https://localhost:8080/",
          "height": 408
        }
      },
      "source": [
        "model = tf.keras.models.Sequential()\n",
        "model.add(tf.keras.layers.Conv2D(8, (3,3), activation='relu', input_shape=(28,28,1)))\n",
        "model.add(tf.keras.layers.Conv2D(16, (3,3), activation='relu'))\n",
        "model.add(tf.keras.layers.Conv2D(32, (3,3), activation='relu'))\n",
        "model.add(tf.keras.layers.MaxPooling2D(pool_size=(2, 2)))\n",
        "#model.add(tf.keras.layers.Conv2D(32, (3,3), activation='relu'))\n",
        "#model.add(tf.keras.layers.Conv2D(64, (3,3), activation='relu'))\n",
        "#model.add(tf.keras.layers.MaxPooling2D(pool_size=(2, 2)))\n",
        "model.add(tf.keras.layers.BatchNormalization())\n",
        "\n",
        "\n",
        "#FC Layers\n",
        "model.add(tf.keras.layers.Flatten())\n",
        "model.add(tf.keras.layers.Dense(128, activation='relu'))\n",
        "model.add(tf.keras.layers.Dense(10, activation='softmax'))\n",
        "\n",
        "model.compile(optimizer='adam', loss='sparse_categorical_crossentropy', metrics=['accuracy'])\n",
        "model.summary()\n",
        "\n",
        "\n"
      ],
      "execution_count": 20,
      "outputs": [
        {
          "output_type": "stream",
          "text": [
            "_________________________________________________________________\n",
            "Layer (type)                 Output Shape              Param #   \n",
            "=================================================================\n",
            "conv2d_5 (Conv2D)            (None, 26, 26, 8)         80        \n",
            "_________________________________________________________________\n",
            "conv2d_6 (Conv2D)            (None, 24, 24, 16)        1168      \n",
            "_________________________________________________________________\n",
            "conv2d_7 (Conv2D)            (None, 22, 22, 32)        4640      \n",
            "_________________________________________________________________\n",
            "max_pooling2d_3 (MaxPooling2 (None, 11, 11, 32)        0         \n",
            "_________________________________________________________________\n",
            "batch_normalization_v1 (Batc (None, 11, 11, 32)        128       \n",
            "_________________________________________________________________\n",
            "flatten_2 (Flatten)          (None, 3872)              0         \n",
            "_________________________________________________________________\n",
            "dense_4 (Dense)              (None, 128)               495744    \n",
            "_________________________________________________________________\n",
            "dense_5 (Dense)              (None, 10)                1290      \n",
            "=================================================================\n",
            "Total params: 503,050\n",
            "Trainable params: 502,986\n",
            "Non-trainable params: 64\n",
            "_________________________________________________________________\n"
          ],
          "name": "stdout"
        }
      ]
    },
    {
      "cell_type": "code",
      "metadata": {
        "id": "G7AQg2aEuP6w",
        "colab_type": "code",
        "outputId": "d293dee9-14e4-43c4-fe1d-2b6ca7f27dd9",
        "colab": {
          "base_uri": "https://localhost:8080/",
          "height": 714
        }
      },
      "source": [
        "history_cnn_3c1p = model.fit(X_train, y_train, epochs=20)\n",
        "test_loss = model.evaluate(X_test, y_test)"
      ],
      "execution_count": 21,
      "outputs": [
        {
          "output_type": "stream",
          "text": [
            "Epoch 1/20\n",
            "56000/56000 [==============================] - 9s 152us/sample - loss: 0.0999 - acc: 0.9688\n",
            "Epoch 2/20\n",
            "56000/56000 [==============================] - 8s 146us/sample - loss: 0.0386 - acc: 0.9876\n",
            "Epoch 3/20\n",
            "56000/56000 [==============================] - 9s 156us/sample - loss: 0.0248 - acc: 0.9919\n",
            "Epoch 4/20\n",
            "56000/56000 [==============================] - 9s 154us/sample - loss: 0.0195 - acc: 0.9938\n",
            "Epoch 5/20\n",
            "56000/56000 [==============================] - 8s 142us/sample - loss: 0.0135 - acc: 0.9956\n",
            "Epoch 6/20\n",
            "56000/56000 [==============================] - 8s 143us/sample - loss: 0.0143 - acc: 0.9959\n",
            "Epoch 7/20\n",
            "56000/56000 [==============================] - 8s 141us/sample - loss: 0.0102 - acc: 0.9965\n",
            "Epoch 8/20\n",
            "56000/56000 [==============================] - 8s 144us/sample - loss: 0.0075 - acc: 0.9976\n",
            "Epoch 9/20\n",
            "56000/56000 [==============================] - 8s 142us/sample - loss: 0.0100 - acc: 0.9972\n",
            "Epoch 10/20\n",
            "56000/56000 [==============================] - 8s 144us/sample - loss: 0.0060 - acc: 0.9979\n",
            "Epoch 11/20\n",
            "56000/56000 [==============================] - 9s 165us/sample - loss: 0.0047 - acc: 0.9986\n",
            "Epoch 12/20\n",
            "56000/56000 [==============================] - 8s 151us/sample - loss: 0.0078 - acc: 0.9976\n",
            "Epoch 13/20\n",
            "56000/56000 [==============================] - 9s 164us/sample - loss: 0.0068 - acc: 0.9982\n",
            "Epoch 14/20\n",
            "56000/56000 [==============================] - 8s 146us/sample - loss: 0.0057 - acc: 0.9986\n",
            "Epoch 15/20\n",
            "56000/56000 [==============================] - 8s 144us/sample - loss: 0.0064 - acc: 0.9985\n",
            "Epoch 16/20\n",
            "56000/56000 [==============================] - 8s 142us/sample - loss: 0.0051 - acc: 0.9985\n",
            "Epoch 17/20\n",
            "56000/56000 [==============================] - 8s 143us/sample - loss: 0.0038 - acc: 0.9990\n",
            "Epoch 18/20\n",
            "56000/56000 [==============================] - 8s 144us/sample - loss: 0.0054 - acc: 0.9987\n",
            "Epoch 19/20\n",
            "56000/56000 [==============================] - 8s 151us/sample - loss: 0.0043 - acc: 0.9989\n",
            "Epoch 20/20\n",
            "56000/56000 [==============================] - 8s 148us/sample - loss: 0.0046 - acc: 0.9987\n",
            "14000/14000 [==============================] - 1s 59us/sample - loss: 0.0947 - acc: 0.9878\n"
          ],
          "name": "stdout"
        }
      ]
    },
    {
      "cell_type": "code",
      "metadata": {
        "id": "4tAMNvSquPyr",
        "colab_type": "code",
        "outputId": "e337514b-5a72-48a0-ee10-e39dae3bc489",
        "colab": {
          "base_uri": "https://localhost:8080/",
          "height": 442
        }
      },
      "source": [
        "model = tf.keras.models.Sequential()\n",
        "model.add(tf.keras.layers.Conv2D(8, (3,3), activation='relu', input_shape=(28,28,1)))\n",
        "model.add(tf.keras.layers.Conv2D(16, (3,3), activation='relu'))\n",
        "model.add(tf.keras.layers.Conv2D(32, (3,3), activation='relu'))\n",
        "model.add(tf.keras.layers.Conv2D(32, (3,3), activation='relu'))\n",
        "model.add(tf.keras.layers.MaxPooling2D(pool_size=(2, 2)))\n",
        "#model.add(tf.keras.layers.Conv2D(32, (3,3), activation='relu'))\n",
        "#model.add(tf.keras.layers.Conv2D(64, (3,3), activation='relu'))\n",
        "#model.add(tf.keras.layers.MaxPooling2D(pool_size=(2, 2)))\n",
        "model.add(tf.keras.layers.BatchNormalization())\n",
        "\n",
        "\n",
        "#FC Layers\n",
        "model.add(tf.keras.layers.Flatten())\n",
        "model.add(tf.keras.layers.Dense(128, activation='relu'))\n",
        "model.add(tf.keras.layers.Dense(10, activation='softmax'))\n",
        "\n",
        "model.compile(optimizer='adam', loss='sparse_categorical_crossentropy', metrics=['accuracy'])\n",
        "model.summary()\n",
        "\n"
      ],
      "execution_count": 22,
      "outputs": [
        {
          "output_type": "stream",
          "text": [
            "_________________________________________________________________\n",
            "Layer (type)                 Output Shape              Param #   \n",
            "=================================================================\n",
            "conv2d_8 (Conv2D)            (None, 26, 26, 8)         80        \n",
            "_________________________________________________________________\n",
            "conv2d_9 (Conv2D)            (None, 24, 24, 16)        1168      \n",
            "_________________________________________________________________\n",
            "conv2d_10 (Conv2D)           (None, 22, 22, 32)        4640      \n",
            "_________________________________________________________________\n",
            "conv2d_11 (Conv2D)           (None, 20, 20, 32)        9248      \n",
            "_________________________________________________________________\n",
            "max_pooling2d_4 (MaxPooling2 (None, 10, 10, 32)        0         \n",
            "_________________________________________________________________\n",
            "batch_normalization_v1_1 (Ba (None, 10, 10, 32)        128       \n",
            "_________________________________________________________________\n",
            "flatten_3 (Flatten)          (None, 3200)              0         \n",
            "_________________________________________________________________\n",
            "dense_6 (Dense)              (None, 128)               409728    \n",
            "_________________________________________________________________\n",
            "dense_7 (Dense)              (None, 10)                1290      \n",
            "=================================================================\n",
            "Total params: 426,282\n",
            "Trainable params: 426,218\n",
            "Non-trainable params: 64\n",
            "_________________________________________________________________\n"
          ],
          "name": "stdout"
        }
      ]
    },
    {
      "cell_type": "code",
      "metadata": {
        "id": "QbzIOToJuPpN",
        "colab_type": "code",
        "outputId": "a127dd79-466d-4dd7-d888-4f580f695a5b",
        "colab": {
          "base_uri": "https://localhost:8080/",
          "height": 714
        }
      },
      "source": [
        "history_cnn_4c1p = model.fit(X_train, y_train, epochs=20)\n",
        "test_loss = model.evaluate(X_test, y_test)"
      ],
      "execution_count": 23,
      "outputs": [
        {
          "output_type": "stream",
          "text": [
            "Epoch 1/20\n",
            "56000/56000 [==============================] - 9s 167us/sample - loss: 0.0995 - acc: 0.9692\n",
            "Epoch 2/20\n",
            "56000/56000 [==============================] - 9s 160us/sample - loss: 0.0418 - acc: 0.9866\n",
            "Epoch 3/20\n",
            "56000/56000 [==============================] - 9s 161us/sample - loss: 0.0288 - acc: 0.9910\n",
            "Epoch 4/20\n",
            "56000/56000 [==============================] - 9s 160us/sample - loss: 0.0215 - acc: 0.9937\n",
            "Epoch 5/20\n",
            "56000/56000 [==============================] - 9s 160us/sample - loss: 0.0196 - acc: 0.9938\n",
            "Epoch 6/20\n",
            "56000/56000 [==============================] - 9s 160us/sample - loss: 0.0138 - acc: 0.9957\n",
            "Epoch 7/20\n",
            "56000/56000 [==============================] - 10s 174us/sample - loss: 0.0119 - acc: 0.9960\n",
            "Epoch 8/20\n",
            "56000/56000 [==============================] - 9s 167us/sample - loss: 0.0111 - acc: 0.9963\n",
            "Epoch 9/20\n",
            "56000/56000 [==============================] - 9s 160us/sample - loss: 0.0077 - acc: 0.9976\n",
            "Epoch 10/20\n",
            "56000/56000 [==============================] - 9s 159us/sample - loss: 0.0122 - acc: 0.9969\n",
            "Epoch 11/20\n",
            "56000/56000 [==============================] - 9s 160us/sample - loss: 0.0080 - acc: 0.9977\n",
            "Epoch 12/20\n",
            "56000/56000 [==============================] - 9s 159us/sample - loss: 0.0071 - acc: 0.9979\n",
            "Epoch 13/20\n",
            "56000/56000 [==============================] - 9s 160us/sample - loss: 0.0045 - acc: 0.9985\n",
            "Epoch 14/20\n",
            "56000/56000 [==============================] - 9s 159us/sample - loss: 0.0069 - acc: 0.9979\n",
            "Epoch 15/20\n",
            "56000/56000 [==============================] - 9s 161us/sample - loss: 0.0060 - acc: 0.9983\n",
            "Epoch 16/20\n",
            "56000/56000 [==============================] - 10s 176us/sample - loss: 0.0060 - acc: 0.9982\n",
            "Epoch 17/20\n",
            "56000/56000 [==============================] - 9s 164us/sample - loss: 0.0045 - acc: 0.9986\n",
            "Epoch 18/20\n",
            "56000/56000 [==============================] - 9s 158us/sample - loss: 0.0056 - acc: 0.9986\n",
            "Epoch 19/20\n",
            "56000/56000 [==============================] - 9s 159us/sample - loss: 0.0033 - acc: 0.9992\n",
            "Epoch 20/20\n",
            "56000/56000 [==============================] - 9s 158us/sample - loss: 0.0045 - acc: 0.9987\n",
            "14000/14000 [==============================] - 1s 66us/sample - loss: 0.0651 - acc: 0.9894\n"
          ],
          "name": "stdout"
        }
      ]
    },
    {
      "cell_type": "code",
      "metadata": {
        "id": "PkYdpVK20Ygz",
        "colab_type": "code",
        "outputId": "a1a845ad-144f-4e4d-fa43-3f62bb5e6ef9",
        "colab": {
          "base_uri": "https://localhost:8080/",
          "height": 573
        }
      },
      "source": [
        "import matplotlib.pyplot as plt\n",
        "# Plot training accuracy values\n",
        "plt.plot(history_cnn_2c2p.history['acc'], color='y', label='2c2p_layers')\n",
        "plt.plot(history_cnn_3c1p.history['acc'], color='blue', label='3c1p_layers')\n",
        "plt.plot(history_cnn_4c1p.history['acc'], color='red', label='4c1p_layers')\n",
        "plt.title('Model accuracy of cnn')\n",
        "plt.ylabel('Accuracy')\n",
        "plt.xlabel('Epoch')\n",
        "plt.legend()\n",
        "plt.show()\n",
        "\n",
        "# Plot training loss values\n",
        "plt.plot(history_cnn_2c2p.history['loss'], color='y', label='2c2p_layers')\n",
        "plt.plot(history_cnn_3c1p.history['loss'], color='blue', label='3c1p_layers')\n",
        "plt.plot(history_cnn_4c1p.history['loss'], color='red', label='4c1p_layers')\n",
        "plt.title('Model loss of cnn')\n",
        "plt.ylabel('Loss')\n",
        "plt.xlabel('Epoch')\n",
        "plt.legend()\n",
        "plt.show()\n",
        "\n",
        "\n"
      ],
      "execution_count": 25,
      "outputs": [
        {
          "output_type": "display_data",
          "data": {
            "image/png": "[encoded data removed]",
            "text/plain": [
              "<Figure size 432x288 with 1 Axes>"
            ]
          },
          "metadata": {
            "tags": []
          }
        },
        {
          "output_type": "display_data",
          "data": {
            "image/png": "[encoded data removed]",
            "text/plain": [
              "<Figure size 432x288 with 1 Axes>"
            ]
          },
          "metadata": {
            "tags": []
          }
        }
      ]
    },
    {
      "cell_type": "markdown",
      "metadata": {
        "id": "LehIbU0uuNpN",
        "colab_type": "text"
      },
      "source": [
        "# QCNN"
      ]
    },
    {
      "cell_type": "markdown",
      "metadata": {
        "id": "WkJaP-03uRWI",
        "colab_type": "text"
      },
      "source": [
        ""
      ]
    },
    {
      "cell_type": "code",
      "metadata": {
        "id": "GEc9fy5z0YKV",
        "colab_type": "code",
        "outputId": "4330c54a-8877-4424-869c-c99b56b38f9e",
        "colab": {
          "base_uri": "https://localhost:8080/",
          "height": 51
        }
      },
      "source": [
        "import numpy as np\n",
        "from sklearn.model_selection import train_test_split\n",
        "import h5py \n",
        "#data\n",
        "f = h5py.File('/content/drive/My Drive/Colab Notebooks/quatFullMnist.mat','r') \n",
        "\n",
        "X_q = f['quatFullMnist'][:]\n",
        "#data = data.T\n",
        "print(X_q.shape)\n",
        "\n",
        "#lable\n",
        "f = h5py.File('/content/drive/My Drive/Colab Notebooks/quatFullMnistLabel.mat','r') \n",
        "y_q = f['quatFullMnistLabel'][:]\n",
        "y_q = y_q.T\n",
        "print(y_q.shape)\n",
        "\n",
        "\n"
      ],
      "execution_count": 26,
      "outputs": [
        {
          "output_type": "stream",
          "text": [
            "(70000, 12, 14, 14)\n",
            "(70000, 1)\n"
          ],
          "name": "stdout"
        }
      ]
    },
    {
      "cell_type": "code",
      "metadata": {
        "id": "-UK4fd_LH_DX",
        "colab_type": "code",
        "colab": {}
      },
      "source": [
        "X_train_q, X_test_q, y_train_q, y_test_q = train_test_split(\n",
        "X_q, y_q, test_size=0.2, random_state=42)"
      ],
      "execution_count": 0,
      "outputs": []
    },
    {
      "cell_type": "code",
      "metadata": {
        "id": "N5dZc2LJ2ro1",
        "colab_type": "code",
        "outputId": "349fec08-9148-4b01-d6d2-f40b61955644",
        "colab": {
          "base_uri": "https://localhost:8080/",
          "height": 102
        }
      },
      "source": [
        "X_train_q = X_train_q.reshape(X_train_q.shape[0], X_train_q.shape[1], X_train_q.shape[2], X_train_q.shape[3],1)\n",
        "X_test_q = X_test_q.reshape(X_test_q.shape[0], X_train_q.shape[1], X_train_q.shape[2], X_train_q.shape[3],1)\n",
        "#training_labels = training_labels[0]\n",
        "y_train_q.astype(int)\n",
        "y_test_q.astype(int)\n",
        "print('Number of training examples: ' + str(X_train_q.shape[0]))\n",
        "print('Training images shape:' + str(X_train_q.shape))\n",
        "print('Training labels shape:' + str(y_train_q.shape))\n",
        "print('Test images shape:' + str(X_test_q.shape))\n",
        "print('Test labels shape:' + str(y_test_q.shape))"
      ],
      "execution_count": 28,
      "outputs": [
        {
          "output_type": "stream",
          "text": [
            "Number of training examples: 56000\n",
            "Training images shape:(56000, 12, 14, 14, 1)\n",
            "Training labels shape:(56000, 1)\n",
            "Test images shape:(14000, 12, 14, 14, 1)\n",
            "Test labels shape:(14000, 1)\n"
          ],
          "name": "stdout"
        }
      ]
    },
    {
      "cell_type": "markdown",
      "metadata": {
        "id": "pVMQblgE3NDf",
        "colab_type": "text"
      },
      "source": [
        "## 3 conv layers, 1 pooling layer"
      ]
    },
    {
      "cell_type": "code",
      "metadata": {
        "id": "ECTw2qSM3GMV",
        "colab_type": "code",
        "outputId": "93aa1b1f-d5ac-4989-e312-86acb29fd91f",
        "colab": {
          "base_uri": "https://localhost:8080/",
          "height": 408
        }
      },
      "source": [
        "model = tf.keras.models.Sequential()\n",
        "model.add(tf.keras.layers.Conv3D(8, (1,3,3), activation='relu', input_shape=(12, 14, 14, 1)))\n",
        "#model.add(tf.keras.layers.MaxPooling3D(pool_size=(2, 2, 2), strides=(1, 2, 2)))\n",
        "#model.add(tf.keras.layers.BatchNormalization())\n",
        "model.add(tf.keras.layers.Conv3D(16, (1,3,3), activation='relu'))\n",
        "model.add(tf.keras.layers.Conv3D(32, (1,3,3), activation='relu'))\n",
        "model.add(tf.keras.layers.MaxPooling3D(pool_size=(1, 2, 2), strides=(1, 2, 2)))\n",
        "model.add(tf.keras.layers.BatchNormalization())\n",
        "\n",
        "\n",
        "#FC Layers\n",
        "model.add(tf.keras.layers.Flatten())\n",
        "model.add(tf.keras.layers.Dense(128, activation='relu'))\n",
        "model.add(tf.keras.layers.Dense(10, activation='softmax'))\n",
        "\n",
        "model.compile(optimizer='adam', loss='sparse_categorical_crossentropy', metrics=['accuracy'])\n",
        "model.summary()\n"
      ],
      "execution_count": 29,
      "outputs": [
        {
          "output_type": "stream",
          "text": [
            "_________________________________________________________________\n",
            "Layer (type)                 Output Shape              Param #   \n",
            "=================================================================\n",
            "conv3d (Conv3D)              (None, 12, 12, 12, 8)     80        \n",
            "_________________________________________________________________\n",
            "conv3d_1 (Conv3D)            (None, 12, 10, 10, 16)    1168      \n",
            "_________________________________________________________________\n",
            "conv3d_2 (Conv3D)            (None, 12, 8, 8, 32)      4640      \n",
            "_________________________________________________________________\n",
            "max_pooling3d (MaxPooling3D) (None, 12, 4, 4, 32)      0         \n",
            "_________________________________________________________________\n",
            "batch_normalization_v1_2 (Ba (None, 12, 4, 4, 32)      128       \n",
            "_________________________________________________________________\n",
            "flatten_4 (Flatten)          (None, 6144)              0         \n",
            "_________________________________________________________________\n",
            "dense_8 (Dense)              (None, 128)               786560    \n",
            "_________________________________________________________________\n",
            "dense_9 (Dense)              (None, 10)                1290      \n",
            "=================================================================\n",
            "Total params: 793,866\n",
            "Trainable params: 793,802\n",
            "Non-trainable params: 64\n",
            "_________________________________________________________________\n"
          ],
          "name": "stdout"
        }
      ]
    },
    {
      "cell_type": "code",
      "metadata": {
        "id": "fvN1Wzpl3izg",
        "colab_type": "code",
        "outputId": "8be444e7-b1b3-4d88-c35e-9498c418a33d",
        "colab": {
          "base_uri": "https://localhost:8080/",
          "height": 1005
        }
      },
      "source": [
        "history_qcnn_3c1p = model.fit(X_train_q, y_train_q, epochs=20)\n",
        "test_loss = model.evaluate(X_test_q, y_test_q)"
      ],
      "execution_count": 30,
      "outputs": [
        {
          "output_type": "stream",
          "text": [
            "WARNING:tensorflow:From /usr/local/lib/python3.6/dist-packages/tensorflow/python/ops/math_ops.py:3066: to_int32 (from tensorflow.python.ops.math_ops) is deprecated and will be removed in a future version.\n",
            "Instructions for updating:\n",
            "Use tf.cast instead.\n",
            "Epoch 1/20\n",
            "56000/56000 [==============================] - 12s 219us/sample - loss: 0.1753 - acc: 0.9478\n",
            "Epoch 2/20\n",
            "56000/56000 [==============================] - 12s 214us/sample - loss: 0.0611 - acc: 0.9805\n",
            "Epoch 3/20\n",
            "56000/56000 [==============================] - 13s 226us/sample - loss: 0.0407 - acc: 0.9872\n",
            "Epoch 4/20\n",
            "56000/56000 [==============================] - 12s 219us/sample - loss: 0.0281 - acc: 0.9906\n",
            "Epoch 5/20\n",
            "56000/56000 [==============================] - 12s 214us/sample - loss: 0.0235 - acc: 0.9921\n",
            "Epoch 6/20\n",
            "56000/56000 [==============================] - 12s 221us/sample - loss: 0.0195 - acc: 0.9943\n",
            "Epoch 7/20\n",
            "56000/56000 [==============================] - 13s 227us/sample - loss: 0.0176 - acc: 0.9942\n",
            "Epoch 8/20\n",
            "56000/56000 [==============================] - 12s 213us/sample - loss: 0.0147 - acc: 0.9953\n",
            "Epoch 9/20\n",
            "56000/56000 [==============================] - 12s 215us/sample - loss: 0.0117 - acc: 0.9960\n",
            "Epoch 10/20\n",
            "56000/56000 [==============================] - 13s 231us/sample - loss: 0.0128 - acc: 0.9961\n",
            "Epoch 11/20\n",
            "56000/56000 [==============================] - 13s 223us/sample - loss: 0.0103 - acc: 0.9970\n",
            "Epoch 12/20\n",
            "56000/56000 [==============================] - 12s 211us/sample - loss: 0.0100 - acc: 0.9971\n",
            "Epoch 13/20\n",
            "56000/56000 [==============================] - 12s 213us/sample - loss: 0.0078 - acc: 0.9979\n",
            "Epoch 14/20\n",
            "56000/56000 [==============================] - 12s 214us/sample - loss: 0.0100 - acc: 0.9970\n",
            "Epoch 15/20\n",
            "56000/56000 [==============================] - 12s 213us/sample - loss: 0.0088 - acc: 0.9974\n",
            "Epoch 16/20\n",
            "56000/56000 [==============================] - 12s 222us/sample - loss: 0.0072 - acc: 0.9980\n",
            "Epoch 17/20\n",
            "56000/56000 [==============================] - 12s 221us/sample - loss: 0.0062 - acc: 0.9982\n",
            "Epoch 18/20\n",
            "56000/56000 [==============================] - 12s 213us/sample - loss: 0.0086 - acc: 0.9976\n",
            "Epoch 19/20\n",
            "56000/56000 [==============================] - 12s 212us/sample - loss: 0.0054 - acc: 0.9983\n",
            "Epoch 20/20\n",
            "56000/56000 [==============================] - 12s 212us/sample - loss: 0.0071 - acc: 0.9979\n",
            "14000/14000 [==============================] - 1s 79us/sample - loss: 0.1596 - acc: 0.9784\n"
          ],
          "name": "stdout"
        }
      ]
    },
    {
      "cell_type": "markdown",
      "metadata": {
        "id": "QcQU1jQf6JKH",
        "colab_type": "text"
      },
      "source": [
        "## 4 conv layers, 1 pooling layer"
      ]
    },
    {
      "cell_type": "code",
      "metadata": {
        "id": "ARS-dfBp4T9a",
        "colab_type": "code",
        "outputId": "e2cf7f80-e6f2-43a1-ec8e-182366b71d41",
        "colab": {
          "base_uri": "https://localhost:8080/",
          "height": 442
        }
      },
      "source": [
        "model = tf.keras.models.Sequential()\n",
        "model.add(tf.keras.layers.Conv3D(8, (1,3,3), activation='relu', input_shape=(12, 14, 14, 1)))\n",
        "#model.add(tf.keras.layers.MaxPooling3D(pool_size=(2, 2, 2), strides=(1, 2, 2)))\n",
        "#model.add(tf.keras.layers.BatchNormalization())\n",
        "model.add(tf.keras.layers.Conv3D(16, (1,3,3), activation='relu'))\n",
        "model.add(tf.keras.layers.Conv3D(32, (1,3,3), activation='relu'))\n",
        "model.add(tf.keras.layers.Conv3D(32, (1,3,3), activation='relu'))\n",
        "model.add(tf.keras.layers.MaxPooling3D(pool_size=(1, 2, 2), strides=(1, 2, 2)))\n",
        "model.add(tf.keras.layers.BatchNormalization())\n",
        "\n",
        "\n",
        "#FC Layers\n",
        "model.add(tf.keras.layers.Flatten())\n",
        "model.add(tf.keras.layers.Dense(128, activation='relu'))\n",
        "model.add(tf.keras.layers.Dense(10, activation='softmax'))\n",
        "\n",
        "model.compile(optimizer='adam', loss='sparse_categorical_crossentropy', metrics=['accuracy'])\n",
        "model.summary()"
      ],
      "execution_count": 31,
      "outputs": [
        {
          "output_type": "stream",
          "text": [
            "_________________________________________________________________\n",
            "Layer (type)                 Output Shape              Param #   \n",
            "=================================================================\n",
            "conv3d_3 (Conv3D)            (None, 12, 12, 12, 8)     80        \n",
            "_________________________________________________________________\n",
            "conv3d_4 (Conv3D)            (None, 12, 10, 10, 16)    1168      \n",
            "_________________________________________________________________\n",
            "conv3d_5 (Conv3D)            (None, 12, 8, 8, 32)      4640      \n",
            "_________________________________________________________________\n",
            "conv3d_6 (Conv3D)            (None, 12, 6, 6, 32)      9248      \n",
            "_________________________________________________________________\n",
            "max_pooling3d_1 (MaxPooling3 (None, 12, 3, 3, 32)      0         \n",
            "_________________________________________________________________\n",
            "batch_normalization_v1_3 (Ba (None, 12, 3, 3, 32)      128       \n",
            "_________________________________________________________________\n",
            "flatten_5 (Flatten)          (None, 3456)              0         \n",
            "_________________________________________________________________\n",
            "dense_10 (Dense)             (None, 128)               442496    \n",
            "_________________________________________________________________\n",
            "dense_11 (Dense)             (None, 10)                1290      \n",
            "=================================================================\n",
            "Total params: 459,050\n",
            "Trainable params: 458,986\n",
            "Non-trainable params: 64\n",
            "_________________________________________________________________\n"
          ],
          "name": "stdout"
        }
      ]
    },
    {
      "cell_type": "code",
      "metadata": {
        "id": "pON-Nkrb6SUM",
        "colab_type": "code",
        "outputId": "a2cfea25-daa1-41a8-b4ec-51e0177bb7f0",
        "colab": {
          "base_uri": "https://localhost:8080/",
          "height": 714
        }
      },
      "source": [
        "history_qcnn_4c1p = model.fit(X_train_q, y_train_q, epochs=20)\n",
        "test_loss = model.evaluate(X_test_q, y_test_q)"
      ],
      "execution_count": 32,
      "outputs": [
        {
          "output_type": "stream",
          "text": [
            "Epoch 1/20\n",
            "56000/56000 [==============================] - 14s 247us/sample - loss: 0.1850 - acc: 0.9441\n",
            "Epoch 2/20\n",
            "56000/56000 [==============================] - 13s 235us/sample - loss: 0.0805 - acc: 0.9752\n",
            "Epoch 3/20\n",
            "56000/56000 [==============================] - 13s 233us/sample - loss: 0.0528 - acc: 0.9831\n",
            "Epoch 4/20\n",
            "56000/56000 [==============================] - 13s 233us/sample - loss: 0.0383 - acc: 0.9877\n",
            "Epoch 5/20\n",
            "56000/56000 [==============================] - 14s 246us/sample - loss: 0.0273 - acc: 0.9908\n",
            "Epoch 6/20\n",
            "56000/56000 [==============================] - 13s 235us/sample - loss: 0.0249 - acc: 0.9921\n",
            "Epoch 7/20\n",
            "56000/56000 [==============================] - 14s 247us/sample - loss: 0.0212 - acc: 0.9931\n",
            "Epoch 8/20\n",
            "56000/56000 [==============================] - 13s 238us/sample - loss: 0.0185 - acc: 0.9938\n",
            "Epoch 9/20\n",
            "56000/56000 [==============================] - 13s 233us/sample - loss: 0.0154 - acc: 0.9950\n",
            "Epoch 10/20\n",
            "56000/56000 [==============================] - 13s 233us/sample - loss: 0.0140 - acc: 0.9958\n",
            "Epoch 11/20\n",
            "56000/56000 [==============================] - 14s 247us/sample - loss: 0.0118 - acc: 0.9965\n",
            "Epoch 12/20\n",
            "56000/56000 [==============================] - 13s 237us/sample - loss: 0.0112 - acc: 0.9964\n",
            "Epoch 13/20\n",
            "56000/56000 [==============================] - 13s 233us/sample - loss: 0.0118 - acc: 0.9964\n",
            "Epoch 14/20\n",
            "56000/56000 [==============================] - 13s 233us/sample - loss: 0.0110 - acc: 0.9967\n",
            "Epoch 15/20\n",
            "56000/56000 [==============================] - 13s 235us/sample - loss: 0.0082 - acc: 0.9974\n",
            "Epoch 16/20\n",
            "56000/56000 [==============================] - 13s 239us/sample - loss: 0.0085 - acc: 0.9971\n",
            "Epoch 17/20\n",
            "56000/56000 [==============================] - 14s 249us/sample - loss: 0.0109 - acc: 0.9967\n",
            "Epoch 18/20\n",
            "56000/56000 [==============================] - 13s 240us/sample - loss: 0.0092 - acc: 0.9975\n",
            "Epoch 19/20\n",
            "56000/56000 [==============================] - 13s 235us/sample - loss: 0.0078 - acc: 0.9976\n",
            "Epoch 20/20\n",
            "56000/56000 [==============================] - 13s 235us/sample - loss: 0.0064 - acc: 0.9982\n",
            "14000/14000 [==============================] - 1s 83us/sample - loss: 0.1545 - acc: 0.9771\n"
          ],
          "name": "stdout"
        }
      ]
    },
    {
      "cell_type": "code",
      "metadata": {
        "id": "APCkCJyy6VOp",
        "colab_type": "code",
        "outputId": "dcc248c2-6cf6-46b5-8ebe-316f6c47f784",
        "colab": {
          "base_uri": "https://localhost:8080/",
          "height": 573
        }
      },
      "source": [
        "import matplotlib.pyplot as plt\n",
        "# Plot training accuracy values\n",
        "#plt.plot(history_qcnn_3c2p.history['acc'], color='green', label='3c2p_layers')\n",
        "plt.plot(history_qcnn_3c1p.history['acc'], color='blue', label='3c1p_layers')\n",
        "plt.plot(history_qcnn_4c1p.history['acc'], color='red', label='4c1p_layers')\n",
        "plt.title('Model accuracy of quaternion cnn')\n",
        "plt.ylabel('Accuracy')\n",
        "plt.xlabel('Epoch')\n",
        "plt.legend()\n",
        "plt.show()\n",
        "\n",
        "# Plot training loss values\n",
        "#plt.plot(history_cnn_3c2p.history['loss'], color='green', label='3c2p_layers')\n",
        "plt.plot(history_qcnn_3c1p.history['loss'], color='blue', label='3c1p_layers')\n",
        "plt.plot(history_qcnn_4c1p.history['loss'], color='red', label='4c1p_layers')\n",
        "plt.title('Model loss of quaternion cnn')\n",
        "plt.ylabel('Loss')\n",
        "plt.xlabel('Epoch')\n",
        "plt.legend()\n",
        "plt.show()\n",
        "\n",
        "\n"
      ],
      "execution_count": 33,
      "outputs": [
        {
          "output_type": "display_data",
          "data": {
            "image/png": "[encoded data removed]",
            "text/plain": [
              "<Figure size 432x288 with 1 Axes>"
            ]
          },
          "metadata": {
            "tags": []
          }
        },
        {
          "output_type": "display_data",
          "data": {
            "image/png": "[encoded data removed]",
            "text/plain": [
              "<Figure size 432x288 with 1 Axes>"
            ]
          },
          "metadata": {
            "tags": []
          }
        }
      ]
    },
    {
      "cell_type": "markdown",
      "metadata": {
        "id": "yEbus0qzVwPH",
        "colab_type": "text"
      },
      "source": [
        "# WCNN"
      ]
    },
    {
      "cell_type": "code",
      "metadata": {
        "id": "FqllLg-oV39Z",
        "colab_type": "code",
        "outputId": "e0223202-a144-444c-893f-9b6276d73b67",
        "colab": {
          "base_uri": "https://localhost:8080/",
          "height": 51
        }
      },
      "source": [
        "f = h5py.File('/content/drive/My Drive/Colab Notebooks/waveletFull.mat','r') \n",
        "\n",
        "X_w = f['waveletImages'][:]\n",
        "print(X_w.shape)\n",
        "\n",
        "#lable\n",
        "f = h5py.File('/content/drive/My Drive/Colab Notebooks/waveletFullLabels.mat','r') \n",
        "y_w = f['waveletImagesLabels'][:]\n",
        "y_w = y_w.T\n",
        "print(y_w.shape)"
      ],
      "execution_count": 34,
      "outputs": [
        {
          "output_type": "stream",
          "text": [
            "(70000, 4, 14, 14)\n",
            "(70000, 1)\n"
          ],
          "name": "stdout"
        }
      ]
    },
    {
      "cell_type": "code",
      "metadata": {
        "id": "QZzXURUkV3nP",
        "colab_type": "code",
        "colab": {}
      },
      "source": [
        "X_train_w, X_test_w, y_train_w, y_test_w = train_test_split(\n",
        "X_w, y_w, test_size=0.2, random_state=42)"
      ],
      "execution_count": 0,
      "outputs": []
    },
    {
      "cell_type": "code",
      "metadata": {
        "id": "XwpxCwZgV3jl",
        "colab_type": "code",
        "outputId": "2fe493ba-2f65-46a3-fb79-9a6ebccc74eb",
        "colab": {
          "base_uri": "https://localhost:8080/",
          "height": 102
        }
      },
      "source": [
        "X_train_w = X_train_w.reshape(X_train_w.shape[0], X_train_w.shape[1], X_train_w.shape[2], X_train_w.shape[3],1)\n",
        "X_test_w = X_test_w.reshape(X_test_w.shape[0], X_train_w.shape[1], X_train_w.shape[2], X_train_w.shape[3],1)\n",
        "#training_labels = training_labels[0]\n",
        "y_train_w.astype(int)\n",
        "y_test_w.astype(int)\n",
        "print('Number of training examples: ' + str(X_train_w.shape[0]))\n",
        "print('Training images shape:' + str(X_train_w.shape))\n",
        "print('Training labels shape:' + str(y_train_w.shape))\n",
        "print('Test images shape:' + str(X_test_w.shape))\n",
        "print('Test labels shape:' + str(y_test_w.shape))"
      ],
      "execution_count": 36,
      "outputs": [
        {
          "output_type": "stream",
          "text": [
            "Number of training examples: 56000\n",
            "Training images shape:(56000, 4, 14, 14, 1)\n",
            "Training labels shape:(56000, 1)\n",
            "Test images shape:(14000, 4, 14, 14, 1)\n",
            "Test labels shape:(14000, 1)\n"
          ],
          "name": "stdout"
        }
      ]
    },
    {
      "cell_type": "markdown",
      "metadata": {
        "id": "k_Euj8LLXQFa",
        "colab_type": "text"
      },
      "source": [
        "## 3 conv layers, 1 pooling"
      ]
    },
    {
      "cell_type": "code",
      "metadata": {
        "id": "JN6ct9RiV3gG",
        "colab_type": "code",
        "outputId": "6e1b91b7-302e-4c78-e287-7989d933b6f6",
        "colab": {
          "base_uri": "https://localhost:8080/",
          "height": 408
        }
      },
      "source": [
        "model = tf.keras.models.Sequential()\n",
        "model.add(tf.keras.layers.Conv3D(8, (1,3,3), activation='relu', input_shape=(4, 14, 14, 1)))\n",
        "#model.add(tf.keras.layers.MaxPooling3D(pool_size=(2, 2, 2), strides=(1, 2, 2)))\n",
        "#model.add(tf.keras.layers.BatchNormalization())\n",
        "model.add(tf.keras.layers.Conv3D(16, (1,3,3), activation='relu'))\n",
        "model.add(tf.keras.layers.Conv3D(32, (1,3,3), activation='relu'))\n",
        "model.add(tf.keras.layers.MaxPooling3D(pool_size=(1, 2, 2), strides=(1, 2, 2)))\n",
        "model.add(tf.keras.layers.BatchNormalization())\n",
        "\n",
        "\n",
        "#FC Layers\n",
        "model.add(tf.keras.layers.Flatten())\n",
        "model.add(tf.keras.layers.Dense(128, activation='relu'))\n",
        "model.add(tf.keras.layers.Dense(10, activation='softmax'))\n",
        "\n",
        "model.compile(optimizer='adam', loss='sparse_categorical_crossentropy', metrics=['accuracy'])\n",
        "model.summary()\n",
        "\n"
      ],
      "execution_count": 37,
      "outputs": [
        {
          "output_type": "stream",
          "text": [
            "_________________________________________________________________\n",
            "Layer (type)                 Output Shape              Param #   \n",
            "=================================================================\n",
            "conv3d_7 (Conv3D)            (None, 4, 12, 12, 8)      80        \n",
            "_________________________________________________________________\n",
            "conv3d_8 (Conv3D)            (None, 4, 10, 10, 16)     1168      \n",
            "_________________________________________________________________\n",
            "conv3d_9 (Conv3D)            (None, 4, 8, 8, 32)       4640      \n",
            "_________________________________________________________________\n",
            "max_pooling3d_2 (MaxPooling3 (None, 4, 4, 4, 32)       0         \n",
            "_________________________________________________________________\n",
            "batch_normalization_v1_4 (Ba (None, 4, 4, 4, 32)       128       \n",
            "_________________________________________________________________\n",
            "flatten_6 (Flatten)          (None, 2048)              0         \n",
            "_________________________________________________________________\n",
            "dense_12 (Dense)             (None, 128)               262272    \n",
            "_________________________________________________________________\n",
            "dense_13 (Dense)             (None, 10)                1290      \n",
            "=================================================================\n",
            "Total params: 269,578\n",
            "Trainable params: 269,514\n",
            "Non-trainable params: 64\n",
            "_________________________________________________________________\n"
          ],
          "name": "stdout"
        }
      ]
    },
    {
      "cell_type": "code",
      "metadata": {
        "id": "pO1awSlxV3WL",
        "colab_type": "code",
        "outputId": "ecb91622-acee-496e-f1cb-1ebb58d43a31",
        "colab": {
          "base_uri": "https://localhost:8080/",
          "height": 714
        }
      },
      "source": [
        "history_wcnn_3c1p = model.fit(X_train_w, y_train_w, epochs=20, verbose=1)\n",
        "test_loss = model.evaluate(X_test_w, y_test_w)"
      ],
      "execution_count": 38,
      "outputs": [
        {
          "output_type": "stream",
          "text": [
            "Epoch 1/20\n",
            "56000/56000 [==============================] - 11s 188us/sample - loss: 0.1149 - acc: 0.9637\n",
            "Epoch 2/20\n",
            "56000/56000 [==============================] - 10s 181us/sample - loss: 0.0428 - acc: 0.9864\n",
            "Epoch 3/20\n",
            "56000/56000 [==============================] - 10s 181us/sample - loss: 0.0267 - acc: 0.9915\n",
            "Epoch 4/20\n",
            "56000/56000 [==============================] - 11s 191us/sample - loss: 0.0206 - acc: 0.9930\n",
            "Epoch 5/20\n",
            "56000/56000 [==============================] - 11s 194us/sample - loss: 0.0148 - acc: 0.9952\n",
            "Epoch 6/20\n",
            "56000/56000 [==============================] - 12s 212us/sample - loss: 0.0146 - acc: 0.9950\n",
            "Epoch 7/20\n",
            "56000/56000 [==============================] - 10s 180us/sample - loss: 0.0113 - acc: 0.9965\n",
            "Epoch 8/20\n",
            "56000/56000 [==============================] - 10s 180us/sample - loss: 0.0107 - acc: 0.9965\n",
            "Epoch 9/20\n",
            "56000/56000 [==============================] - 10s 179us/sample - loss: 0.0098 - acc: 0.9970\n",
            "Epoch 10/20\n",
            "56000/56000 [==============================] - 10s 186us/sample - loss: 0.0071 - acc: 0.9976\n",
            "Epoch 11/20\n",
            "56000/56000 [==============================] - 11s 188us/sample - loss: 0.0080 - acc: 0.9976\n",
            "Epoch 12/20\n",
            "56000/56000 [==============================] - 11s 203us/sample - loss: 0.0106 - acc: 0.9967\n",
            "Epoch 13/20\n",
            "56000/56000 [==============================] - 10s 181us/sample - loss: 0.0053 - acc: 0.9983\n",
            "Epoch 14/20\n",
            "56000/56000 [==============================] - 10s 180us/sample - loss: 0.0065 - acc: 0.9980\n",
            "Epoch 15/20\n",
            "56000/56000 [==============================] - 10s 180us/sample - loss: 0.0069 - acc: 0.9980\n",
            "Epoch 16/20\n",
            "56000/56000 [==============================] - 10s 179us/sample - loss: 0.0060 - acc: 0.9984\n",
            "Epoch 17/20\n",
            "56000/56000 [==============================] - 10s 179us/sample - loss: 0.0048 - acc: 0.9984\n",
            "Epoch 18/20\n",
            "56000/56000 [==============================] - 10s 179us/sample - loss: 0.0046 - acc: 0.9984\n",
            "Epoch 19/20\n",
            "56000/56000 [==============================] - 10s 179us/sample - loss: 0.0033 - acc: 0.9990\n",
            "Epoch 20/20\n",
            "56000/56000 [==============================] - 11s 204us/sample - loss: 0.0055 - acc: 0.9983\n",
            "14000/14000 [==============================] - 1s 73us/sample - loss: 0.0863 - acc: 0.9877\n"
          ],
          "name": "stdout"
        }
      ]
    },
    {
      "cell_type": "markdown",
      "metadata": {
        "id": "lUh27nAzY5Dh",
        "colab_type": "text"
      },
      "source": [
        "## 4 conv layers, 1 pooling"
      ]
    },
    {
      "cell_type": "code",
      "metadata": {
        "id": "Xc80kjHGY-8C",
        "colab_type": "code",
        "outputId": "07df8ada-0621-4d47-8a78-9a0f0cd335d6",
        "colab": {
          "base_uri": "https://localhost:8080/",
          "height": 442
        }
      },
      "source": [
        "model = tf.keras.models.Sequential()\n",
        "model.add(tf.keras.layers.Conv3D(8, (1,3,3), activation='relu', input_shape=(4, 14, 14, 1)))\n",
        "#model.add(tf.keras.layers.MaxPooling3D(pool_size=(2, 2, 2), strides=(1, 2, 2)))\n",
        "#model.add(tf.keras.layers.BatchNormalization())\n",
        "model.add(tf.keras.layers.Conv3D(16, (1,3,3), activation='relu'))\n",
        "model.add(tf.keras.layers.Conv3D(32, (1,3,3), activation='relu'))\n",
        "model.add(tf.keras.layers.Conv3D(32, (1,3,3), activation='relu'))\n",
        "model.add(tf.keras.layers.MaxPooling3D(pool_size=(1, 2, 2), strides=(1, 2, 2)))\n",
        "model.add(tf.keras.layers.BatchNormalization())\n",
        "\n",
        "\n",
        "#FC Layers\n",
        "model.add(tf.keras.layers.Flatten())\n",
        "model.add(tf.keras.layers.Dense(128, activation='relu'))\n",
        "model.add(tf.keras.layers.Dense(10, activation='softmax'))\n",
        "\n",
        "model.compile(optimizer='adam', loss='sparse_categorical_crossentropy', metrics=['accuracy'])\n",
        "model.summary()\n",
        "\n"
      ],
      "execution_count": 39,
      "outputs": [
        {
          "output_type": "stream",
          "text": [
            "_________________________________________________________________\n",
            "Layer (type)                 Output Shape              Param #   \n",
            "=================================================================\n",
            "conv3d_10 (Conv3D)           (None, 4, 12, 12, 8)      80        \n",
            "_________________________________________________________________\n",
            "conv3d_11 (Conv3D)           (None, 4, 10, 10, 16)     1168      \n",
            "_________________________________________________________________\n",
            "conv3d_12 (Conv3D)           (None, 4, 8, 8, 32)       4640      \n",
            "_________________________________________________________________\n",
            "conv3d_13 (Conv3D)           (None, 4, 6, 6, 32)       9248      \n",
            "_________________________________________________________________\n",
            "max_pooling3d_3 (MaxPooling3 (None, 4, 3, 3, 32)       0         \n",
            "_________________________________________________________________\n",
            "batch_normalization_v1_5 (Ba (None, 4, 3, 3, 32)       128       \n",
            "_________________________________________________________________\n",
            "flatten_7 (Flatten)          (None, 1152)              0         \n",
            "_________________________________________________________________\n",
            "dense_14 (Dense)             (None, 128)               147584    \n",
            "_________________________________________________________________\n",
            "dense_15 (Dense)             (None, 10)                1290      \n",
            "=================================================================\n",
            "Total params: 164,138\n",
            "Trainable params: 164,074\n",
            "Non-trainable params: 64\n",
            "_________________________________________________________________\n"
          ],
          "name": "stdout"
        }
      ]
    },
    {
      "cell_type": "code",
      "metadata": {
        "id": "RTrzf4gFY-yw",
        "colab_type": "code",
        "outputId": "1d6608b9-7868-445e-a25f-ff062aaa29b4",
        "colab": {
          "base_uri": "https://localhost:8080/",
          "height": 714
        }
      },
      "source": [
        "history_wcnn_4c1p = model.fit(X_train_w, y_train_w, epochs=20, verbose=1)\n",
        "test_loss = model.evaluate(X_test_w, y_test_w)"
      ],
      "execution_count": 40,
      "outputs": [
        {
          "output_type": "stream",
          "text": [
            "Epoch 1/20\n",
            "56000/56000 [==============================] - 12s 207us/sample - loss: 0.1246 - acc: 0.9613\n",
            "Epoch 2/20\n",
            "56000/56000 [==============================] - 11s 194us/sample - loss: 0.0536 - acc: 0.9827\n",
            "Epoch 3/20\n",
            "56000/56000 [==============================] - 11s 195us/sample - loss: 0.0374 - acc: 0.9883\n",
            "Epoch 4/20\n",
            "56000/56000 [==============================] - 11s 195us/sample - loss: 0.0271 - acc: 0.9911\n",
            "Epoch 5/20\n",
            "56000/56000 [==============================] - 11s 195us/sample - loss: 0.0222 - acc: 0.9927\n",
            "Epoch 6/20\n",
            "56000/56000 [==============================] - 11s 195us/sample - loss: 0.0197 - acc: 0.9937\n",
            "Epoch 7/20\n",
            "56000/56000 [==============================] - 12s 207us/sample - loss: 0.0143 - acc: 0.9951\n",
            "Epoch 8/20\n",
            "56000/56000 [==============================] - 12s 222us/sample - loss: 0.0135 - acc: 0.9956\n",
            "Epoch 9/20\n",
            "56000/56000 [==============================] - 11s 195us/sample - loss: 0.0127 - acc: 0.9961\n",
            "Epoch 10/20\n",
            "56000/56000 [==============================] - 11s 194us/sample - loss: 0.0101 - acc: 0.9970\n",
            "Epoch 11/20\n",
            "56000/56000 [==============================] - 11s 200us/sample - loss: 0.0095 - acc: 0.9969\n",
            "Epoch 12/20\n",
            "56000/56000 [==============================] - 11s 204us/sample - loss: 0.0094 - acc: 0.9973\n",
            "Epoch 13/20\n",
            "56000/56000 [==============================] - 11s 195us/sample - loss: 0.0089 - acc: 0.9972\n",
            "Epoch 14/20\n",
            "56000/56000 [==============================] - 11s 202us/sample - loss: 0.0081 - acc: 0.9976\n",
            "Epoch 15/20\n",
            "56000/56000 [==============================] - 12s 211us/sample - loss: 0.0058 - acc: 0.9981\n",
            "Epoch 16/20\n",
            "56000/56000 [==============================] - 11s 194us/sample - loss: 0.0080 - acc: 0.9976\n",
            "Epoch 17/20\n",
            "56000/56000 [==============================] - 11s 193us/sample - loss: 0.0059 - acc: 0.9982\n",
            "Epoch 18/20\n",
            "56000/56000 [==============================] - 11s 195us/sample - loss: 0.0068 - acc: 0.9977\n",
            "Epoch 19/20\n",
            "56000/56000 [==============================] - 11s 195us/sample - loss: 0.0052 - acc: 0.9986\n",
            "Epoch 20/20\n",
            "56000/56000 [==============================] - 11s 195us/sample - loss: 0.0056 - acc: 0.9982\n",
            "14000/14000 [==============================] - 1s 79us/sample - loss: 0.0660 - acc: 0.9889\n"
          ],
          "name": "stdout"
        }
      ]
    },
    {
      "cell_type": "code",
      "metadata": {
        "id": "O-ar5OjNaJva",
        "colab_type": "code",
        "outputId": "5061614c-d488-40ab-ffce-4f8f804c4aea",
        "colab": {
          "base_uri": "https://localhost:8080/",
          "height": 573
        }
      },
      "source": [
        "import matplotlib.pyplot as plt\n",
        "# Plot training accuracy values\n",
        "#plt.plot(history_qcnn_3c2p.history['acc'], color='green', label='3c2p_layers')\n",
        "plt.plot(history_wcnn_3c1p.history['acc'], color='blue', label='3c1p_layers')\n",
        "plt.plot(history_wcnn_4c1p.history['acc'], color='red', label='4c1p_layers')\n",
        "plt.title('Model accuracy of wavelet cnn')\n",
        "plt.ylabel('Accuracy')\n",
        "plt.xlabel('Epoch')\n",
        "plt.legend()\n",
        "plt.show()\n",
        "\n",
        "# Plot training loss values\n",
        "#plt.plot(history_cnn_3c2p.history['loss'], color='green', label='3c2p_layers')\n",
        "plt.plot(history_wcnn_3c1p.history['loss'], color='blue', label='3c1p_layers')\n",
        "plt.plot(history_wcnn_4c1p.history['loss'], color='red', label='4c1p_layers')\n",
        "plt.title('Model loss of wavelet cnn')\n",
        "plt.ylabel('Loss')\n",
        "plt.xlabel('Epoch')\n",
        "plt.legend()\n",
        "plt.show()\n",
        "\n",
        "\n"
      ],
      "execution_count": 41,
      "outputs": [
        {
          "output_type": "display_data",
          "data": {
            "image/png": "[encoded data removed]",
            "text/plain": [
              "<Figure size 432x288 with 1 Axes>"
            ]
          },
          "metadata": {
            "tags": []
          }
        },
        {
          "output_type": "display_data",
          "data": {
            "image/png": "[encoded data removed]",
            "text/plain": [
              "<Figure size 432x288 with 1 Axes>"
            ]
          },
          "metadata": {
            "tags": []
          }
        }
      ]
    },
    {
      "cell_type": "markdown",
      "metadata": {
        "id": "hs_x-t9z2Ix5",
        "colab_type": "text"
      },
      "source": [
        "# Complex Wavelet CNN(DTW CNN)"
      ]
    },
    {
      "cell_type": "code",
      "metadata": {
        "id": "XFeM5q8l2R4w",
        "colab_type": "code",
        "colab": {
          "base_uri": "https://localhost:8080/",
          "height": 51
        },
        "outputId": "edfd5dca-fd80-4c8c-c6de-815fe37ee3ac"
      },
      "source": [
        "f = h5py.File('/content/drive/My Drive/Colab Notebooks/DTWImages.mat','r') \n",
        "\n",
        "X_cw = f['DTWImages'][:]\n",
        "print(X_cw.shape)\n",
        "\n",
        "#lable\n",
        "f = h5py.File('/content/drive/My Drive/Colab Notebooks/DTWImagesLabels.mat','r') \n",
        "y_cw = f['DTWImagesLabels'][:]\n",
        "y_cw = y_cw.T\n",
        "print(y_cw.shape)"
      ],
      "execution_count": 43,
      "outputs": [
        {
          "output_type": "stream",
          "text": [
            "(70000, 8, 14, 14)\n",
            "(70000, 1)\n"
          ],
          "name": "stdout"
        }
      ]
    },
    {
      "cell_type": "code",
      "metadata": {
        "id": "2csxmfN82SBs",
        "colab_type": "code",
        "colab": {}
      },
      "source": [
        "X_train_cw, X_test_cw, y_train_cw, y_test_cw = train_test_split(\n",
        "X_cw, y_cw, test_size=0.2, random_state=42)"
      ],
      "execution_count": 0,
      "outputs": []
    },
    {
      "cell_type": "code",
      "metadata": {
        "id": "lrXiY3J53zbZ",
        "colab_type": "code",
        "colab": {
          "base_uri": "https://localhost:8080/",
          "height": 102
        },
        "outputId": "4d0ca7be-f080-4805-e598-7a5daa002158"
      },
      "source": [
        "X_train_cw = X_train_cw.reshape(X_train_cw.shape[0], X_train_cw.shape[1], X_train_cw.shape[2], X_train_cw.shape[3],1)\n",
        "X_test_cw = X_test_cw.reshape(X_test_cw.shape[0], X_train_cw.shape[1], X_train_cw.shape[2], X_train_cw.shape[3],1)\n",
        "#training_labels = training_labels[0]\n",
        "y_train_cw.astype(int)\n",
        "y_test_cw.astype(int)\n",
        "print('Number of training examples: ' + str(X_train_cw.shape[0]))\n",
        "print('Training images shape:' + str(X_train_cw.shape))\n",
        "print('Training labels shape:' + str(y_train_cw.shape))\n",
        "print('Test images shape:' + str(X_test_cw.shape))\n",
        "print('Test labels shape:' + str(y_test_cw.shape))"
      ],
      "execution_count": 46,
      "outputs": [
        {
          "output_type": "stream",
          "text": [
            "Number of training examples: 56000\n",
            "Training images shape:(56000, 8, 14, 14, 1)\n",
            "Training labels shape:(56000, 1)\n",
            "Test images shape:(14000, 8, 14, 14, 1)\n",
            "Test labels shape:(14000, 1)\n"
          ],
          "name": "stdout"
        }
      ]
    },
    {
      "cell_type": "markdown",
      "metadata": {
        "id": "0jGISinJ8vPM",
        "colab_type": "text"
      },
      "source": [
        "## 3conv layers 1pooling layer"
      ]
    },
    {
      "cell_type": "code",
      "metadata": {
        "id": "OFor6fX78zWk",
        "colab_type": "code",
        "colab": {
          "base_uri": "https://localhost:8080/",
          "height": 408
        },
        "outputId": "6d6af962-b226-4511-de2b-c85d83292726"
      },
      "source": [
        "model = tf.keras.models.Sequential()\n",
        "model.add(tf.keras.layers.Conv3D(8, (1,3,3), activation='relu', input_shape=(8, 14, 14, 1)))\n",
        "#model.add(tf.keras.layers.MaxPooling3D(pool_size=(2, 2, 2), strides=(1, 2, 2)))\n",
        "#model.add(tf.keras.layers.BatchNormalization())\n",
        "model.add(tf.keras.layers.Conv3D(16, (1,3,3), activation='relu'))\n",
        "model.add(tf.keras.layers.Conv3D(32, (1,3,3), activation='relu'))\n",
        "model.add(tf.keras.layers.MaxPooling3D(pool_size=(1, 2, 2), strides=(1, 2, 2)))\n",
        "model.add(tf.keras.layers.BatchNormalization())\n",
        "\n",
        "\n",
        "#FC Layers\n",
        "model.add(tf.keras.layers.Flatten())\n",
        "model.add(tf.keras.layers.Dense(128, activation='relu'))\n",
        "model.add(tf.keras.layers.Dense(10, activation='softmax'))\n",
        "\n",
        "model.compile(optimizer='adam', loss='sparse_categorical_crossentropy', metrics=['accuracy'])\n",
        "model.summary()\n",
        "\n"
      ],
      "execution_count": 47,
      "outputs": [
        {
          "output_type": "stream",
          "text": [
            "_________________________________________________________________\n",
            "Layer (type)                 Output Shape              Param #   \n",
            "=================================================================\n",
            "conv3d_14 (Conv3D)           (None, 8, 12, 12, 8)      80        \n",
            "_________________________________________________________________\n",
            "conv3d_15 (Conv3D)           (None, 8, 10, 10, 16)     1168      \n",
            "_________________________________________________________________\n",
            "conv3d_16 (Conv3D)           (None, 8, 8, 8, 32)       4640      \n",
            "_________________________________________________________________\n",
            "max_pooling3d_4 (MaxPooling3 (None, 8, 4, 4, 32)       0         \n",
            "_________________________________________________________________\n",
            "batch_normalization_v1_6 (Ba (None, 8, 4, 4, 32)       128       \n",
            "_________________________________________________________________\n",
            "flatten_8 (Flatten)          (None, 4096)              0         \n",
            "_________________________________________________________________\n",
            "dense_16 (Dense)             (None, 128)               524416    \n",
            "_________________________________________________________________\n",
            "dense_17 (Dense)             (None, 10)                1290      \n",
            "=================================================================\n",
            "Total params: 531,722\n",
            "Trainable params: 531,658\n",
            "Non-trainable params: 64\n",
            "_________________________________________________________________\n"
          ],
          "name": "stdout"
        }
      ]
    },
    {
      "cell_type": "code",
      "metadata": {
        "id": "sAWov0Nx9SJa",
        "colab_type": "code",
        "colab": {
          "base_uri": "https://localhost:8080/",
          "height": 714
        },
        "outputId": "984923ac-1711-4647-8418-49be1f9b6ee8"
      },
      "source": [
        "history_cwcnn_3c1p = model.fit(X_train_cw, y_train_cw, epochs=20, verbose=1)\n",
        "test_loss = model.evaluate(X_test_cw, y_test_cw)"
      ],
      "execution_count": 48,
      "outputs": [
        {
          "output_type": "stream",
          "text": [
            "Epoch 1/20\n",
            "56000/56000 [==============================] - 11s 202us/sample - loss: 0.1385 - acc: 0.9577\n",
            "Epoch 2/20\n",
            "56000/56000 [==============================] - 11s 195us/sample - loss: 0.0477 - acc: 0.9856\n",
            "Epoch 3/20\n",
            "56000/56000 [==============================] - 12s 215us/sample - loss: 0.0306 - acc: 0.9905\n",
            "Epoch 4/20\n",
            "56000/56000 [==============================] - 11s 194us/sample - loss: 0.0237 - acc: 0.9925\n",
            "Epoch 5/20\n",
            "56000/56000 [==============================] - 11s 196us/sample - loss: 0.0163 - acc: 0.9946\n",
            "Epoch 6/20\n",
            "56000/56000 [==============================] - 11s 192us/sample - loss: 0.0197 - acc: 0.9941\n",
            "Epoch 7/20\n",
            "56000/56000 [==============================] - 11s 192us/sample - loss: 0.0112 - acc: 0.9967\n",
            "Epoch 8/20\n",
            "56000/56000 [==============================] - 11s 192us/sample - loss: 0.0128 - acc: 0.9959\n",
            "Epoch 9/20\n",
            "56000/56000 [==============================] - 11s 191us/sample - loss: 0.0097 - acc: 0.9967\n",
            "Epoch 10/20\n",
            "56000/56000 [==============================] - 12s 212us/sample - loss: 0.0080 - acc: 0.9977\n",
            "Epoch 11/20\n",
            "56000/56000 [==============================] - 11s 193us/sample - loss: 0.0095 - acc: 0.9970\n",
            "Epoch 12/20\n",
            "56000/56000 [==============================] - 11s 192us/sample - loss: 0.0079 - acc: 0.9977\n",
            "Epoch 13/20\n",
            "56000/56000 [==============================] - 11s 192us/sample - loss: 0.0076 - acc: 0.9977\n",
            "Epoch 14/20\n",
            "56000/56000 [==============================] - 11s 191us/sample - loss: 0.0090 - acc: 0.9975\n",
            "Epoch 15/20\n",
            "56000/56000 [==============================] - 11s 191us/sample - loss: 0.0067 - acc: 0.9980\n",
            "Epoch 16/20\n",
            "56000/56000 [==============================] - 11s 191us/sample - loss: 0.0041 - acc: 0.9987\n",
            "Epoch 17/20\n",
            "56000/56000 [==============================] - 11s 201us/sample - loss: 0.0083 - acc: 0.9979\n",
            "Epoch 18/20\n",
            "56000/56000 [==============================] - 11s 205us/sample - loss: 0.0039 - acc: 0.9988\n",
            "Epoch 19/20\n",
            "56000/56000 [==============================] - 11s 191us/sample - loss: 0.0078 - acc: 0.9979\n",
            "Epoch 20/20\n",
            "56000/56000 [==============================] - 11s 191us/sample - loss: 0.0064 - acc: 0.9984\n",
            "14000/14000 [==============================] - 1s 83us/sample - loss: 0.1113 - acc: 0.9818\n"
          ],
          "name": "stdout"
        }
      ]
    },
    {
      "cell_type": "markdown",
      "metadata": {
        "id": "sAVzuWKU9YhF",
        "colab_type": "text"
      },
      "source": [
        "## 4conv layers 1pooling layer"
      ]
    },
    {
      "cell_type": "code",
      "metadata": {
        "id": "H5iZdVru9b_4",
        "colab_type": "code",
        "colab": {
          "base_uri": "https://localhost:8080/",
          "height": 442
        },
        "outputId": "f27fa7a2-ad16-47fe-db9d-f274239c837b"
      },
      "source": [
        "model = tf.keras.models.Sequential()\n",
        "model.add(tf.keras.layers.Conv3D(8, (1,3,3), activation='relu', input_shape=(8, 14, 14, 1)))\n",
        "#model.add(tf.keras.layers.MaxPooling3D(pool_size=(2, 2, 2), strides=(1, 2, 2)))\n",
        "#model.add(tf.keras.layers.BatchNormalization())\n",
        "model.add(tf.keras.layers.Conv3D(16, (1,3,3), activation='relu'))\n",
        "model.add(tf.keras.layers.Conv3D(32, (1,3,3), activation='relu'))\n",
        "model.add(tf.keras.layers.Conv3D(32, (1,3,3), activation='relu'))\n",
        "model.add(tf.keras.layers.MaxPooling3D(pool_size=(1, 2, 2), strides=(1, 2, 2)))\n",
        "model.add(tf.keras.layers.BatchNormalization())\n",
        "\n",
        "\n",
        "#FC Layers\n",
        "model.add(tf.keras.layers.Flatten())\n",
        "model.add(tf.keras.layers.Dense(128, activation='relu'))\n",
        "model.add(tf.keras.layers.Dense(10, activation='softmax'))\n",
        "\n",
        "model.compile(optimizer='adam', loss='sparse_categorical_crossentropy', metrics=['accuracy'])\n",
        "model.summary()"
      ],
      "execution_count": 49,
      "outputs": [
        {
          "output_type": "stream",
          "text": [
            "_________________________________________________________________\n",
            "Layer (type)                 Output Shape              Param #   \n",
            "=================================================================\n",
            "conv3d_17 (Conv3D)           (None, 8, 12, 12, 8)      80        \n",
            "_________________________________________________________________\n",
            "conv3d_18 (Conv3D)           (None, 8, 10, 10, 16)     1168      \n",
            "_________________________________________________________________\n",
            "conv3d_19 (Conv3D)           (None, 8, 8, 8, 32)       4640      \n",
            "_________________________________________________________________\n",
            "conv3d_20 (Conv3D)           (None, 8, 6, 6, 32)       9248      \n",
            "_________________________________________________________________\n",
            "max_pooling3d_5 (MaxPooling3 (None, 8, 3, 3, 32)       0         \n",
            "_________________________________________________________________\n",
            "batch_normalization_v1_7 (Ba (None, 8, 3, 3, 32)       128       \n",
            "_________________________________________________________________\n",
            "flatten_9 (Flatten)          (None, 2304)              0         \n",
            "_________________________________________________________________\n",
            "dense_18 (Dense)             (None, 128)               295040    \n",
            "_________________________________________________________________\n",
            "dense_19 (Dense)             (None, 10)                1290      \n",
            "=================================================================\n",
            "Total params: 311,594\n",
            "Trainable params: 311,530\n",
            "Non-trainable params: 64\n",
            "_________________________________________________________________\n"
          ],
          "name": "stdout"
        }
      ]
    },
    {
      "cell_type": "code",
      "metadata": {
        "id": "JrPYcATv9b1q",
        "colab_type": "code",
        "colab": {
          "base_uri": "https://localhost:8080/",
          "height": 714
        },
        "outputId": "42972cc9-e2e4-42a9-d864-7f370b6dccaf"
      },
      "source": [
        "history_cwcnn_4c1p = model.fit(X_train_cw, y_train_cw, epochs=20, verbose=1)\n",
        "test_loss = model.evaluate(X_test_cw, y_test_cw)"
      ],
      "execution_count": 50,
      "outputs": [
        {
          "output_type": "stream",
          "text": [
            "Epoch 1/20\n",
            "56000/56000 [==============================] - 14s 249us/sample - loss: 0.1464 - acc: 0.9544\n",
            "Epoch 2/20\n",
            "56000/56000 [==============================] - 12s 213us/sample - loss: 0.0640 - acc: 0.9793\n",
            "Epoch 3/20\n",
            "56000/56000 [==============================] - 13s 230us/sample - loss: 0.0416 - acc: 0.9867\n",
            "Epoch 4/20\n",
            "56000/56000 [==============================] - 12s 222us/sample - loss: 0.0285 - acc: 0.9905\n",
            "Epoch 5/20\n",
            "56000/56000 [==============================] - 12s 210us/sample - loss: 0.0236 - acc: 0.9924\n",
            "Epoch 6/20\n",
            "56000/56000 [==============================] - 12s 211us/sample - loss: 0.0205 - acc: 0.9933\n",
            "Epoch 7/20\n",
            "56000/56000 [==============================] - 12s 210us/sample - loss: 0.0178 - acc: 0.9940\n",
            "Epoch 8/20\n",
            "56000/56000 [==============================] - 12s 211us/sample - loss: 0.0134 - acc: 0.9959\n",
            "Epoch 9/20\n",
            "56000/56000 [==============================] - 12s 221us/sample - loss: 0.0133 - acc: 0.9959\n",
            "Epoch 10/20\n",
            "56000/56000 [==============================] - 12s 221us/sample - loss: 0.0109 - acc: 0.9964\n",
            "Epoch 11/20\n",
            "56000/56000 [==============================] - 12s 210us/sample - loss: 0.0095 - acc: 0.9967\n",
            "Epoch 12/20\n",
            "56000/56000 [==============================] - 12s 210us/sample - loss: 0.0084 - acc: 0.9972\n",
            "Epoch 13/20\n",
            "56000/56000 [==============================] - 12s 210us/sample - loss: 0.0096 - acc: 0.9972\n",
            "Epoch 14/20\n",
            "56000/56000 [==============================] - 12s 210us/sample - loss: 0.0093 - acc: 0.9972\n",
            "Epoch 15/20\n",
            "56000/56000 [==============================] - 12s 210us/sample - loss: 0.0053 - acc: 0.9981\n",
            "Epoch 16/20\n",
            "56000/56000 [==============================] - 13s 230us/sample - loss: 0.0081 - acc: 0.9977\n",
            "Epoch 17/20\n",
            "56000/56000 [==============================] - 12s 213us/sample - loss: 0.0081 - acc: 0.9973\n",
            "Epoch 18/20\n",
            "56000/56000 [==============================] - 12s 209us/sample - loss: 0.0042 - acc: 0.9986\n",
            "Epoch 19/20\n",
            "56000/56000 [==============================] - 12s 210us/sample - loss: 0.0075 - acc: 0.9979\n",
            "Epoch 20/20\n",
            "56000/56000 [==============================] - 12s 210us/sample - loss: 0.0065 - acc: 0.9980\n",
            "14000/14000 [==============================] - 1s 88us/sample - loss: 0.1089 - acc: 0.9822\n"
          ],
          "name": "stdout"
        }
      ]
    },
    {
      "cell_type": "code",
      "metadata": {
        "id": "D4cty0Ky9vY8",
        "colab_type": "code",
        "colab": {
          "base_uri": "https://localhost:8080/",
          "height": 573
        },
        "outputId": "9d1499ee-635a-42ea-e7a3-f00194c8bf05"
      },
      "source": [
        "import matplotlib.pyplot as plt\n",
        "# Plot training accuracy values\n",
        "plt.plot(history_cwcnn_3c1p.history['acc'], color='blue', label='3c1p_layers')\n",
        "plt.plot(history_cwcnn_4c1p.history['acc'], color='red', label='4c1p_layers')\n",
        "plt.title('Model accuracy of complex wavelet cnn')\n",
        "plt.ylabel('Accuracy')\n",
        "plt.xlabel('Epoch')\n",
        "plt.legend()\n",
        "plt.show()\n",
        "\n",
        "# Plot training loss values\n",
        "#plt.plot(history_cnn_3c2p.history['loss'], color='green', label='3c2p_layers')\n",
        "plt.plot(history_cwcnn_3c1p.history['loss'], color='blue', label='3c1p_layers')\n",
        "plt.plot(history_cwcnn_4c1p.history['loss'], color='red', label='4c1p_layers')\n",
        "plt.title('Model loss of complex wavelet cnn')\n",
        "plt.ylabel('Loss')\n",
        "plt.xlabel('Epoch')\n",
        "plt.legend()\n",
        "plt.show()\n",
        "\n",
        "\n",
        "\n"
      ],
      "execution_count": 51,
      "outputs": [
        {
          "output_type": "display_data",
          "data": {
            "image/png": "[encoded data removed]",
            "text/plain": [
              "<Figure size 432x288 with 1 Axes>"
            ]
          },
          "metadata": {
            "tags": []
          }
        },
        {
          "output_type": "display_data",
          "data": {
            "image/png": "[encoded data removed]",
            "text/plain": [
              "<Figure size 432x288 with 1 Axes>"
            ]
          },
          "metadata": {
            "tags": []
          }
        }
      ]
    },
    {
      "cell_type": "markdown",
      "metadata": {
        "id": "B5D2XKiOaS-z",
        "colab_type": "text"
      },
      "source": [
        "# Comparison"
      ]
    },
    {
      "cell_type": "code",
      "metadata": {
        "id": "vtTcRk2iaJh0",
        "colab_type": "code",
        "colab": {}
      },
      "source": [
        ""
      ],
      "execution_count": 0,
      "outputs": []
    },
    {
      "cell_type": "code",
      "metadata": {
        "id": "HOZgLdFS9Jdv",
        "colab_type": "code",
        "outputId": "be3004a9-cdf2-438e-e02b-d6629a3d7b41",
        "colab": {
          "base_uri": "https://localhost:8080/",
          "height": 573
        }
      },
      "source": [
        "# Plot training accuracy values\n",
        "plt.plot(history_wcnn_4c1p.history['acc'], color='red', label='Wcnn')\n",
        "plt.plot(history_qcnn_4c1p.history['acc'], color='blue', label='Qcnn')\n",
        "plt.plot(history_cwcnn_4c1p.history['acc'], color='m', label='CWcnn')\n",
        "plt.plot(history_cnn_4c1p.history['acc'], color='green', label='cnn')\n",
        "plt.title('Model accuracy (4 conv layers)')\n",
        "plt.ylabel('Accuracy')\n",
        "plt.xlabel('Epoch')\n",
        "plt.legend()\n",
        "plt.show()\n",
        "\n",
        "# Plot training loss values\n",
        "plt.plot(history_wcnn_4c1p.history['loss'], color='red', label='Wcnn')\n",
        "plt.plot(history_qcnn_4c1p.history['loss'], color='blue', label='Qcnn')\n",
        "plt.plot(history_cwcnn_4c1p.history['loss'], color='m', label='CWcnn')\n",
        "plt.plot(history_cnn_4c1p.history['loss'], color='green', label='cnn')\n",
        "plt.title('Model accuracy (4 conv layers)')\n",
        "plt.ylabel('Accuracy')\n",
        "plt.xlabel('Epoch')\n",
        "plt.legend()\n",
        "plt.show()\n",
        "\n",
        "\n",
        "\n",
        "\n"
      ],
      "execution_count": 52,
      "outputs": [
        {
          "output_type": "display_data",
          "data": {
            "image/png": "[encoded data removed]",
            "text/plain": [
              "<Figure size 432x288 with 1 Axes>"
            ]
          },
          "metadata": {
            "tags": []
          }
        },
        {
          "output_type": "display_data",
          "data": {
            "image/png": "[encoded data removed]",
            "text/plain": [
              "<Figure size 432x288 with 1 Axes>"
            ]
          },
          "metadata": {
            "tags": []
          }
        }
      ]
    },
    {
      "cell_type": "code",
      "metadata": {
        "id": "zkxdqF9qFv4-",
        "colab_type": "code",
        "outputId": "7b6043d6-20f6-4f84-9722-5267b265b71c",
        "colab": {
          "base_uri": "https://localhost:8080/",
          "height": 573
        }
      },
      "source": [
        "# Plot training accuracy values\n",
        "plt.plot(history_wcnn_3c1p.history['acc'], color='red', label='Wcnn')\n",
        "plt.plot(history_qcnn_3c1p.history['acc'], color='blue', label='Qcnn')\n",
        "plt.plot(history_cwcnn_3c1p.history['acc'], color='m', label='CWcnn')\n",
        "plt.plot(history_cnn_3c1p.history['acc'], color='green', label='cnn')\n",
        "plt.title('Model accuracy (3 conv layers)')\n",
        "plt.ylabel('Accuracy')\n",
        "plt.xlabel('Epoch')\n",
        "plt.legend()\n",
        "plt.show()\n",
        "\n",
        "# Plot training loss values\n",
        "plt.plot(history_wcnn_3c1p.history['loss'], color='red', label='Wcnn')\n",
        "plt.plot(history_qcnn_3c1p.history['loss'], color='blue', label='Qcnn')\n",
        "plt.plot(history_cwcnn_3c1p.history['loss'], color='m', label='CWcnn')\n",
        "plt.plot(history_cnn_3c1p.history['loss'], color='green', label='cnn')\n",
        "plt.title('Model accuracy (3 conv layers)')\n",
        "plt.ylabel('Accuracy')\n",
        "plt.xlabel('Epoch')\n",
        "plt.legend()\n",
        "plt.show()\n",
        "\n",
        "\n",
        "\n"
      ],
      "execution_count": 54,
      "outputs": [
        {
          "output_type": "display_data",
          "data": {
            "image/png": "[encoded data removed]",
            "text/plain": [
              "<Figure size 432x288 with 1 Axes>"
            ]
          },
          "metadata": {
            "tags": []
          }
        },
        {
          "output_type": "display_data",
          "data": {
            "image/png": "[encoded data removed]",
            "text/plain": [
              "<Figure size 432x288 with 1 Axes>"
            ]
          },
          "metadata": {
            "tags": []
          }
        }
      ]
    },
    {
      "cell_type": "code",
      "metadata": {
        "id": "dsvaeUGYCKk0",
        "colab_type": "code",
        "colab": {}
      },
      "source": [
        ""
      ],
      "execution_count": 0,
      "outputs": []
    }
  ]
}