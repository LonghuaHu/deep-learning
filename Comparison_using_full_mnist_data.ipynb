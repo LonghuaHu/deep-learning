{
  "nbformat": 4,
  "nbformat_minor": 0,
  "metadata": {
    "colab": {
      "name": "Comparison_using_full_mnist_data.ipynb",
      "version": "0.3.2",
      "provenance": [],
      "toc_visible": true,
      "include_colab_link": true
    },
    "kernelspec": {
      "name": "python3",
      "display_name": "Python 3"
    },
    "accelerator": "GPU"
  },
  "cells": [
    {
      "cell_type": "markdown",
      "metadata": {
        "id": "view-in-github",
        "colab_type": "text"
      },
      "source": [
        "<a href=\"https://colab.research.google.com/github/LonghuaHu/deep-learning/blob/master/Comparison_using_full_mnist_data.ipynb\" target=\"_parent\"><img src=\"https://colab.research.google.com/assets/colab-badge.svg\" alt=\"Open In Colab\"/></a>"
      ]
    },
    {
      "metadata": {
        "id": "_YJ4YMTr5bTn",
        "colab_type": "code",
        "outputId": "ecfae3f3-0493-43da-c81b-0c1fbad3ba32",
        "colab": {
          "base_uri": "https://localhost:8080/",
          "height": 129
        }
      },
      "cell_type": "code",
      "source": [
        "from google.colab import drive\n",
        "drive.mount('/content/drive')"
      ],
      "execution_count": 1,
      "outputs": [
        {
          "output_type": "stream",
          "text": [
            "Go to this URL in a browser: https://accounts.google.com/o/oauth2/auth?client_id=947318989803-6bn6qk8qdgf4n4g3pfee6491hc0brc4i.apps.googleusercontent.com&redirect_uri=urn%3Aietf%3Awg%3Aoauth%3A2.0%3Aoob&scope=email%20https%3A%2F%2Fwww.googleapis.com%2Fauth%2Fdocs.test%20https%3A%2F%2Fwww.googleapis.com%2Fauth%2Fdrive%20https%3A%2F%2Fwww.googleapis.com%2Fauth%2Fdrive.photos.readonly%20https%3A%2F%2Fwww.googleapis.com%2Fauth%2Fpeopleapi.readonly&response_type=code\n",
            "\n",
            "Enter your authorization code:\n",
            "··········\n",
            "Mounted at /content/drive\n"
          ],
          "name": "stdout"
        }
      ]
    },
    {
      "metadata": {
        "id": "g0nIwb1tHh9T",
        "colab_type": "code",
        "outputId": "c54e295e-4fef-41b0-861a-da2d6caf86bf",
        "colab": {
          "base_uri": "https://localhost:8080/",
          "height": 110
        }
      },
      "cell_type": "code",
      "source": [
        "from shutil import copyfileobj\n",
        "from six.moves import urllib\n",
        "from sklearn.datasets.base import get_data_home\n",
        "import os\n",
        " \n",
        "def fetch_mnist(data_home=None):\n",
        "    mnist_alternative_url = \"https://github.com/amplab/datascience-sp14/raw/master/lab7/mldata/mnist-original.mat\"\n",
        "    data_home = get_data_home(data_home=data_home)\n",
        "    data_home = os.path.join(data_home, 'mldata')\n",
        "    if not os.path.exists(data_home):\n",
        "        os.makedirs(data_home)\n",
        "    mnist_save_path = os.path.join(data_home, \"mnist-original.mat\")\n",
        "    if not os.path.exists(mnist_save_path):\n",
        "        mnist_url = urllib.request.urlopen(mnist_alternative_url)\n",
        "        with open(mnist_save_path, \"wb\") as matlab_file:\n",
        "            copyfileobj(mnist_url, matlab_file)\n",
        " \n",
        "fetch_mnist()\n",
        "from sklearn.datasets import fetch_mldata\n",
        "mnist = fetch_mldata(\"MNIST original\")"
      ],
      "execution_count": 2,
      "outputs": [
        {
          "output_type": "stream",
          "text": [
            "/usr/local/lib/python3.6/dist-packages/sklearn/utils/deprecation.py:77: DeprecationWarning: Function fetch_mldata is deprecated; fetch_mldata was deprecated in version 0.20 and will be removed in version 0.22\n",
            "  warnings.warn(msg, category=DeprecationWarning)\n",
            "/usr/local/lib/python3.6/dist-packages/sklearn/utils/deprecation.py:77: DeprecationWarning: Function mldata_filename is deprecated; mldata_filename was deprecated in version 0.20 and will be removed in version 0.22\n",
            "  warnings.warn(msg, category=DeprecationWarning)\n"
          ],
          "name": "stderr"
        }
      ]
    },
    {
      "metadata": {
        "id": "NVz1-bXGNu9U",
        "colab_type": "code",
        "outputId": "dae84d85-9490-468e-9904-a485608fd6f9",
        "colab": {
          "base_uri": "https://localhost:8080/",
          "height": 34
        }
      },
      "cell_type": "code",
      "source": [
        "import tensorflow as tf\n",
        "import numpy as np\n",
        "type(mnist)"
      ],
      "execution_count": 3,
      "outputs": [
        {
          "output_type": "execute_result",
          "data": {
            "text/plain": [
              "sklearn.utils.Bunch"
            ]
          },
          "metadata": {
            "tags": []
          },
          "execution_count": 3
        }
      ]
    },
    {
      "metadata": {
        "id": "opebQ4DqOdIE",
        "colab_type": "code",
        "outputId": "14402fd4-4777-4251-ad90-e383a90c2c06",
        "colab": {
          "base_uri": "https://localhost:8080/",
          "height": 161
        }
      },
      "cell_type": "code",
      "source": [
        "print(mnist.values())"
      ],
      "execution_count": 4,
      "outputs": [
        {
          "output_type": "stream",
          "text": [
            "dict_values(['mldata.org dataset: mnist-original', ['label', 'data'], array([0., 0., 0., ..., 9., 9., 9.]), array([[0, 0, 0, ..., 0, 0, 0],\n",
            "       [0, 0, 0, ..., 0, 0, 0],\n",
            "       [0, 0, 0, ..., 0, 0, 0],\n",
            "       ...,\n",
            "       [0, 0, 0, ..., 0, 0, 0],\n",
            "       [0, 0, 0, ..., 0, 0, 0],\n",
            "       [0, 0, 0, ..., 0, 0, 0]], dtype=uint8)])\n"
          ],
          "name": "stdout"
        }
      ]
    },
    {
      "metadata": {
        "id": "ZnfKYTj2OdGa",
        "colab_type": "code",
        "outputId": "3dfed6cc-d344-4781-f9c5-d16d69ae8e20",
        "colab": {
          "base_uri": "https://localhost:8080/",
          "height": 187
        }
      },
      "cell_type": "code",
      "source": [
        "for key, value in mnist.items():\n",
        "  print('val', value)"
      ],
      "execution_count": 5,
      "outputs": [
        {
          "output_type": "stream",
          "text": [
            "val mldata.org dataset: mnist-original\n",
            "val ['label', 'data']\n",
            "val [0. 0. 0. ... 9. 9. 9.]\n",
            "val [[0 0 0 ... 0 0 0]\n",
            " [0 0 0 ... 0 0 0]\n",
            " [0 0 0 ... 0 0 0]\n",
            " ...\n",
            " [0 0 0 ... 0 0 0]\n",
            " [0 0 0 ... 0 0 0]\n",
            " [0 0 0 ... 0 0 0]]\n"
          ],
          "name": "stdout"
        }
      ]
    },
    {
      "metadata": {
        "id": "P_MvWCHIOdET",
        "colab_type": "code",
        "colab": {}
      },
      "cell_type": "code",
      "source": [
        "listlabel = list(list(mnist.items())[2])\n",
        "listvalues = list(list(mnist.items())[3])"
      ],
      "execution_count": 0,
      "outputs": []
    },
    {
      "metadata": {
        "id": "bnjw5zc1OdBK",
        "colab_type": "code",
        "outputId": "9bf5484b-cebd-4bef-a065-08ff317d5393",
        "colab": {
          "base_uri": "https://localhost:8080/",
          "height": 34
        }
      },
      "cell_type": "code",
      "source": [
        "listlabel"
      ],
      "execution_count": 7,
      "outputs": [
        {
          "output_type": "execute_result",
          "data": {
            "text/plain": [
              "['target', array([0., 0., 0., ..., 9., 9., 9.])]"
            ]
          },
          "metadata": {
            "tags": []
          },
          "execution_count": 7
        }
      ]
    },
    {
      "metadata": {
        "id": "soMNWc3nYBAj",
        "colab_type": "code",
        "colab": {}
      },
      "cell_type": "code",
      "source": [
        "y = listlabel[1]"
      ],
      "execution_count": 0,
      "outputs": []
    },
    {
      "metadata": {
        "id": "BSbC8-0gOc95",
        "colab_type": "code",
        "outputId": "ab2ab1b5-933d-4d85-98f0-958c47388687",
        "colab": {
          "base_uri": "https://localhost:8080/",
          "height": 34
        }
      },
      "cell_type": "code",
      "source": [
        "type(y)"
      ],
      "execution_count": 9,
      "outputs": [
        {
          "output_type": "execute_result",
          "data": {
            "text/plain": [
              "numpy.ndarray"
            ]
          },
          "metadata": {
            "tags": []
          },
          "execution_count": 9
        }
      ]
    },
    {
      "metadata": {
        "id": "dbpWZnYRYv5l",
        "colab_type": "code",
        "outputId": "f17784c3-a91e-4a35-afab-5c5b01308f4a",
        "colab": {
          "base_uri": "https://localhost:8080/",
          "height": 34
        }
      },
      "cell_type": "code",
      "source": [
        "y.astype(int)"
      ],
      "execution_count": 10,
      "outputs": [
        {
          "output_type": "execute_result",
          "data": {
            "text/plain": [
              "array([0, 0, 0, ..., 9, 9, 9])"
            ]
          },
          "metadata": {
            "tags": []
          },
          "execution_count": 10
        }
      ]
    },
    {
      "metadata": {
        "id": "U_78PHweOc7i",
        "colab_type": "code",
        "outputId": "22d187c5-873c-4cac-cd0d-408eefa5874e",
        "colab": {
          "base_uri": "https://localhost:8080/",
          "height": 34
        }
      },
      "cell_type": "code",
      "source": [
        "y.shape"
      ],
      "execution_count": 11,
      "outputs": [
        {
          "output_type": "execute_result",
          "data": {
            "text/plain": [
              "(70000,)"
            ]
          },
          "metadata": {
            "tags": []
          },
          "execution_count": 11
        }
      ]
    },
    {
      "metadata": {
        "id": "XmqBdjRbZyeF",
        "colab_type": "code",
        "colab": {}
      },
      "cell_type": "code",
      "source": [
        "X = listvalues[1].reshape(70000, 28, 28, 1)"
      ],
      "execution_count": 0,
      "outputs": []
    },
    {
      "metadata": {
        "id": "61zUr7RiZyKu",
        "colab_type": "code",
        "outputId": "d7b64c75-1769-44a0-f30d-12d3904076de",
        "colab": {
          "base_uri": "https://localhost:8080/",
          "height": 34
        }
      },
      "cell_type": "code",
      "source": [
        "X.shape"
      ],
      "execution_count": 13,
      "outputs": [
        {
          "output_type": "execute_result",
          "data": {
            "text/plain": [
              "(70000, 28, 28, 1)"
            ]
          },
          "metadata": {
            "tags": []
          },
          "execution_count": 13
        }
      ]
    },
    {
      "metadata": {
        "id": "j-8ThkR6Oc17",
        "colab_type": "code",
        "colab": {}
      },
      "cell_type": "code",
      "source": [
        "from sklearn.model_selection import train_test_split\n",
        "X_train, X_test, y_train, y_test = train_test_split(\n",
        "X, y, test_size=0.2, random_state=42)\n",
        "X_train = X_train / 255.0\n",
        "X_test = X_test / 255.0"
      ],
      "execution_count": 0,
      "outputs": []
    },
    {
      "metadata": {
        "id": "ZLmPrgIIcf-z",
        "colab_type": "code",
        "outputId": "c4873cbd-3151-440d-bd7e-c2dfbc50f72e",
        "colab": {
          "base_uri": "https://localhost:8080/",
          "height": 34
        }
      },
      "cell_type": "code",
      "source": [
        "print(X_train.shape, X_test.shape, y_train.shape, y_test.shape)"
      ],
      "execution_count": 15,
      "outputs": [
        {
          "output_type": "stream",
          "text": [
            "(56000, 28, 28, 1) (14000, 28, 28, 1) (56000,) (14000,)\n"
          ],
          "name": "stdout"
        }
      ]
    },
    {
      "metadata": {
        "id": "0gvgp4p-fMRb",
        "colab_type": "code",
        "outputId": "54e7095d-f296-4b48-b09d-aabd15d4533b",
        "colab": {
          "base_uri": "https://localhost:8080/",
          "height": 374
        }
      },
      "cell_type": "code",
      "source": [
        "model = tf.keras.models.Sequential([\n",
        "  tf.keras.layers.Conv2D(8, (3,3), activation='relu', input_shape=(28, 28, 1)),\n",
        "  tf.keras.layers.MaxPooling2D(2, 2),\n",
        "  tf.keras.layers.Conv2D(16, (3,3), activation='relu'),\n",
        "  tf.keras.layers.MaxPooling2D(2,2),\n",
        "  tf.keras.layers.Flatten(),\n",
        "  tf.keras.layers.Dense(128, activation='relu'),\n",
        "  tf.keras.layers.Dense(10, activation='softmax')\n",
        "])\n",
        "model.compile(optimizer='adam', loss='sparse_categorical_crossentropy', metrics=['accuracy'])\n",
        "model.summary()"
      ],
      "execution_count": 33,
      "outputs": [
        {
          "output_type": "stream",
          "text": [
            "_________________________________________________________________\n",
            "Layer (type)                 Output Shape              Param #   \n",
            "=================================================================\n",
            "conv2d_12 (Conv2D)           (None, 26, 26, 8)         80        \n",
            "_________________________________________________________________\n",
            "max_pooling2d_5 (MaxPooling2 (None, 13, 13, 8)         0         \n",
            "_________________________________________________________________\n",
            "conv2d_13 (Conv2D)           (None, 11, 11, 16)        1168      \n",
            "_________________________________________________________________\n",
            "max_pooling2d_6 (MaxPooling2 (None, 5, 5, 16)          0         \n",
            "_________________________________________________________________\n",
            "flatten_6 (Flatten)          (None, 400)               0         \n",
            "_________________________________________________________________\n",
            "dense_12 (Dense)             (None, 128)               51328     \n",
            "_________________________________________________________________\n",
            "dense_13 (Dense)             (None, 10)                1290      \n",
            "=================================================================\n",
            "Total params: 53,866\n",
            "Trainable params: 53,866\n",
            "Non-trainable params: 0\n",
            "_________________________________________________________________\n"
          ],
          "name": "stdout"
        }
      ]
    },
    {
      "metadata": {
        "id": "C7Wq_UZQfccz",
        "colab_type": "code",
        "outputId": "4ea751d3-f275-4a71-e247-f59098f4db75",
        "colab": {
          "base_uri": "https://localhost:8080/",
          "height": 714
        }
      },
      "cell_type": "code",
      "source": [
        "history_cnn_2c2p = model.fit(X_train, y_train, epochs=20)\n",
        "test_loss = model.evaluate(X_test, y_test)"
      ],
      "execution_count": 34,
      "outputs": [
        {
          "output_type": "stream",
          "text": [
            "Epoch 1/20\n",
            "56000/56000 [==============================] - 8s 141us/sample - loss: 0.1899 - acc: 0.9434\n",
            "Epoch 2/20\n",
            "56000/56000 [==============================] - 8s 136us/sample - loss: 0.0578 - acc: 0.9821\n",
            "Epoch 3/20\n",
            "56000/56000 [==============================] - 8s 136us/sample - loss: 0.0417 - acc: 0.9870\n",
            "Epoch 4/20\n",
            "56000/56000 [==============================] - 8s 136us/sample - loss: 0.0316 - acc: 0.9898\n",
            "Epoch 5/20\n",
            "56000/56000 [==============================] - 8s 136us/sample - loss: 0.0252 - acc: 0.9919\n",
            "Epoch 6/20\n",
            "56000/56000 [==============================] - 8s 136us/sample - loss: 0.0199 - acc: 0.9932\n",
            "Epoch 7/20\n",
            "56000/56000 [==============================] - 8s 137us/sample - loss: 0.0164 - acc: 0.9947\n",
            "Epoch 8/20\n",
            "56000/56000 [==============================] - 8s 136us/sample - loss: 0.0136 - acc: 0.9952\n",
            "Epoch 9/20\n",
            "56000/56000 [==============================] - 8s 139us/sample - loss: 0.0112 - acc: 0.9961\n",
            "Epoch 10/20\n",
            "56000/56000 [==============================] - 9s 155us/sample - loss: 0.0099 - acc: 0.9968\n",
            "Epoch 11/20\n",
            "56000/56000 [==============================] - 8s 141us/sample - loss: 0.0085 - acc: 0.9970\n",
            "Epoch 12/20\n",
            "56000/56000 [==============================] - 8s 145us/sample - loss: 0.0079 - acc: 0.9972\n",
            "Epoch 13/20\n",
            "56000/56000 [==============================] - 8s 136us/sample - loss: 0.0067 - acc: 0.9975\n",
            "Epoch 14/20\n",
            "56000/56000 [==============================] - 8s 136us/sample - loss: 0.0066 - acc: 0.9978\n",
            "Epoch 15/20\n",
            "56000/56000 [==============================] - 8s 136us/sample - loss: 0.0055 - acc: 0.9981\n",
            "Epoch 16/20\n",
            "56000/56000 [==============================] - 8s 136us/sample - loss: 0.0055 - acc: 0.9983\n",
            "Epoch 17/20\n",
            "56000/56000 [==============================] - 8s 136us/sample - loss: 0.0052 - acc: 0.9983\n",
            "Epoch 18/20\n",
            "56000/56000 [==============================] - 9s 161us/sample - loss: 0.0046 - acc: 0.9983\n",
            "Epoch 19/20\n",
            "56000/56000 [==============================] - 8s 140us/sample - loss: 0.0050 - acc: 0.9982\n",
            "Epoch 20/20\n",
            "56000/56000 [==============================] - 9s 155us/sample - loss: 0.0046 - acc: 0.9985\n",
            "14000/14000 [==============================] - 1s 80us/sample - loss: 0.0608 - acc: 0.9884\n"
          ],
          "name": "stdout"
        }
      ]
    },
    {
      "metadata": {
        "id": "LOlPL8l-Hp5A",
        "colab_type": "code",
        "outputId": "5f6b46a3-1824-4834-ff15-2bb900744003",
        "colab": {
          "base_uri": "https://localhost:8080/",
          "height": 374
        }
      },
      "cell_type": "code",
      "source": [
        "model = tf.keras.models.Sequential([\n",
        "  tf.keras.layers.Conv2D(8, (3,3), activation='relu', input_shape=(28, 28, 1)),\n",
        "  tf.keras.layers.Conv2D(16, (3,3), activation='relu'),\n",
        "  tf.keras.layers.Conv2D(32, (3,3), activation='relu'),\n",
        "  tf.keras.layers.MaxPooling2D(2,2),\n",
        "  tf.keras.layers.Flatten(),\n",
        "  tf.keras.layers.Dense(128, activation='relu'),\n",
        "  tf.keras.layers.Dense(10, activation='softmax')\n",
        "])\n",
        "model.compile(optimizer='adam', loss='sparse_categorical_crossentropy', metrics=['accuracy'])\n",
        "model.summary()"
      ],
      "execution_count": 35,
      "outputs": [
        {
          "output_type": "stream",
          "text": [
            "_________________________________________________________________\n",
            "Layer (type)                 Output Shape              Param #   \n",
            "=================================================================\n",
            "conv2d_14 (Conv2D)           (None, 26, 26, 8)         80        \n",
            "_________________________________________________________________\n",
            "conv2d_15 (Conv2D)           (None, 24, 24, 16)        1168      \n",
            "_________________________________________________________________\n",
            "conv2d_16 (Conv2D)           (None, 22, 22, 32)        4640      \n",
            "_________________________________________________________________\n",
            "max_pooling2d_7 (MaxPooling2 (None, 11, 11, 32)        0         \n",
            "_________________________________________________________________\n",
            "flatten_7 (Flatten)          (None, 3872)              0         \n",
            "_________________________________________________________________\n",
            "dense_14 (Dense)             (None, 128)               495744    \n",
            "_________________________________________________________________\n",
            "dense_15 (Dense)             (None, 10)                1290      \n",
            "=================================================================\n",
            "Total params: 502,922\n",
            "Trainable params: 502,922\n",
            "Non-trainable params: 0\n",
            "_________________________________________________________________\n"
          ],
          "name": "stdout"
        }
      ]
    },
    {
      "metadata": {
        "id": "55akjNiuzedU",
        "colab_type": "code",
        "outputId": "0a70f02d-fa25-4d61-d75f-94c1790101e3",
        "colab": {
          "base_uri": "https://localhost:8080/",
          "height": 714
        }
      },
      "cell_type": "code",
      "source": [
        "history_cnn_3c1p = model.fit(X_train, y_train, epochs=20)\n",
        "test_loss = model.evaluate(X_test, y_test)"
      ],
      "execution_count": 36,
      "outputs": [
        {
          "output_type": "stream",
          "text": [
            "Epoch 1/20\n",
            "56000/56000 [==============================] - 9s 159us/sample - loss: 0.1275 - acc: 0.9617\n",
            "Epoch 2/20\n",
            "56000/56000 [==============================] - 9s 152us/sample - loss: 0.0398 - acc: 0.9877\n",
            "Epoch 3/20\n",
            "56000/56000 [==============================] - 8s 151us/sample - loss: 0.0259 - acc: 0.9917\n",
            "Epoch 4/20\n",
            "56000/56000 [==============================] - 8s 152us/sample - loss: 0.0172 - acc: 0.9947\n",
            "Epoch 5/20\n",
            "56000/56000 [==============================] - 8s 152us/sample - loss: 0.0136 - acc: 0.9957\n",
            "Epoch 6/20\n",
            "56000/56000 [==============================] - 9s 152us/sample - loss: 0.0100 - acc: 0.9965\n",
            "Epoch 7/20\n",
            "56000/56000 [==============================] - 9s 154us/sample - loss: 0.0087 - acc: 0.9967\n",
            "Epoch 8/20\n",
            "56000/56000 [==============================] - 10s 174us/sample - loss: 0.0072 - acc: 0.9975\n",
            "Epoch 9/20\n",
            "56000/56000 [==============================] - 9s 152us/sample - loss: 0.0059 - acc: 0.9981\n",
            "Epoch 10/20\n",
            "56000/56000 [==============================] - 8s 151us/sample - loss: 0.0058 - acc: 0.9980\n",
            "Epoch 11/20\n",
            "56000/56000 [==============================] - 8s 152us/sample - loss: 0.0050 - acc: 0.9984\n",
            "Epoch 12/20\n",
            "56000/56000 [==============================] - 8s 151us/sample - loss: 0.0051 - acc: 0.9984\n",
            "Epoch 13/20\n",
            "56000/56000 [==============================] - 8s 151us/sample - loss: 0.0035 - acc: 0.9988\n",
            "Epoch 14/20\n",
            "56000/56000 [==============================] - 8s 151us/sample - loss: 0.0053 - acc: 0.9982\n",
            "Epoch 15/20\n",
            "56000/56000 [==============================] - 8s 151us/sample - loss: 0.0028 - acc: 0.9991\n",
            "Epoch 16/20\n",
            "56000/56000 [==============================] - 9s 153us/sample - loss: 0.0033 - acc: 0.9990\n",
            "Epoch 17/20\n",
            "56000/56000 [==============================] - 9s 168us/sample - loss: 0.0033 - acc: 0.9991\n",
            "Epoch 18/20\n",
            "56000/56000 [==============================] - 9s 158us/sample - loss: 0.0027 - acc: 0.9991\n",
            "Epoch 19/20\n",
            "56000/56000 [==============================] - 8s 151us/sample - loss: 0.0032 - acc: 0.9991\n",
            "Epoch 20/20\n",
            "56000/56000 [==============================] - 8s 152us/sample - loss: 0.0012 - acc: 0.9997\n",
            "14000/14000 [==============================] - 1s 78us/sample - loss: 0.0554 - acc: 0.9909\n"
          ],
          "name": "stdout"
        }
      ]
    },
    {
      "metadata": {
        "id": "QNObs7C5uQEg",
        "colab_type": "code",
        "outputId": "89f80c8e-069f-493e-fa0d-cb282d682919",
        "colab": {
          "base_uri": "https://localhost:8080/",
          "height": 408
        }
      },
      "cell_type": "code",
      "source": [
        "model = tf.keras.models.Sequential()\n",
        "model.add(tf.keras.layers.Conv2D(8, (3,3), activation='relu', input_shape=(28,28,1)))\n",
        "model.add(tf.keras.layers.Conv2D(16, (3,3), activation='relu'))\n",
        "model.add(tf.keras.layers.Conv2D(32, (3,3), activation='relu'))\n",
        "model.add(tf.keras.layers.MaxPooling2D(pool_size=(2, 2)))\n",
        "#model.add(tf.keras.layers.Conv2D(32, (3,3), activation='relu'))\n",
        "#model.add(tf.keras.layers.Conv2D(64, (3,3), activation='relu'))\n",
        "#model.add(tf.keras.layers.MaxPooling2D(pool_size=(2, 2)))\n",
        "model.add(tf.keras.layers.BatchNormalization())\n",
        "\n",
        "\n",
        "#FC Layers\n",
        "model.add(tf.keras.layers.Flatten())\n",
        "model.add(tf.keras.layers.Dense(128, activation='relu'))\n",
        "model.add(tf.keras.layers.Dense(10, activation='softmax'))\n",
        "\n",
        "model.compile(optimizer='adam', loss='sparse_categorical_crossentropy', metrics=['accuracy'])\n",
        "model.summary()\n",
        "\n",
        "\n"
      ],
      "execution_count": 20,
      "outputs": [
        {
          "output_type": "stream",
          "text": [
            "_________________________________________________________________\n",
            "Layer (type)                 Output Shape              Param #   \n",
            "=================================================================\n",
            "conv2d_5 (Conv2D)            (None, 26, 26, 8)         80        \n",
            "_________________________________________________________________\n",
            "conv2d_6 (Conv2D)            (None, 24, 24, 16)        1168      \n",
            "_________________________________________________________________\n",
            "conv2d_7 (Conv2D)            (None, 22, 22, 32)        4640      \n",
            "_________________________________________________________________\n",
            "max_pooling2d_3 (MaxPooling2 (None, 11, 11, 32)        0         \n",
            "_________________________________________________________________\n",
            "batch_normalization_v1 (Batc (None, 11, 11, 32)        128       \n",
            "_________________________________________________________________\n",
            "flatten_2 (Flatten)          (None, 3872)              0         \n",
            "_________________________________________________________________\n",
            "dense_4 (Dense)              (None, 128)               495744    \n",
            "_________________________________________________________________\n",
            "dense_5 (Dense)              (None, 10)                1290      \n",
            "=================================================================\n",
            "Total params: 503,050\n",
            "Trainable params: 502,986\n",
            "Non-trainable params: 64\n",
            "_________________________________________________________________\n"
          ],
          "name": "stdout"
        }
      ]
    },
    {
      "metadata": {
        "id": "G7AQg2aEuP6w",
        "colab_type": "code",
        "outputId": "b879707a-5c26-488e-a1ed-67eaa10db872",
        "colab": {
          "base_uri": "https://localhost:8080/",
          "height": 714
        }
      },
      "cell_type": "code",
      "source": [
        "history_cnn_3c1p = model.fit(X_train, y_train, epochs=20)\n",
        "test_loss = model.evaluate(X_test, y_test)"
      ],
      "execution_count": 21,
      "outputs": [
        {
          "output_type": "stream",
          "text": [
            "Epoch 1/20\n",
            "56000/56000 [==============================] - 9s 169us/sample - loss: 0.0997 - acc: 0.9694\n",
            "Epoch 2/20\n",
            "56000/56000 [==============================] - 9s 164us/sample - loss: 0.0389 - acc: 0.9882\n",
            "Epoch 3/20\n",
            "56000/56000 [==============================] - 9s 164us/sample - loss: 0.0274 - acc: 0.9912\n",
            "Epoch 4/20\n",
            "56000/56000 [==============================] - 9s 164us/sample - loss: 0.0194 - acc: 0.9941\n",
            "Epoch 5/20\n",
            "56000/56000 [==============================] - 9s 164us/sample - loss: 0.0183 - acc: 0.9951\n",
            "Epoch 6/20\n",
            "56000/56000 [==============================] - 9s 164us/sample - loss: 0.0128 - acc: 0.9963\n",
            "Epoch 7/20\n",
            "56000/56000 [==============================] - 10s 183us/sample - loss: 0.0129 - acc: 0.9959\n",
            "Epoch 8/20\n",
            "56000/56000 [==============================] - 9s 169us/sample - loss: 0.0113 - acc: 0.9964\n",
            "Epoch 9/20\n",
            "56000/56000 [==============================] - 9s 163us/sample - loss: 0.0081 - acc: 0.9976\n",
            "Epoch 10/20\n",
            "56000/56000 [==============================] - 11s 188us/sample - loss: 0.0104 - acc: 0.9970\n",
            "Epoch 11/20\n",
            "56000/56000 [==============================] - 9s 168us/sample - loss: 0.0068 - acc: 0.9982\n",
            "Epoch 12/20\n",
            "56000/56000 [==============================] - 9s 164us/sample - loss: 0.0091 - acc: 0.9976\n",
            "Epoch 13/20\n",
            "56000/56000 [==============================] - 9s 164us/sample - loss: 0.0050 - acc: 0.9983\n",
            "Epoch 14/20\n",
            "56000/56000 [==============================] - 9s 164us/sample - loss: 0.0065 - acc: 0.9981\n",
            "Epoch 15/20\n",
            "56000/56000 [==============================] - 10s 170us/sample - loss: 0.0081 - acc: 0.9980\n",
            "Epoch 16/20\n",
            "56000/56000 [==============================] - 10s 177us/sample - loss: 0.0047 - acc: 0.9987\n",
            "Epoch 17/20\n",
            "56000/56000 [==============================] - 9s 164us/sample - loss: 0.0052 - acc: 0.9986\n",
            "Epoch 18/20\n",
            "56000/56000 [==============================] - 9s 164us/sample - loss: 0.0055 - acc: 0.9988\n",
            "Epoch 19/20\n",
            "56000/56000 [==============================] - 9s 164us/sample - loss: 0.0030 - acc: 0.9991\n",
            "Epoch 20/20\n",
            "56000/56000 [==============================] - 9s 163us/sample - loss: 0.0064 - acc: 0.9986\n",
            "14000/14000 [==============================] - 1s 66us/sample - loss: 0.0710 - acc: 0.9900\n"
          ],
          "name": "stdout"
        }
      ]
    },
    {
      "metadata": {
        "id": "4tAMNvSquPyr",
        "colab_type": "code",
        "outputId": "a24585dc-7b01-4f46-996f-400d2e5c237e",
        "colab": {
          "base_uri": "https://localhost:8080/",
          "height": 442
        }
      },
      "cell_type": "code",
      "source": [
        "model = tf.keras.models.Sequential()\n",
        "model.add(tf.keras.layers.Conv2D(8, (3,3), activation='relu', input_shape=(28,28,1)))\n",
        "model.add(tf.keras.layers.Conv2D(16, (3,3), activation='relu'))\n",
        "model.add(tf.keras.layers.Conv2D(32, (3,3), activation='relu'))\n",
        "model.add(tf.keras.layers.Conv2D(32, (3,3), activation='relu'))\n",
        "model.add(tf.keras.layers.MaxPooling2D(pool_size=(2, 2)))\n",
        "#model.add(tf.keras.layers.Conv2D(32, (3,3), activation='relu'))\n",
        "#model.add(tf.keras.layers.Conv2D(64, (3,3), activation='relu'))\n",
        "#model.add(tf.keras.layers.MaxPooling2D(pool_size=(2, 2)))\n",
        "model.add(tf.keras.layers.BatchNormalization())\n",
        "\n",
        "\n",
        "#FC Layers\n",
        "model.add(tf.keras.layers.Flatten())\n",
        "model.add(tf.keras.layers.Dense(128, activation='relu'))\n",
        "model.add(tf.keras.layers.Dense(10, activation='softmax'))\n",
        "\n",
        "model.compile(optimizer='adam', loss='sparse_categorical_crossentropy', metrics=['accuracy'])\n",
        "model.summary()\n",
        "\n"
      ],
      "execution_count": 22,
      "outputs": [
        {
          "output_type": "stream",
          "text": [
            "_________________________________________________________________\n",
            "Layer (type)                 Output Shape              Param #   \n",
            "=================================================================\n",
            "conv2d_8 (Conv2D)            (None, 26, 26, 8)         80        \n",
            "_________________________________________________________________\n",
            "conv2d_9 (Conv2D)            (None, 24, 24, 16)        1168      \n",
            "_________________________________________________________________\n",
            "conv2d_10 (Conv2D)           (None, 22, 22, 32)        4640      \n",
            "_________________________________________________________________\n",
            "conv2d_11 (Conv2D)           (None, 20, 20, 32)        9248      \n",
            "_________________________________________________________________\n",
            "max_pooling2d_4 (MaxPooling2 (None, 10, 10, 32)        0         \n",
            "_________________________________________________________________\n",
            "batch_normalization_v1_1 (Ba (None, 10, 10, 32)        128       \n",
            "_________________________________________________________________\n",
            "flatten_3 (Flatten)          (None, 3200)              0         \n",
            "_________________________________________________________________\n",
            "dense_6 (Dense)              (None, 128)               409728    \n",
            "_________________________________________________________________\n",
            "dense_7 (Dense)              (None, 10)                1290      \n",
            "=================================================================\n",
            "Total params: 426,282\n",
            "Trainable params: 426,218\n",
            "Non-trainable params: 64\n",
            "_________________________________________________________________\n"
          ],
          "name": "stdout"
        }
      ]
    },
    {
      "metadata": {
        "id": "QbzIOToJuPpN",
        "colab_type": "code",
        "outputId": "7bf9ed67-9eb8-468d-8732-91b3b5ac6495",
        "colab": {
          "base_uri": "https://localhost:8080/",
          "height": 714
        }
      },
      "cell_type": "code",
      "source": [
        "history_cnn_4c1p = model.fit(X_train, y_train, epochs=20)\n",
        "test_loss = model.evaluate(X_test, y_test)"
      ],
      "execution_count": 23,
      "outputs": [
        {
          "output_type": "stream",
          "text": [
            "Epoch 1/20\n",
            "56000/56000 [==============================] - 10s 185us/sample - loss: 0.0982 - acc: 0.9697\n",
            "Epoch 2/20\n",
            "56000/56000 [==============================] - 11s 200us/sample - loss: 0.0405 - acc: 0.9874\n",
            "Epoch 3/20\n",
            "56000/56000 [==============================] - 10s 185us/sample - loss: 0.0290 - acc: 0.9906\n",
            "Epoch 4/20\n",
            "56000/56000 [==============================] - 10s 182us/sample - loss: 0.0217 - acc: 0.9932\n",
            "Epoch 5/20\n",
            "56000/56000 [==============================] - 10s 181us/sample - loss: 0.0171 - acc: 0.9948\n",
            "Epoch 6/20\n",
            "56000/56000 [==============================] - 10s 181us/sample - loss: 0.0150 - acc: 0.9954\n",
            "Epoch 7/20\n",
            "56000/56000 [==============================] - 10s 181us/sample - loss: 0.0129 - acc: 0.9959\n",
            "Epoch 8/20\n",
            "56000/56000 [==============================] - 10s 182us/sample - loss: 0.0086 - acc: 0.9972\n",
            "Epoch 9/20\n",
            "56000/56000 [==============================] - 10s 182us/sample - loss: 0.0114 - acc: 0.9966\n",
            "Epoch 10/20\n",
            "56000/56000 [==============================] - 11s 204us/sample - loss: 0.0084 - acc: 0.9975\n",
            "Epoch 11/20\n",
            "56000/56000 [==============================] - 10s 180us/sample - loss: 0.0096 - acc: 0.9974\n",
            "Epoch 12/20\n",
            "56000/56000 [==============================] - 10s 181us/sample - loss: 0.0049 - acc: 0.9985\n",
            "Epoch 13/20\n",
            "56000/56000 [==============================] - 10s 180us/sample - loss: 0.0054 - acc: 0.9985\n",
            "Epoch 14/20\n",
            "56000/56000 [==============================] - 10s 181us/sample - loss: 0.0053 - acc: 0.9985\n",
            "Epoch 15/20\n",
            "56000/56000 [==============================] - 10s 181us/sample - loss: 0.0064 - acc: 0.9981\n",
            "Epoch 16/20\n",
            "56000/56000 [==============================] - 11s 195us/sample - loss: 0.0066 - acc: 0.9983\n",
            "Epoch 17/20\n",
            "56000/56000 [==============================] - 10s 186us/sample - loss: 0.0050 - acc: 0.9986\n",
            "Epoch 18/20\n",
            "56000/56000 [==============================] - 11s 197us/sample - loss: 0.0038 - acc: 0.9989\n",
            "Epoch 19/20\n",
            "56000/56000 [==============================] - 11s 202us/sample - loss: 0.0039 - acc: 0.9991\n",
            "Epoch 20/20\n",
            "56000/56000 [==============================] - 11s 188us/sample - loss: 0.0040 - acc: 0.9987\n",
            "14000/14000 [==============================] - 1s 74us/sample - loss: 0.0627 - acc: 0.9902\n"
          ],
          "name": "stdout"
        }
      ]
    },
    {
      "metadata": {
        "id": "PkYdpVK20Ygz",
        "colab_type": "code",
        "outputId": "41d936cd-b56f-4008-be57-735723f480da",
        "colab": {
          "base_uri": "https://localhost:8080/",
          "height": 573
        }
      },
      "cell_type": "code",
      "source": [
        "import matplotlib.pyplot as plt\n",
        "# Plot training accuracy values\n",
        "plt.plot(history_cnn_2c2p.history['acc'], color='y', label='2c2p_layers')\n",
        "plt.plot(history_cnn_3c2p.history['acc'], color='green', label='3c2p_layers')\n",
        "plt.plot(history_cnn_3c1p.history['acc'], color='blue', label='3c1p_layers')\n",
        "plt.plot(history_cnn_4c1p.history['acc'], color='red', label='4c1p_layers')\n",
        "plt.title('Model accuracy of cnn')\n",
        "plt.ylabel('Accuracy')\n",
        "plt.xlabel('Epoch')\n",
        "plt.legend()\n",
        "plt.show()\n",
        "\n",
        "# Plot training loss values\n",
        "plt.plot(history_cnn_2c2p.history['loss'], color='y', label='2c2p_layers')\n",
        "plt.plot(history_cnn_3c2p.history['loss'], color='green', label='3c2p_layers')\n",
        "plt.plot(history_cnn_3c1p.history['loss'], color='blue', label='3c1p_layers')\n",
        "plt.plot(history_cnn_4c1p.history['loss'], color='red', label='4c1p_layers')\n",
        "plt.title('Model loss of cnn')\n",
        "plt.ylabel('Loss')\n",
        "plt.xlabel('Epoch')\n",
        "plt.legend()\n",
        "plt.show()\n",
        "\n",
        "\n"
      ],
      "execution_count": 37,
      "outputs": [
        {
          "output_type": "display_data",
          "data": {
            "image/png": "[encoded data removed]",
            "text/plain": [
              "<Figure size 432x288 with 1 Axes>"
            ]
          },
          "metadata": {
            "tags": []
          }
        },
        {
          "output_type": "display_data",
          "data": {
            "image/png": "[encoded data removed]",
            "text/plain": [
              "<Figure size 432x288 with 1 Axes>"
            ]
          },
          "metadata": {
            "tags": []
          }
        }
      ]
    },
    {
      "metadata": {
        "id": "LehIbU0uuNpN",
        "colab_type": "text"
      },
      "cell_type": "markdown",
      "source": [
        "# QCNN"
      ]
    },
    {
      "metadata": {
        "id": "WkJaP-03uRWI",
        "colab_type": "text"
      },
      "cell_type": "markdown",
      "source": [
        ""
      ]
    },
    {
      "metadata": {
        "id": "GEc9fy5z0YKV",
        "colab_type": "code",
        "outputId": "b9ec28e0-6cd2-4837-8f32-3a08d05453fc",
        "colab": {
          "base_uri": "https://localhost:8080/",
          "height": 51
        }
      },
      "cell_type": "code",
      "source": [
        "import numpy as np\n",
        "from sklearn.model_selection import train_test_split\n",
        "import h5py \n",
        "#data\n",
        "f = h5py.File('/content/drive/My Drive/Colab Notebooks/quatFullMnist.mat','r') \n",
        "\n",
        "X_q = f['quatFullMnist'][:]\n",
        "#data = data.T\n",
        "print(X_q.shape)\n",
        "\n",
        "#lable\n",
        "f = h5py.File('/content/drive/My Drive/Colab Notebooks/quatFullMnistLabel.mat','r') \n",
        "y_q = f['quatFullMnistLabel'][:]\n",
        "y_q = y_q.T\n",
        "print(y_q.shape)\n",
        "\n",
        "\n"
      ],
      "execution_count": 26,
      "outputs": [
        {
          "output_type": "stream",
          "text": [
            "(70000, 12, 14, 14)\n",
            "(70000, 1)\n"
          ],
          "name": "stdout"
        }
      ]
    },
    {
      "metadata": {
        "id": "-UK4fd_LH_DX",
        "colab_type": "code",
        "colab": {}
      },
      "cell_type": "code",
      "source": [
        "X_train_q, X_test_q, y_train_q, y_test_q = train_test_split(\n",
        "X_q, y_q, test_size=0.2, random_state=42)"
      ],
      "execution_count": 0,
      "outputs": []
    },
    {
      "metadata": {
        "id": "N5dZc2LJ2ro1",
        "colab_type": "code",
        "outputId": "93318873-980c-4318-e9bf-523a60bece9e",
        "colab": {
          "base_uri": "https://localhost:8080/",
          "height": 102
        }
      },
      "cell_type": "code",
      "source": [
        "X_train_q = X_train_q.reshape(X_train_q.shape[0], X_train_q.shape[1], X_train_q.shape[2], X_train_q.shape[3],1)\n",
        "X_test_q = X_test_q.reshape(X_test_q.shape[0], X_train_q.shape[1], X_train_q.shape[2], X_train_q.shape[3],1)\n",
        "#training_labels = training_labels[0]\n",
        "y_train_q.astype(int)\n",
        "y_test_q.astype(int)\n",
        "print('Number of training examples: ' + str(X_train_q.shape[0]))\n",
        "print('Training images shape:' + str(X_train_q.shape))\n",
        "print('Training labels shape:' + str(y_train_q.shape))\n",
        "print('Test images shape:' + str(X_test_q.shape))\n",
        "print('Test labels shape:' + str(y_test_q.shape))"
      ],
      "execution_count": 28,
      "outputs": [
        {
          "output_type": "stream",
          "text": [
            "Number of training examples: 56000\n",
            "Training images shape:(56000, 12, 14, 14, 1)\n",
            "Training labels shape:(56000, 1)\n",
            "Test images shape:(14000, 12, 14, 14, 1)\n",
            "Test labels shape:(14000, 1)\n"
          ],
          "name": "stdout"
        }
      ]
    },
    {
      "metadata": {
        "id": "pVMQblgE3NDf",
        "colab_type": "text"
      },
      "cell_type": "markdown",
      "source": [
        "## 3 conv layers, 1 pooling layer"
      ]
    },
    {
      "metadata": {
        "id": "ECTw2qSM3GMV",
        "colab_type": "code",
        "outputId": "57ddfb67-af81-4ca2-f0c8-a25668985ea5",
        "colab": {
          "base_uri": "https://localhost:8080/",
          "height": 408
        }
      },
      "cell_type": "code",
      "source": [
        "model = tf.keras.models.Sequential()\n",
        "model.add(tf.keras.layers.Conv3D(8, (1,3,3), activation='relu', input_shape=(12, 14, 14, 1)))\n",
        "#model.add(tf.keras.layers.MaxPooling3D(pool_size=(2, 2, 2), strides=(1, 2, 2)))\n",
        "#model.add(tf.keras.layers.BatchNormalization())\n",
        "model.add(tf.keras.layers.Conv3D(16, (1,3,3), activation='relu'))\n",
        "model.add(tf.keras.layers.Conv3D(32, (1,3,3), activation='relu'))\n",
        "model.add(tf.keras.layers.MaxPooling3D(pool_size=(1, 2, 2), strides=(1, 2, 2)))\n",
        "model.add(tf.keras.layers.BatchNormalization())\n",
        "\n",
        "\n",
        "#FC Layers\n",
        "model.add(tf.keras.layers.Flatten())\n",
        "model.add(tf.keras.layers.Dense(128, activation='relu'))\n",
        "model.add(tf.keras.layers.Dense(10, activation='softmax'))\n",
        "\n",
        "model.compile(optimizer='adam', loss='sparse_categorical_crossentropy', metrics=['accuracy'])\n",
        "model.summary()\n"
      ],
      "execution_count": 29,
      "outputs": [
        {
          "output_type": "stream",
          "text": [
            "_________________________________________________________________\n",
            "Layer (type)                 Output Shape              Param #   \n",
            "=================================================================\n",
            "conv3d (Conv3D)              (None, 12, 12, 12, 8)     80        \n",
            "_________________________________________________________________\n",
            "conv3d_1 (Conv3D)            (None, 12, 10, 10, 16)    1168      \n",
            "_________________________________________________________________\n",
            "conv3d_2 (Conv3D)            (None, 12, 8, 8, 32)      4640      \n",
            "_________________________________________________________________\n",
            "max_pooling3d (MaxPooling3D) (None, 12, 4, 4, 32)      0         \n",
            "_________________________________________________________________\n",
            "batch_normalization_v1_2 (Ba (None, 12, 4, 4, 32)      128       \n",
            "_________________________________________________________________\n",
            "flatten_4 (Flatten)          (None, 6144)              0         \n",
            "_________________________________________________________________\n",
            "dense_8 (Dense)              (None, 128)               786560    \n",
            "_________________________________________________________________\n",
            "dense_9 (Dense)              (None, 10)                1290      \n",
            "=================================================================\n",
            "Total params: 793,866\n",
            "Trainable params: 793,802\n",
            "Non-trainable params: 64\n",
            "_________________________________________________________________\n"
          ],
          "name": "stdout"
        }
      ]
    },
    {
      "metadata": {
        "id": "fvN1Wzpl3izg",
        "colab_type": "code",
        "outputId": "beb54cde-dc8b-45ad-93f9-a3ecf0d93b07",
        "colab": {
          "base_uri": "https://localhost:8080/",
          "height": 1005
        }
      },
      "cell_type": "code",
      "source": [
        "history_qcnn_3c1p = model.fit(X_train_q, y_train_q, epochs=20)\n",
        "test_loss = model.evaluate(X_test_q, y_test_q)"
      ],
      "execution_count": 30,
      "outputs": [
        {
          "output_type": "stream",
          "text": [
            "WARNING:tensorflow:From /usr/local/lib/python3.6/dist-packages/tensorflow/python/ops/math_ops.py:3066: to_int32 (from tensorflow.python.ops.math_ops) is deprecated and will be removed in a future version.\n",
            "Instructions for updating:\n",
            "Use tf.cast instead.\n",
            "Epoch 1/20\n",
            "56000/56000 [==============================] - 13s 239us/sample - loss: 0.1757 - acc: 0.9473\n",
            "Epoch 2/20\n",
            "56000/56000 [==============================] - 13s 230us/sample - loss: 0.0638 - acc: 0.9797\n",
            "Epoch 3/20\n",
            "56000/56000 [==============================] - 13s 230us/sample - loss: 0.0365 - acc: 0.9879\n",
            "Epoch 4/20\n",
            "56000/56000 [==============================] - 13s 232us/sample - loss: 0.0292 - acc: 0.9910\n",
            "Epoch 5/20\n",
            "56000/56000 [==============================] - 13s 231us/sample - loss: 0.0246 - acc: 0.9920\n",
            "Epoch 6/20\n",
            "56000/56000 [==============================] - 14s 241us/sample - loss: 0.0177 - acc: 0.9945\n",
            "Epoch 7/20\n",
            "56000/56000 [==============================] - 13s 236us/sample - loss: 0.0188 - acc: 0.9944\n",
            "Epoch 8/20\n",
            "56000/56000 [==============================] - 13s 230us/sample - loss: 0.0138 - acc: 0.9961\n",
            "Epoch 9/20\n",
            "56000/56000 [==============================] - 13s 231us/sample - loss: 0.0123 - acc: 0.9963\n",
            "Epoch 10/20\n",
            "56000/56000 [==============================] - 14s 241us/sample - loss: 0.0140 - acc: 0.9958\n",
            "Epoch 11/20\n",
            "56000/56000 [==============================] - 13s 231us/sample - loss: 0.0124 - acc: 0.9963\n",
            "Epoch 12/20\n",
            "56000/56000 [==============================] - 13s 241us/sample - loss: 0.0105 - acc: 0.9970\n",
            "Epoch 13/20\n",
            "56000/56000 [==============================] - 14s 255us/sample - loss: 0.0119 - acc: 0.9965\n",
            "Epoch 14/20\n",
            "56000/56000 [==============================] - 13s 231us/sample - loss: 0.0085 - acc: 0.9975\n",
            "Epoch 15/20\n",
            "56000/56000 [==============================] - 13s 231us/sample - loss: 0.0069 - acc: 0.9980\n",
            "Epoch 16/20\n",
            "56000/56000 [==============================] - 13s 230us/sample - loss: 0.0076 - acc: 0.9980\n",
            "Epoch 17/20\n",
            "56000/56000 [==============================] - 13s 232us/sample - loss: 0.0078 - acc: 0.9977\n",
            "Epoch 18/20\n",
            "56000/56000 [==============================] - 13s 238us/sample - loss: 0.0068 - acc: 0.9981\n",
            "Epoch 19/20\n",
            "56000/56000 [==============================] - 14s 241us/sample - loss: 0.0066 - acc: 0.9981\n",
            "Epoch 20/20\n",
            "56000/56000 [==============================] - 13s 231us/sample - loss: 0.0063 - acc: 0.9980\n",
            "14000/14000 [==============================] - 1s 87us/sample - loss: 0.1667 - acc: 0.9755\n"
          ],
          "name": "stdout"
        }
      ]
    },
    {
      "metadata": {
        "id": "QcQU1jQf6JKH",
        "colab_type": "text"
      },
      "cell_type": "markdown",
      "source": [
        "## 4 conv layers, 1 pooling layer"
      ]
    },
    {
      "metadata": {
        "id": "ARS-dfBp4T9a",
        "colab_type": "code",
        "outputId": "7bc218d7-1182-4365-d6c6-54ce92bd9633",
        "colab": {
          "base_uri": "https://localhost:8080/",
          "height": 442
        }
      },
      "cell_type": "code",
      "source": [
        "model = tf.keras.models.Sequential()\n",
        "model.add(tf.keras.layers.Conv3D(8, (1,3,3), activation='relu', input_shape=(12, 14, 14, 1)))\n",
        "#model.add(tf.keras.layers.MaxPooling3D(pool_size=(2, 2, 2), strides=(1, 2, 2)))\n",
        "#model.add(tf.keras.layers.BatchNormalization())\n",
        "model.add(tf.keras.layers.Conv3D(16, (1,3,3), activation='relu'))\n",
        "model.add(tf.keras.layers.Conv3D(32, (1,3,3), activation='relu'))\n",
        "model.add(tf.keras.layers.Conv3D(32, (1,3,3), activation='relu'))\n",
        "model.add(tf.keras.layers.MaxPooling3D(pool_size=(1, 2, 2), strides=(1, 2, 2)))\n",
        "model.add(tf.keras.layers.BatchNormalization())\n",
        "\n",
        "\n",
        "#FC Layers\n",
        "model.add(tf.keras.layers.Flatten())\n",
        "model.add(tf.keras.layers.Dense(128, activation='relu'))\n",
        "model.add(tf.keras.layers.Dense(10, activation='softmax'))\n",
        "\n",
        "model.compile(optimizer='adam', loss='sparse_categorical_crossentropy', metrics=['accuracy'])\n",
        "model.summary()"
      ],
      "execution_count": 31,
      "outputs": [
        {
          "output_type": "stream",
          "text": [
            "_________________________________________________________________\n",
            "Layer (type)                 Output Shape              Param #   \n",
            "=================================================================\n",
            "conv3d_3 (Conv3D)            (None, 12, 12, 12, 8)     80        \n",
            "_________________________________________________________________\n",
            "conv3d_4 (Conv3D)            (None, 12, 10, 10, 16)    1168      \n",
            "_________________________________________________________________\n",
            "conv3d_5 (Conv3D)            (None, 12, 8, 8, 32)      4640      \n",
            "_________________________________________________________________\n",
            "conv3d_6 (Conv3D)            (None, 12, 6, 6, 32)      9248      \n",
            "_________________________________________________________________\n",
            "max_pooling3d_1 (MaxPooling3 (None, 12, 3, 3, 32)      0         \n",
            "_________________________________________________________________\n",
            "batch_normalization_v1_3 (Ba (None, 12, 3, 3, 32)      128       \n",
            "_________________________________________________________________\n",
            "flatten_5 (Flatten)          (None, 3456)              0         \n",
            "_________________________________________________________________\n",
            "dense_10 (Dense)             (None, 128)               442496    \n",
            "_________________________________________________________________\n",
            "dense_11 (Dense)             (None, 10)                1290      \n",
            "=================================================================\n",
            "Total params: 459,050\n",
            "Trainable params: 458,986\n",
            "Non-trainable params: 64\n",
            "_________________________________________________________________\n"
          ],
          "name": "stdout"
        }
      ]
    },
    {
      "metadata": {
        "id": "pON-Nkrb6SUM",
        "colab_type": "code",
        "outputId": "6db0f6fb-f69e-48ee-a622-c9d00d23458c",
        "colab": {
          "base_uri": "https://localhost:8080/",
          "height": 714
        }
      },
      "cell_type": "code",
      "source": [
        "history_qcnn_4c1p = model.fit(X_train_q, y_train_q, epochs=20)\n",
        "test_loss = model.evaluate(X_test_q, y_test_q)"
      ],
      "execution_count": 32,
      "outputs": [
        {
          "output_type": "stream",
          "text": [
            "Epoch 1/20\n",
            "56000/56000 [==============================] - 15s 261us/sample - loss: 0.1802 - acc: 0.9441\n",
            "Epoch 2/20\n",
            "56000/56000 [==============================] - 14s 253us/sample - loss: 0.0796 - acc: 0.9754\n",
            "Epoch 3/20\n",
            "56000/56000 [==============================] - 15s 269us/sample - loss: 0.0503 - acc: 0.9837\n",
            "Epoch 4/20\n",
            "56000/56000 [==============================] - 14s 252us/sample - loss: 0.0375 - acc: 0.9879\n",
            "Epoch 5/20\n",
            "56000/56000 [==============================] - 14s 253us/sample - loss: 0.0280 - acc: 0.9906\n",
            "Epoch 6/20\n",
            "56000/56000 [==============================] - 14s 252us/sample - loss: 0.0228 - acc: 0.9926\n",
            "Epoch 7/20\n",
            "56000/56000 [==============================] - 14s 252us/sample - loss: 0.0173 - acc: 0.9945\n",
            "Epoch 8/20\n",
            "56000/56000 [==============================] - 14s 255us/sample - loss: 0.0187 - acc: 0.9936\n",
            "Epoch 9/20\n",
            "56000/56000 [==============================] - 15s 268us/sample - loss: 0.0155 - acc: 0.9951\n",
            "Epoch 10/20\n",
            "56000/56000 [==============================] - 14s 254us/sample - loss: 0.0128 - acc: 0.9960\n",
            "Epoch 11/20\n",
            "56000/56000 [==============================] - 15s 263us/sample - loss: 0.0108 - acc: 0.9964\n",
            "Epoch 12/20\n",
            "56000/56000 [==============================] - 14s 253us/sample - loss: 0.0114 - acc: 0.9966\n",
            "Epoch 13/20\n",
            "56000/56000 [==============================] - 14s 253us/sample - loss: 0.0108 - acc: 0.9967\n",
            "Epoch 14/20\n",
            "56000/56000 [==============================] - 16s 285us/sample - loss: 0.0113 - acc: 0.9966\n",
            "Epoch 15/20\n",
            "56000/56000 [==============================] - 14s 255us/sample - loss: 0.0095 - acc: 0.9970\n",
            "Epoch 16/20\n",
            "56000/56000 [==============================] - 14s 254us/sample - loss: 0.0107 - acc: 0.9969\n",
            "Epoch 17/20\n",
            "56000/56000 [==============================] - 14s 255us/sample - loss: 0.0064 - acc: 0.9980\n",
            "Epoch 18/20\n",
            "56000/56000 [==============================] - 14s 254us/sample - loss: 0.0100 - acc: 0.9972\n",
            "Epoch 19/20\n",
            "56000/56000 [==============================] - 14s 254us/sample - loss: 0.0082 - acc: 0.9977\n",
            "Epoch 20/20\n",
            "56000/56000 [==============================] - 15s 269us/sample - loss: 0.0082 - acc: 0.9977\n",
            "14000/14000 [==============================] - 1s 93us/sample - loss: 0.1578 - acc: 0.9776\n"
          ],
          "name": "stdout"
        }
      ]
    },
    {
      "metadata": {
        "id": "APCkCJyy6VOp",
        "colab_type": "code",
        "outputId": "f3bd0b71-1326-462d-897f-ebbe895c7036",
        "colab": {
          "base_uri": "https://localhost:8080/",
          "height": 573
        }
      },
      "cell_type": "code",
      "source": [
        "import matplotlib.pyplot as plt\n",
        "# Plot training accuracy values\n",
        "#plt.plot(history_qcnn_3c2p.history['acc'], color='green', label='3c2p_layers')\n",
        "plt.plot(history_qcnn_3c1p.history['acc'], color='blue', label='3c1p_layers')\n",
        "plt.plot(history_qcnn_4c1p.history['acc'], color='red', label='4c1p_layers')\n",
        "plt.title('Model accuracy of quaternion cnn')\n",
        "plt.ylabel('Accuracy')\n",
        "plt.xlabel('Epoch')\n",
        "plt.legend()\n",
        "plt.show()\n",
        "\n",
        "# Plot training loss values\n",
        "#plt.plot(history_cnn_3c2p.history['loss'], color='green', label='3c2p_layers')\n",
        "plt.plot(history_qcnn_3c1p.history['loss'], color='blue', label='3c1p_layers')\n",
        "plt.plot(history_qcnn_4c1p.history['loss'], color='red', label='4c1p_layers')\n",
        "plt.title('Model loss of quaternion cnn')\n",
        "plt.ylabel('Loss')\n",
        "plt.xlabel('Epoch')\n",
        "plt.legend()\n",
        "plt.show()\n",
        "\n",
        "\n"
      ],
      "execution_count": 38,
      "outputs": [
        {
          "output_type": "display_data",
          "data": {
            "image/png": "[encoded data removed]",
            "text/plain": [
              "<Figure size 432x288 with 1 Axes>"
            ]
          },
          "metadata": {
            "tags": []
          }
        },
        {
          "output_type": "display_data",
          "data": {
            "image/png": "[encoded data removed]",
            "text/plain": [
              "<Figure size 432x288 with 1 Axes>"
            ]
          },
          "metadata": {
            "tags": []
          }
        }
      ]
    },
    {
      "metadata": {
        "id": "yEbus0qzVwPH",
        "colab_type": "text"
      },
      "cell_type": "markdown",
      "source": [
        "# WCNN"
      ]
    },
    {
      "metadata": {
        "id": "FqllLg-oV39Z",
        "colab_type": "code",
        "colab": {
          "base_uri": "https://localhost:8080/",
          "height": 51
        },
        "outputId": "726ea67c-a3e3-46dd-b57c-07084c6a962c"
      },
      "cell_type": "code",
      "source": [
        "f = h5py.File('/content/drive/My Drive/Colab Notebooks/waveletFull.mat','r') \n",
        "\n",
        "X_w = f['waveletImages'][:]\n",
        "print(X_w.shape)\n",
        "\n",
        "#lable\n",
        "f = h5py.File('/content/drive/My Drive/Colab Notebooks/waveletFullLabels.mat','r') \n",
        "y_w = f['waveletImagesLabels'][:]\n",
        "y_w = y_w.T\n",
        "print(y_w.shape)"
      ],
      "execution_count": 39,
      "outputs": [
        {
          "output_type": "stream",
          "text": [
            "(70000, 4, 14, 14)\n",
            "(70000, 1)\n"
          ],
          "name": "stdout"
        }
      ]
    },
    {
      "metadata": {
        "id": "QZzXURUkV3nP",
        "colab_type": "code",
        "colab": {}
      },
      "cell_type": "code",
      "source": [
        "X_train_w, X_test_w, y_train_w, y_test_w = train_test_split(\n",
        "X_w, y_w, test_size=0.2, random_state=42)"
      ],
      "execution_count": 0,
      "outputs": []
    },
    {
      "metadata": {
        "id": "XwpxCwZgV3jl",
        "colab_type": "code",
        "colab": {
          "base_uri": "https://localhost:8080/",
          "height": 102
        },
        "outputId": "2e681fa6-2c71-4f91-cf5b-8e9a8ba0c30b"
      },
      "cell_type": "code",
      "source": [
        "X_train_w = X_train_w.reshape(X_train_w.shape[0], X_train_w.shape[1], X_train_w.shape[2], X_train_w.shape[3],1)\n",
        "X_test_w = X_test_w.reshape(X_test_w.shape[0], X_train_w.shape[1], X_train_w.shape[2], X_train_w.shape[3],1)\n",
        "#training_labels = training_labels[0]\n",
        "y_train_w.astype(int)\n",
        "y_test_w.astype(int)\n",
        "print('Number of training examples: ' + str(X_train_w.shape[0]))\n",
        "print('Training images shape:' + str(X_train_w.shape))\n",
        "print('Training labels shape:' + str(y_train_w.shape))\n",
        "print('Test images shape:' + str(X_test_w.shape))\n",
        "print('Test labels shape:' + str(y_test_w.shape))"
      ],
      "execution_count": 41,
      "outputs": [
        {
          "output_type": "stream",
          "text": [
            "Number of training examples: 56000\n",
            "Training images shape:(56000, 4, 14, 14, 1)\n",
            "Training labels shape:(56000, 1)\n",
            "Test images shape:(14000, 4, 14, 14, 1)\n",
            "Test labels shape:(14000, 1)\n"
          ],
          "name": "stdout"
        }
      ]
    },
    {
      "metadata": {
        "id": "k_Euj8LLXQFa",
        "colab_type": "text"
      },
      "cell_type": "markdown",
      "source": [
        "## 3 conv layers, 1 pooling"
      ]
    },
    {
      "metadata": {
        "id": "JN6ct9RiV3gG",
        "colab_type": "code",
        "colab": {
          "base_uri": "https://localhost:8080/",
          "height": 408
        },
        "outputId": "070e33e8-1069-4b9d-c723-d3509601f966"
      },
      "cell_type": "code",
      "source": [
        "model = tf.keras.models.Sequential()\n",
        "model.add(tf.keras.layers.Conv3D(8, (1,3,3), activation='relu', input_shape=(4, 14, 14, 1)))\n",
        "#model.add(tf.keras.layers.MaxPooling3D(pool_size=(2, 2, 2), strides=(1, 2, 2)))\n",
        "#model.add(tf.keras.layers.BatchNormalization())\n",
        "model.add(tf.keras.layers.Conv3D(16, (1,3,3), activation='relu'))\n",
        "model.add(tf.keras.layers.Conv3D(32, (1,3,3), activation='relu'))\n",
        "model.add(tf.keras.layers.MaxPooling3D(pool_size=(1, 2, 2), strides=(1, 2, 2)))\n",
        "model.add(tf.keras.layers.BatchNormalization())\n",
        "\n",
        "\n",
        "#FC Layers\n",
        "model.add(tf.keras.layers.Flatten())\n",
        "model.add(tf.keras.layers.Dense(128, activation='relu'))\n",
        "model.add(tf.keras.layers.Dense(10, activation='softmax'))\n",
        "\n",
        "model.compile(optimizer='adam', loss='sparse_categorical_crossentropy', metrics=['accuracy'])\n",
        "model.summary()\n",
        "\n"
      ],
      "execution_count": 47,
      "outputs": [
        {
          "output_type": "stream",
          "text": [
            "_________________________________________________________________\n",
            "Layer (type)                 Output Shape              Param #   \n",
            "=================================================================\n",
            "conv3d_13 (Conv3D)           (None, 4, 12, 12, 8)      80        \n",
            "_________________________________________________________________\n",
            "conv3d_14 (Conv3D)           (None, 4, 10, 10, 16)     1168      \n",
            "_________________________________________________________________\n",
            "conv3d_15 (Conv3D)           (None, 4, 8, 8, 32)       4640      \n",
            "_________________________________________________________________\n",
            "max_pooling3d_4 (MaxPooling3 (None, 4, 4, 4, 32)       0         \n",
            "_________________________________________________________________\n",
            "batch_normalization_v1_6 (Ba (None, 4, 4, 4, 32)       128       \n",
            "_________________________________________________________________\n",
            "flatten_10 (Flatten)         (None, 2048)              0         \n",
            "_________________________________________________________________\n",
            "dense_20 (Dense)             (None, 128)               262272    \n",
            "_________________________________________________________________\n",
            "dense_21 (Dense)             (None, 10)                1290      \n",
            "=================================================================\n",
            "Total params: 269,578\n",
            "Trainable params: 269,514\n",
            "Non-trainable params: 64\n",
            "_________________________________________________________________\n"
          ],
          "name": "stdout"
        }
      ]
    },
    {
      "metadata": {
        "id": "pO1awSlxV3WL",
        "colab_type": "code",
        "colab": {
          "base_uri": "https://localhost:8080/",
          "height": 714
        },
        "outputId": "231f61fd-4069-4a8e-939b-a6af0ae8f2b4"
      },
      "cell_type": "code",
      "source": [
        "history_wcnn_3c1p = model.fit(X_train_w, y_train_w, epochs=20, verbose=1)\n",
        "test_loss = model.evaluate(X_test_w, y_test_w)"
      ],
      "execution_count": 48,
      "outputs": [
        {
          "output_type": "stream",
          "text": [
            "Epoch 1/20\n",
            "56000/56000 [==============================] - 12s 214us/sample - loss: 0.1164 - acc: 0.9644\n",
            "Epoch 2/20\n",
            "56000/56000 [==============================] - 12s 221us/sample - loss: 0.0432 - acc: 0.9861\n",
            "Epoch 3/20\n",
            "56000/56000 [==============================] - 12s 212us/sample - loss: 0.0286 - acc: 0.9906\n",
            "Epoch 4/20\n",
            "56000/56000 [==============================] - 12s 206us/sample - loss: 0.0188 - acc: 0.9941\n",
            "Epoch 5/20\n",
            "56000/56000 [==============================] - 13s 235us/sample - loss: 0.0155 - acc: 0.9949\n",
            "Epoch 6/20\n",
            "56000/56000 [==============================] - 12s 206us/sample - loss: 0.0140 - acc: 0.9952\n",
            "Epoch 7/20\n",
            "56000/56000 [==============================] - 11s 205us/sample - loss: 0.0125 - acc: 0.9961\n",
            "Epoch 8/20\n",
            "56000/56000 [==============================] - 12s 206us/sample - loss: 0.0098 - acc: 0.9968\n",
            "Epoch 9/20\n",
            "56000/56000 [==============================] - 13s 228us/sample - loss: 0.0114 - acc: 0.9966\n",
            "Epoch 10/20\n",
            "56000/56000 [==============================] - 12s 207us/sample - loss: 0.0091 - acc: 0.9973\n",
            "Epoch 11/20\n",
            "56000/56000 [==============================] - 12s 206us/sample - loss: 0.0077 - acc: 0.9976\n",
            "Epoch 12/20\n",
            "56000/56000 [==============================] - 11s 205us/sample - loss: 0.0062 - acc: 0.9982\n",
            "Epoch 13/20\n",
            "56000/56000 [==============================] - 12s 206us/sample - loss: 0.0079 - acc: 0.9977\n",
            "Epoch 14/20\n",
            "56000/56000 [==============================] - 12s 206us/sample - loss: 0.0068 - acc: 0.9977\n",
            "Epoch 15/20\n",
            "56000/56000 [==============================] - 12s 206us/sample - loss: 0.0052 - acc: 0.9983\n",
            "Epoch 16/20\n",
            "56000/56000 [==============================] - 13s 229us/sample - loss: 0.0071 - acc: 0.9979\n",
            "Epoch 17/20\n",
            "56000/56000 [==============================] - 12s 206us/sample - loss: 0.0044 - acc: 0.9986\n",
            "Epoch 18/20\n",
            "56000/56000 [==============================] - 12s 214us/sample - loss: 0.0061 - acc: 0.9983\n",
            "Epoch 19/20\n",
            "56000/56000 [==============================] - 12s 214us/sample - loss: 0.0035 - acc: 0.9990\n",
            "Epoch 20/20\n",
            "56000/56000 [==============================] - 12s 220us/sample - loss: 0.0061 - acc: 0.9983\n",
            "14000/14000 [==============================] - 1s 96us/sample - loss: 0.0880 - acc: 0.9864\n"
          ],
          "name": "stdout"
        }
      ]
    },
    {
      "metadata": {
        "id": "lUh27nAzY5Dh",
        "colab_type": "text"
      },
      "cell_type": "markdown",
      "source": [
        "## 4 conv layers, 1 pooling"
      ]
    },
    {
      "metadata": {
        "id": "Xc80kjHGY-8C",
        "colab_type": "code",
        "colab": {
          "base_uri": "https://localhost:8080/",
          "height": 442
        },
        "outputId": "27dd0c1d-93c8-455c-f25b-fc5edc1f7af8"
      },
      "cell_type": "code",
      "source": [
        "model = tf.keras.models.Sequential()\n",
        "model.add(tf.keras.layers.Conv3D(8, (1,3,3), activation='relu', input_shape=(4, 14, 14, 1)))\n",
        "#model.add(tf.keras.layers.MaxPooling3D(pool_size=(2, 2, 2), strides=(1, 2, 2)))\n",
        "#model.add(tf.keras.layers.BatchNormalization())\n",
        "model.add(tf.keras.layers.Conv3D(16, (1,3,3), activation='relu'))\n",
        "model.add(tf.keras.layers.Conv3D(32, (1,3,3), activation='relu'))\n",
        "model.add(tf.keras.layers.Conv3D(32, (1,3,3), activation='relu'))\n",
        "model.add(tf.keras.layers.MaxPooling3D(pool_size=(1, 2, 2), strides=(1, 2, 2)))\n",
        "model.add(tf.keras.layers.BatchNormalization())\n",
        "\n",
        "\n",
        "#FC Layers\n",
        "model.add(tf.keras.layers.Flatten())\n",
        "model.add(tf.keras.layers.Dense(128, activation='relu'))\n",
        "model.add(tf.keras.layers.Dense(10, activation='softmax'))\n",
        "\n",
        "model.compile(optimizer='adam', loss='sparse_categorical_crossentropy', metrics=['accuracy'])\n",
        "model.summary()\n",
        "\n"
      ],
      "execution_count": 49,
      "outputs": [
        {
          "output_type": "stream",
          "text": [
            "_________________________________________________________________\n",
            "Layer (type)                 Output Shape              Param #   \n",
            "=================================================================\n",
            "conv3d_16 (Conv3D)           (None, 4, 12, 12, 8)      80        \n",
            "_________________________________________________________________\n",
            "conv3d_17 (Conv3D)           (None, 4, 10, 10, 16)     1168      \n",
            "_________________________________________________________________\n",
            "conv3d_18 (Conv3D)           (None, 4, 8, 8, 32)       4640      \n",
            "_________________________________________________________________\n",
            "conv3d_19 (Conv3D)           (None, 4, 6, 6, 32)       9248      \n",
            "_________________________________________________________________\n",
            "max_pooling3d_5 (MaxPooling3 (None, 4, 3, 3, 32)       0         \n",
            "_________________________________________________________________\n",
            "batch_normalization_v1_7 (Ba (None, 4, 3, 3, 32)       128       \n",
            "_________________________________________________________________\n",
            "flatten_11 (Flatten)         (None, 1152)              0         \n",
            "_________________________________________________________________\n",
            "dense_22 (Dense)             (None, 128)               147584    \n",
            "_________________________________________________________________\n",
            "dense_23 (Dense)             (None, 10)                1290      \n",
            "=================================================================\n",
            "Total params: 164,138\n",
            "Trainable params: 164,074\n",
            "Non-trainable params: 64\n",
            "_________________________________________________________________\n"
          ],
          "name": "stdout"
        }
      ]
    },
    {
      "metadata": {
        "id": "RTrzf4gFY-yw",
        "colab_type": "code",
        "colab": {
          "base_uri": "https://localhost:8080/",
          "height": 714
        },
        "outputId": "b554d579-a87e-4582-abea-ba95a6ef2b8c"
      },
      "cell_type": "code",
      "source": [
        "history_wcnn_4c1p = model.fit(X_train_w, y_train_w, epochs=20, verbose=1)\n",
        "test_loss = model.evaluate(X_test_w, y_test_w)"
      ],
      "execution_count": 50,
      "outputs": [
        {
          "output_type": "stream",
          "text": [
            "Epoch 1/20\n",
            "56000/56000 [==============================] - 14s 245us/sample - loss: 0.1332 - acc: 0.9591\n",
            "Epoch 2/20\n",
            "56000/56000 [==============================] - 12s 221us/sample - loss: 0.0538 - acc: 0.9829\n",
            "Epoch 3/20\n",
            "56000/56000 [==============================] - 12s 222us/sample - loss: 0.0375 - acc: 0.9882\n",
            "Epoch 4/20\n",
            "56000/56000 [==============================] - 12s 223us/sample - loss: 0.0276 - acc: 0.9913\n",
            "Epoch 5/20\n",
            "56000/56000 [==============================] - 13s 239us/sample - loss: 0.0233 - acc: 0.9925\n",
            "Epoch 6/20\n",
            "56000/56000 [==============================] - 13s 226us/sample - loss: 0.0180 - acc: 0.9942\n",
            "Epoch 7/20\n",
            "56000/56000 [==============================] - 13s 225us/sample - loss: 0.0136 - acc: 0.9956\n",
            "Epoch 8/20\n",
            "56000/56000 [==============================] - 12s 221us/sample - loss: 0.0144 - acc: 0.9951\n",
            "Epoch 9/20\n",
            "56000/56000 [==============================] - 12s 222us/sample - loss: 0.0119 - acc: 0.9962\n",
            "Epoch 10/20\n",
            "56000/56000 [==============================] - 12s 222us/sample - loss: 0.0105 - acc: 0.9968\n",
            "Epoch 11/20\n",
            "56000/56000 [==============================] - 13s 229us/sample - loss: 0.0088 - acc: 0.9972\n",
            "Epoch 12/20\n",
            "56000/56000 [==============================] - 13s 238us/sample - loss: 0.0099 - acc: 0.9970\n",
            "Epoch 13/20\n",
            "56000/56000 [==============================] - 12s 222us/sample - loss: 0.0093 - acc: 0.9972\n",
            "Epoch 14/20\n",
            "56000/56000 [==============================] - 13s 223us/sample - loss: 0.0057 - acc: 0.9980\n",
            "Epoch 15/20\n",
            "56000/56000 [==============================] - 12s 223us/sample - loss: 0.0077 - acc: 0.9976\n",
            "Epoch 16/20\n",
            "56000/56000 [==============================] - 12s 221us/sample - loss: 0.0083 - acc: 0.9974\n",
            "Epoch 17/20\n",
            "56000/56000 [==============================] - 12s 222us/sample - loss: 0.0059 - acc: 0.9981\n",
            "Epoch 18/20\n",
            "56000/56000 [==============================] - 14s 243us/sample - loss: 0.0056 - acc: 0.9985\n",
            "Epoch 19/20\n",
            "56000/56000 [==============================] - 13s 235us/sample - loss: 0.0055 - acc: 0.9982\n",
            "Epoch 20/20\n",
            "56000/56000 [==============================] - 12s 223us/sample - loss: 0.0040 - acc: 0.9987\n",
            "14000/14000 [==============================] - 1s 97us/sample - loss: 0.0988 - acc: 0.9844\n"
          ],
          "name": "stdout"
        }
      ]
    },
    {
      "metadata": {
        "id": "O-ar5OjNaJva",
        "colab_type": "code",
        "colab": {
          "base_uri": "https://localhost:8080/",
          "height": 573
        },
        "outputId": "9085b241-a06c-4f81-b5f3-ede5bab8bce7"
      },
      "cell_type": "code",
      "source": [
        "import matplotlib.pyplot as plt\n",
        "# Plot training accuracy values\n",
        "#plt.plot(history_qcnn_3c2p.history['acc'], color='green', label='3c2p_layers')\n",
        "plt.plot(history_wcnn_3c1p.history['acc'], color='blue', label='3c1p_layers')\n",
        "plt.plot(history_wcnn_4c1p.history['acc'], color='red', label='4c1p_layers')\n",
        "plt.title('Model accuracy of quaternion cnn')\n",
        "plt.ylabel('Accuracy')\n",
        "plt.xlabel('Epoch')\n",
        "plt.legend()\n",
        "plt.show()\n",
        "\n",
        "# Plot training loss values\n",
        "#plt.plot(history_cnn_3c2p.history['loss'], color='green', label='3c2p_layers')\n",
        "plt.plot(history_wcnn_3c1p.history['loss'], color='blue', label='3c1p_layers')\n",
        "plt.plot(history_wcnn_4c1p.history['loss'], color='red', label='4c1p_layers')\n",
        "plt.title('Model loss of quaternion cnn')\n",
        "plt.ylabel('Loss')\n",
        "plt.xlabel('Epoch')\n",
        "plt.legend()\n",
        "plt.show()\n",
        "\n",
        "\n"
      ],
      "execution_count": 51,
      "outputs": [
        {
          "output_type": "display_data",
          "data": {
            "image/png": "[encoded data removed]",
            "text/plain": [
              "<Figure size 432x288 with 1 Axes>"
            ]
          },
          "metadata": {
            "tags": []
          }
        },
        {
          "output_type": "display_data",
          "data": {
            "image/png": "[encoded data removed]",
            "text/plain": [
              "<Figure size 432x288 with 1 Axes>"
            ]
          },
          "metadata": {
            "tags": []
          }
        }
      ]
    },
    {
      "metadata": {
        "id": "B5D2XKiOaS-z",
        "colab_type": "text"
      },
      "cell_type": "markdown",
      "source": [
        "# Comparison"
      ]
    },
    {
      "metadata": {
        "id": "vtTcRk2iaJh0",
        "colab_type": "code",
        "colab": {}
      },
      "cell_type": "code",
      "source": [
        ""
      ],
      "execution_count": 0,
      "outputs": []
    },
    {
      "metadata": {
        "id": "HOZgLdFS9Jdv",
        "colab_type": "code",
        "outputId": "8b41af76-4ffd-44c5-d36e-45a3a9ed2745",
        "colab": {
          "base_uri": "https://localhost:8080/",
          "height": 573
        }
      },
      "cell_type": "code",
      "source": [
        "# Plot training accuracy values\n",
        "plt.plot(history_wcnn_4c1p.history['acc'], color='red', label='Wcnn')\n",
        "plt.plot(history_qcnn_4c1p.history['acc'], color='blue', label='Qcnn')\n",
        "#plt.plot(history_q4cnn_4c1p.history['acc'], color='m', label='Q4cnn')\n",
        "plt.plot(history_cnn_4c1p.history['acc'], color='green', label='cnn')\n",
        "plt.title('Model accuracy (4 conv layers)')\n",
        "plt.ylabel('Accuracy')\n",
        "plt.xlabel('Epoch')\n",
        "plt.legend()\n",
        "plt.show()\n",
        "\n",
        "# Plot training loss values\n",
        "plt.plot(history_wcnn_4c1p.history['loss'], color='red', label='Wcnn')\n",
        "plt.plot(history_qcnn_4c1p.history['loss'], color='blue', label='Qcnn')\n",
        "#plt.plot(history_q4cnn_4c1p.history['loss'], color='m', label='Q4cnn')\n",
        "plt.plot(history_cnn_4c1p.history['loss'], color='green', label='cnn')\n",
        "plt.title('Model accuracy (4 conv layers)')\n",
        "plt.ylabel('Accuracy')\n",
        "plt.xlabel('Epoch')\n",
        "plt.legend()\n",
        "plt.show()\n",
        "\n",
        "\n",
        "\n",
        "\n"
      ],
      "execution_count": 53,
      "outputs": [
        {
          "output_type": "display_data",
          "data": {
            "image/png": "[encoded data removed]",
            "text/plain": [
              "<Figure size 432x288 with 1 Axes>"
            ]
          },
          "metadata": {
            "tags": []
          }
        },
        {
          "output_type": "display_data",
          "data": {
            "image/png": "[encoded data removed]",
            "text/plain": [
              "<Figure size 432x288 with 1 Axes>"
            ]
          },
          "metadata": {
            "tags": []
          }
        }
      ]
    },
    {
      "metadata": {
        "id": "zkxdqF9qFv4-",
        "colab_type": "code",
        "outputId": "b1d0459c-3c59-44a7-e4be-d0c115efdbc4",
        "colab": {
          "base_uri": "https://localhost:8080/",
          "height": 573
        }
      },
      "cell_type": "code",
      "source": [
        "# Plot training accuracy values\n",
        "plt.plot(history_wcnn_3c1p.history['acc'], color='red', label='Wcnn')\n",
        "plt.plot(history_qcnn_3c1p.history['acc'], color='blue', label='Qcnn')\n",
        "#plt.plot(history_q4cnn_3c1p.history['acc'], color='m', label='Q4cnn')\n",
        "plt.plot(history_cnn_3c1p.history['acc'], color='green', label='cnn')\n",
        "plt.title('Model accuracy (3 conv layers)')\n",
        "plt.ylabel('Accuracy')\n",
        "plt.xlabel('Epoch')\n",
        "plt.legend()\n",
        "plt.show()\n",
        "\n",
        "# Plot training loss values\n",
        "plt.plot(history_wcnn_3c1p.history['loss'], color='red', label='Wcnn')\n",
        "plt.plot(history_qcnn_3c1p.history['loss'], color='blue', label='Qcnn')\n",
        "#plt.plot(history_q4cnn_3c1p.history['loss'], color='m', label='Q4cnn')\n",
        "plt.plot(history_cnn_3c1p.history['loss'], color='green', label='cnn')\n",
        "plt.title('Model accuracy (3 conv layers)')\n",
        "plt.ylabel('Accuracy')\n",
        "plt.xlabel('Epoch')\n",
        "plt.legend()\n",
        "plt.show()\n",
        "\n",
        "\n",
        "\n"
      ],
      "execution_count": 54,
      "outputs": [
        {
          "output_type": "display_data",
          "data": {
            "image/png": "[encoded data removed]",
            "text/plain": [
              "<Figure size 432x288 with 1 Axes>"
            ]
          },
          "metadata": {
            "tags": []
          }
        },
        {
          "output_type": "display_data",
          "data": {
            "image/png": "[encoded data removed]",
            "text/plain": [
              "<Figure size 432x288 with 1 Axes>"
            ]
          },
          "metadata": {
            "tags": []
          }
        }
      ]
    },
    {
      "metadata": {
        "id": "UspcjLH8F5eY",
        "colab_type": "code",
        "colab": {}
      },
      "cell_type": "code",
      "source": [
        ""
      ],
      "execution_count": 0,
      "outputs": []
    }
  ]
}