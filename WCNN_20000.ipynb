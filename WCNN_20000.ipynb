{
  "nbformat": 4,
  "nbformat_minor": 0,
  "metadata": {
    "colab": {
      "name": "WCNN_20000.ipynb",
      "version": "0.3.2",
      "provenance": [],
      "include_colab_link": true
    },
    "kernelspec": {
      "name": "python3",
      "display_name": "Python 3"
    },
    "accelerator": "GPU"
  },
  "cells": [
    {
      "cell_type": "markdown",
      "metadata": {
        "id": "view-in-github",
        "colab_type": "text"
      },
      "source": [
        "<a href=\"https://colab.research.google.com/github/LonghuaHu/deep-learning/blob/master/WCNN_20000.ipynb\" target=\"_parent\"><img src=\"https://colab.research.google.com/assets/colab-badge.svg\" alt=\"Open In Colab\"/></a>"
      ]
    },
    {
      "cell_type": "code",
      "metadata": {
        "id": "u23yNdBN5Bd9",
        "colab_type": "code",
        "outputId": "f3711200-ea0b-4fca-eeac-966a79dc586e",
        "colab": {
          "base_uri": "https://localhost:8080/",
          "height": 34
        }
      },
      "source": [
        "      from google.colab import drive\n",
        "drive.mount('/content/drive')"
      ],
      "execution_count": 0,
      "outputs": [
        {
          "output_type": "stream",
          "text": [
            "Drive already mounted at /content/drive; to attempt to forcibly remount, call drive.mount(\"/content/drive\", force_remount=True).\n"
          ],
          "name": "stdout"
        }
      ]
    },
    {
      "cell_type": "code",
      "metadata": {
        "id": "mv_5ZzGY5DrO",
        "colab_type": "code",
        "outputId": "f791e949-7e58-4b04-c401-d6805b117402",
        "colab": {
          "base_uri": "https://localhost:8080/",
          "height": 51
        }
      },
      "source": [
        "import numpy as np\n",
        "from sklearn.model_selection import train_test_split\n",
        "import h5py \n",
        "#data\n",
        "f = h5py.File('/content/drive/My Drive/Colab Notebooks/catdog/waveletImages.mat','r') \n",
        "\n",
        "X = f['waveletImages'][:]\n",
        "#data = data.T\n",
        "print(X.shape)\n",
        "\n",
        "#lable\n",
        "#f = h5py.File('/content/drive/My Drive/Colab Notebooks/new_quaternionImagesLabels.mat','r') \n",
        "y = f['waveletImagesLabels'][:]\n",
        "y = y.T\n",
        "print(y.shape)\n",
        "\n",
        "\n"
      ],
      "execution_count": 0,
      "outputs": [
        {
          "output_type": "stream",
          "text": [
            "(25000, 4, 75, 75)\n",
            "(25000, 1)\n"
          ],
          "name": "stdout"
        }
      ]
    },
    {
      "cell_type": "code",
      "metadata": {
        "id": "mu3rsq3F6X8t",
        "colab_type": "code",
        "colab": {}
      },
      "source": [
        "X_train, X_test, y_train, y_test = train_test_split(\n",
        "X, y, test_size=0.2, random_state=42)"
      ],
      "execution_count": 0,
      "outputs": []
    },
    {
      "cell_type": "code",
      "metadata": {
        "id": "OZ6TX0te7xQW",
        "colab_type": "code",
        "outputId": "d841d49e-903d-47c2-9233-a70899c3af23",
        "colab": {
          "base_uri": "https://localhost:8080/",
          "height": 102
        }
      },
      "source": [
        "X_train = X_train.reshape(X_train.shape[0], X_train.shape[1], X_train.shape[2], X_train.shape[3],1)\n",
        "X_test = X_test.reshape(X_test.shape[0], X_train.shape[1], X_train.shape[2], X_train.shape[3],1)\n",
        "#training_labels = training_labels[0]\n",
        "y_train.astype(int)\n",
        "y_test.astype(int)\n",
        "print('Number of training examples: ' + str(X_train.shape[0]))\n",
        "print('Training images shape:' + str(X_train.shape))\n",
        "print('Training labels shape:' + str(y_train.shape))\n",
        "print('Test images shape:' + str(X_test.shape))\n",
        "print('Test labels shape:' + str(y_test.shape))"
      ],
      "execution_count": 0,
      "outputs": [
        {
          "output_type": "stream",
          "text": [
            "Number of training examples: 20000\n",
            "Training images shape:(20000, 4, 75, 75, 1)\n",
            "Training labels shape:(20000, 1)\n",
            "Test images shape:(5000, 4, 75, 75, 1)\n",
            "Test labels shape:(5000, 1)\n"
          ],
          "name": "stdout"
        }
      ]
    },
    {
      "cell_type": "code",
      "metadata": {
        "id": "nEUqfn1r8Bbx",
        "colab_type": "code",
        "outputId": "2c014600-7cc2-4e13-bb32-3a15922936c8",
        "colab": {
          "base_uri": "https://localhost:8080/",
          "height": 34
        }
      },
      "source": [
        "import os\n",
        "import tensorflow as tf\n",
        "from keras.callbacks import TensorBoard"
      ],
      "execution_count": 0,
      "outputs": [
        {
          "output_type": "stream",
          "text": [
            "Using TensorFlow backend.\n"
          ],
          "name": "stderr"
        }
      ]
    },
    {
      "cell_type": "code",
      "metadata": {
        "id": "h9I_QqWB8EIj",
        "colab_type": "code",
        "outputId": "2fb8336a-be34-4641-b753-802d7088e209",
        "colab": {
          "base_uri": "https://localhost:8080/",
          "height": 527
        }
      },
      "source": [
        "model = tf.keras.models.Sequential()\n",
        "model.add(tf.keras.layers.Conv3D(32, (1,3,3), activation='relu', input_shape=(4, 75, 75, 1)))\n",
        "#model.add(tf.keras.layers.MaxPooling3D(pool_size=(1, 2, 2), strides=(1, 2, 2)))\n",
        "#model.add(tf.keras.layers.BatchNormalization())\n",
        "model.add(tf.keras.layers.Conv3D(64, (1,3,3), activation='relu'))\n",
        "model.add(tf.keras.layers.MaxPooling3D(pool_size=(1, 2, 2), strides=(1, 2, 2)))\n",
        "model.add(tf.keras.layers.Conv3D(128, (1,3,3), activation='relu'))\n",
        "model.add(tf.keras.layers.MaxPooling3D(pool_size=(1, 2, 2), strides=(1, 2, 2)))\n",
        "model.add(tf.keras.layers.Conv3D(128, (1,3,3), activation='relu'))\n",
        "model.add(tf.keras.layers.MaxPooling3D(pool_size=(1, 2, 2), strides=(1, 2, 2)))\n",
        "model.add(tf.keras.layers.BatchNormalization())\n",
        "\n",
        "\n",
        "#FC Layers\n",
        "model.add(tf.keras.layers.Flatten())\n",
        "model.add(tf.keras.layers.Dense(512))\n",
        "model.add(tf.keras.layers.Dense(1, activation='sigmoid'))\n",
        "\n",
        "model.summary()\n",
        "\n"
      ],
      "execution_count": 0,
      "outputs": [
        {
          "output_type": "stream",
          "text": [
            "Model: \"sequential_2\"\n",
            "_________________________________________________________________\n",
            "Layer (type)                 Output Shape              Param #   \n",
            "=================================================================\n",
            "conv3d_8 (Conv3D)            (None, 4, 73, 73, 32)     320       \n",
            "_________________________________________________________________\n",
            "conv3d_9 (Conv3D)            (None, 4, 71, 71, 64)     18496     \n",
            "_________________________________________________________________\n",
            "max_pooling3d_6 (MaxPooling3 (None, 4, 35, 35, 64)     0         \n",
            "_________________________________________________________________\n",
            "conv3d_10 (Conv3D)           (None, 4, 33, 33, 128)    73856     \n",
            "_________________________________________________________________\n",
            "max_pooling3d_7 (MaxPooling3 (None, 4, 16, 16, 128)    0         \n",
            "_________________________________________________________________\n",
            "conv3d_11 (Conv3D)           (None, 4, 14, 14, 128)    147584    \n",
            "_________________________________________________________________\n",
            "max_pooling3d_8 (MaxPooling3 (None, 4, 7, 7, 128)      0         \n",
            "_________________________________________________________________\n",
            "batch_normalization_2 (Batch (None, 4, 7, 7, 128)      512       \n",
            "_________________________________________________________________\n",
            "flatten_2 (Flatten)          (None, 25088)             0         \n",
            "_________________________________________________________________\n",
            "dense_4 (Dense)              (None, 512)               12845568  \n",
            "_________________________________________________________________\n",
            "dense_5 (Dense)              (None, 1)                 513       \n",
            "=================================================================\n",
            "Total params: 13,086,849\n",
            "Trainable params: 13,086,593\n",
            "Non-trainable params: 256\n",
            "_________________________________________________________________\n"
          ],
          "name": "stdout"
        }
      ]
    },
    {
      "cell_type": "code",
      "metadata": {
        "id": "pO4n6R1o844x",
        "colab_type": "code",
        "outputId": "b50431ba-b726-40cf-94e9-ef3c4775c6b7",
        "colab": {
          "base_uri": "https://localhost:8080/",
          "height": 785
        }
      },
      "source": [
        "import matplotlib.pyplot as plt\n",
        "from tensorflow.keras.optimizers import RMSprop\n",
        "\n",
        "model.compile(loss='binary_crossentropy',\n",
        "              optimizer=RMSprop(lr=0.0003),\n",
        "              metrics=['acc'])\n",
        "\n",
        "history_wcnn = model.fit(X_train, y_train, epochs=20, verbose=1)\n",
        "test_loss = model.evaluate(X_test, y_test)\n",
        "\n",
        "\n",
        "#model.fit(X_train, y_train, epochs=30)\n",
        "#test_loss = model.evaluate(X_test, y_test)\n",
        "\n",
        "#model.fit(X_train, y_train, epochs=10,\n",
        "#          validation_data=(X_test, y_test),\n",
        "#          callbacks=[TrainValTensorBoard(write_graph=False)])"
      ],
      "execution_count": 0,
      "outputs": [
        {
          "output_type": "stream",
          "text": [
            "W0626 14:23:35.696758 139858965923712 deprecation.py:323] From /usr/local/lib/python3.6/dist-packages/tensorflow/python/ops/nn_impl.py:180: add_dispatch_support.<locals>.wrapper (from tensorflow.python.ops.array_ops) is deprecated and will be removed in a future version.\n",
            "Instructions for updating:\n",
            "Use tf.where in 2.0, which has the same broadcast rule as np.where\n"
          ],
          "name": "stderr"
        },
        {
          "output_type": "stream",
          "text": [
            "Epoch 1/20\n",
            "20000/20000 [==============================] - 69s 3ms/sample - loss: 1.7983 - acc: 0.6562\n",
            "Epoch 2/20\n",
            "20000/20000 [==============================] - 64s 3ms/sample - loss: 0.4836 - acc: 0.7740\n",
            "Epoch 3/20\n",
            "20000/20000 [==============================] - 64s 3ms/sample - loss: 0.3995 - acc: 0.8245\n",
            "Epoch 4/20\n",
            "20000/20000 [==============================] - 64s 3ms/sample - loss: 0.3290 - acc: 0.8586\n",
            "Epoch 5/20\n",
            "20000/20000 [==============================] - 64s 3ms/sample - loss: 0.2705 - acc: 0.8856\n",
            "Epoch 6/20\n",
            "20000/20000 [==============================] - 64s 3ms/sample - loss: 0.2068 - acc: 0.9161\n",
            "Epoch 7/20\n",
            "20000/20000 [==============================] - 64s 3ms/sample - loss: 0.1474 - acc: 0.9417\n",
            "Epoch 8/20\n",
            "20000/20000 [==============================] - 64s 3ms/sample - loss: 0.1139 - acc: 0.9554\n",
            "Epoch 9/20\n",
            "20000/20000 [==============================] - 64s 3ms/sample - loss: 0.0920 - acc: 0.9656\n",
            "Epoch 10/20\n",
            "20000/20000 [==============================] - 64s 3ms/sample - loss: 0.0765 - acc: 0.9719\n",
            "Epoch 11/20\n",
            "20000/20000 [==============================] - 64s 3ms/sample - loss: 0.0683 - acc: 0.9739\n",
            "Epoch 12/20\n",
            "20000/20000 [==============================] - 64s 3ms/sample - loss: 0.0608 - acc: 0.9767\n",
            "Epoch 13/20\n",
            "20000/20000 [==============================] - 64s 3ms/sample - loss: 0.0552 - acc: 0.9788\n",
            "Epoch 14/20\n",
            "20000/20000 [==============================] - 64s 3ms/sample - loss: 0.0540 - acc: 0.9792\n",
            "Epoch 15/20\n",
            "20000/20000 [==============================] - 64s 3ms/sample - loss: 0.0453 - acc: 0.9833\n",
            "Epoch 16/20\n",
            "20000/20000 [==============================] - 64s 3ms/sample - loss: 0.0437 - acc: 0.9840\n",
            "Epoch 17/20\n",
            "20000/20000 [==============================] - 64s 3ms/sample - loss: 0.0410 - acc: 0.9858\n",
            "Epoch 18/20\n",
            "20000/20000 [==============================] - 64s 3ms/sample - loss: 0.0352 - acc: 0.9874\n",
            "Epoch 19/20\n",
            "20000/20000 [==============================] - 64s 3ms/sample - loss: 0.0360 - acc: 0.9880\n",
            "Epoch 20/20\n",
            "20000/20000 [==============================] - 64s 3ms/sample - loss: 0.0351 - acc: 0.9886\n",
            "5000/5000 [==============================] - 5s 1ms/sample - loss: 0.8560 - acc: 0.8332\n"
          ],
          "name": "stdout"
        }
      ]
    },
    {
      "cell_type": "code",
      "metadata": {
        "id": "g5XXCAwl-l-I",
        "colab_type": "code",
        "colab": {}
      },
      "source": [
        ""
      ],
      "execution_count": 0,
      "outputs": []
    }
  ]
}