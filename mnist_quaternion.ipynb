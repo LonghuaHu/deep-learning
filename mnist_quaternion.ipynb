{
  "nbformat": 4,
  "nbformat_minor": 0,
  "metadata": {
    "colab": {
      "name": "mnist_0315.ipynb",
      "version": "0.3.2",
      "provenance": [],
      "include_colab_link": true
    },
    "kernelspec": {
      "name": "python3",
      "display_name": "Python 3"
    },
    "accelerator": "GPU"
  },
  "cells": [
    {
      "cell_type": "markdown",
      "metadata": {
        "id": "view-in-github",
        "colab_type": "text"
      },
      "source": [
        "<a href=\"https://colab.research.google.com/github/LonghuaHu/deep-learning/blob/master/mnist_quaternion.ipynb\" target=\"_parent\"><img src=\"https://colab.research.google.com/assets/colab-badge.svg\" alt=\"Open In Colab\"/></a>"
      ]
    },
    {
      "metadata": {
        "id": "igene0HDnqUw",
        "colab_type": "code",
        "colab": {
          "base_uri": "https://localhost:8080/",
          "height": 209
        },
        "outputId": "7c154813-5c3b-4e67-8eb3-2a3f3c49dc08"
      },
      "cell_type": "code",
      "source": [
        "from google.colab import drive\n",
        "drive.mount('/content/drive')"
      ],
      "execution_count": 2,
      "outputs": [
        {
          "output_type": "stream",
          "text": [
            "Go to this URL in a browser: https://accounts.google.com/o/oauth2/auth?client_id=947318989803-6bn6qk8qdgf4n4g3pfee6491hc0brc4i.apps.googleusercontent.com&redirect_uri=urn%3Aietf%3Awg%3Aoauth%3A2.0%3Aoob&scope=email%20https%3A%2F%2Fwww.googleapis.com%2Fauth%2Fdocs.test%20https%3A%2F%2Fwww.googleapis.com%2Fauth%2Fdrive%20https%3A%2F%2Fwww.googleapis.com%2Fauth%2Fdrive.photos.readonly%20https%3A%2F%2Fwww.googleapis.com%2Fauth%2Fpeopleapi.readonly&response_type=code\n",
            "\n",
            "Enter your authorization code:\n",
            "··········\n",
            "Mounted at /content/drive\n"
          ],
          "name": "stdout"
        }
      ]
    },
    {
      "metadata": {
        "id": "NAF488HOlfZq",
        "colab_type": "code",
        "colab": {
          "base_uri": "https://localhost:8080/",
          "height": 51
        },
        "outputId": "e377c85f-d65c-44ae-8db8-06a1a07c3b75"
      },
      "cell_type": "code",
      "source": [
        "import numpy as np\n",
        "from sklearn.model_selection import train_test_split\n",
        "import h5py \n",
        "#data\n",
        "f = h5py.File('/content/drive/My Drive/Colab Notebooks/new_quaternionImages.mat','r') \n",
        "\n",
        "X = f['quaternionImages'][:]\n",
        "#data = data.T\n",
        "print(X.shape)\n",
        "\n",
        "#lable\n",
        "f = h5py.File('/content/drive/My Drive/Colab Notebooks/new_quaternionImagesLabels.mat','r') \n",
        "y = f['quaternionImagesLabels'][:]\n",
        "y = y.T\n",
        "print(y.shape)\n",
        "\n"
      ],
      "execution_count": 3,
      "outputs": [
        {
          "output_type": "stream",
          "text": [
            "(10000, 12, 14, 14)\n",
            "(10000, 1)\n"
          ],
          "name": "stdout"
        }
      ]
    },
    {
      "metadata": {
        "id": "0nIIU2d2vEfL",
        "colab_type": "code",
        "colab": {}
      },
      "cell_type": "code",
      "source": [
        "X_train, X_test, y_train, y_test = train_test_split(\n",
        "X, y, test_size=0.2, random_state=42)"
      ],
      "execution_count": 0,
      "outputs": []
    },
    {
      "metadata": {
        "id": "SFs9tDOev_7Q",
        "colab_type": "code",
        "colab": {
          "base_uri": "https://localhost:8080/",
          "height": 34
        },
        "outputId": "77329d3d-6198-4a81-eecc-76971b7c19d8"
      },
      "cell_type": "code",
      "source": [
        "print(X_train.shape, X_test.shape, y_train.shape, y_test.shape)"
      ],
      "execution_count": 8,
      "outputs": [
        {
          "output_type": "stream",
          "text": [
            "(8000, 12, 14, 14) (2000, 12, 14, 14) (8000, 1) (2000, 1)\n"
          ],
          "name": "stdout"
        }
      ]
    },
    {
      "metadata": {
        "id": "cZ5hAxiblfZ4",
        "colab_type": "code",
        "colab": {}
      },
      "cell_type": "code",
      "source": [
        "#data[0,7,0,0]"
      ],
      "execution_count": 0,
      "outputs": []
    },
    {
      "metadata": {
        "id": "ejnj8UP_lfZ-",
        "colab_type": "code",
        "colab": {
          "base_uri": "https://localhost:8080/",
          "height": 102
        },
        "outputId": "782bfd1e-3d0b-4beb-d503-3769e608676c"
      },
      "cell_type": "code",
      "source": [
        "X_train = X_train.reshape(X_train.shape[0], X_train.shape[1], X_train.shape[2], X_train.shape[3],1)\n",
        "X_test = X_test.reshape(X_test.shape[0], X_train.shape[1], X_train.shape[2], X_train.shape[3],1)\n",
        "#training_labels = training_labels[0]\n",
        "y_train.astype(int)\n",
        "y_test.astype(int)\n",
        "print('Number of training examples: ' + str(X_train.shape[0]))\n",
        "print('Training images shape:' + str(X_train.shape))\n",
        "print('Training labels shape:' + str(y_train.shape))\n",
        "print('Test images shape:' + str(X_test.shape))\n",
        "print('Test labels shape:' + str(y_test.shape))"
      ],
      "execution_count": 5,
      "outputs": [
        {
          "output_type": "stream",
          "text": [
            "Number of training examples: 8000\n",
            "Training images shape:(8000, 12, 14, 14, 1)\n",
            "Training labels shape:(8000, 1)\n",
            "Test images shape:(2000, 12, 14, 14, 1)\n",
            "Test labels shape:(2000, 1)\n"
          ],
          "name": "stdout"
        }
      ]
    },
    {
      "metadata": {
        "id": "VM4ures9lfaH",
        "colab_type": "code",
        "colab": {
          "base_uri": "https://localhost:8080/",
          "height": 34
        },
        "outputId": "5c1a1a3a-705e-48db-e3e0-c38b02a004cb"
      },
      "cell_type": "code",
      "source": [
        "import os\n",
        "import tensorflow as tf\n",
        "from keras.callbacks import TensorBoard"
      ],
      "execution_count": 6,
      "outputs": [
        {
          "output_type": "stream",
          "text": [
            "Using TensorFlow backend.\n"
          ],
          "name": "stderr"
        }
      ]
    },
    {
      "metadata": {
        "id": "K_crVCSjlfaK",
        "colab_type": "code",
        "colab": {
          "base_uri": "https://localhost:8080/",
          "height": 485
        },
        "outputId": "b33d013c-204d-4e31-ebd5-92fe7fb891fc"
      },
      "cell_type": "code",
      "source": [
        "model = tf.keras.models.Sequential()\n",
        "model.add(tf.keras.layers.Conv3D(8, (3,3,3), activation='relu', input_shape=(12, 14, 14, 1)))\n",
        "#model.add(tf.keras.layers.MaxPooling3D(pool_size=(2, 2, 2), strides=(1, 2, 2)))\n",
        "#model.add(tf.keras.layers.BatchNormalization())\n",
        "model.add(tf.keras.layers.Conv3D(16, (1,3,3), activation='relu'))\n",
        "model.add(tf.keras.layers.MaxPooling3D(pool_size=(1, 2, 2), strides=(1, 2, 2)))\n",
        "model.add(tf.keras.layers.BatchNormalization())\n",
        "\n",
        "\n",
        "#FC Layers\n",
        "model.add(tf.keras.layers.Flatten())\n",
        "model.add(tf.keras.layers.Dense(128))\n",
        "model.add(tf.keras.layers.Dense(1, activation='sigmoid'))\n",
        "\n",
        "model.summary()\n"
      ],
      "execution_count": 7,
      "outputs": [
        {
          "output_type": "stream",
          "text": [
            "WARNING:tensorflow:From /usr/local/lib/python3.6/dist-packages/tensorflow/python/ops/resource_variable_ops.py:435: colocate_with (from tensorflow.python.framework.ops) is deprecated and will be removed in a future version.\n",
            "Instructions for updating:\n",
            "Colocations handled automatically by placer.\n",
            "_________________________________________________________________\n",
            "Layer (type)                 Output Shape              Param #   \n",
            "=================================================================\n",
            "conv3d (Conv3D)              (None, 10, 12, 12, 8)     224       \n",
            "_________________________________________________________________\n",
            "conv3d_1 (Conv3D)            (None, 10, 10, 10, 16)    1168      \n",
            "_________________________________________________________________\n",
            "max_pooling3d (MaxPooling3D) (None, 10, 5, 5, 16)      0         \n",
            "_________________________________________________________________\n",
            "batch_normalization_v1 (Batc (None, 10, 5, 5, 16)      64        \n",
            "_________________________________________________________________\n",
            "flatten (Flatten)            (None, 4000)              0         \n",
            "_________________________________________________________________\n",
            "dense (Dense)                (None, 128)               512128    \n",
            "_________________________________________________________________\n",
            "dense_1 (Dense)              (None, 1)                 129       \n",
            "=================================================================\n",
            "Total params: 513,713\n",
            "Trainable params: 513,681\n",
            "Non-trainable params: 32\n",
            "_________________________________________________________________\n"
          ],
          "name": "stdout"
        }
      ]
    },
    {
      "metadata": {
        "id": "th7o91LtlfaT",
        "colab_type": "code",
        "colab": {
          "base_uri": "https://localhost:8080/",
          "height": 1805
        },
        "outputId": "4e607018-7257-4d55-e63d-1396553a74c3"
      },
      "cell_type": "code",
      "source": [
        "import matplotlib.pyplot as plt\n",
        "from tensorflow.keras.optimizers import RMSprop\n",
        "\n",
        "model.compile(loss='binary_crossentropy',\n",
        "              optimizer=RMSprop(lr=0.0003),\n",
        "              metrics=['acc'])\n",
        "\n",
        "history1 = model.fit(X_train, y_train, epochs=50, verbose=1)\n",
        "test_loss = model.evaluate(X_test, y_test)\n",
        "\n",
        "\n",
        "#model.fit(X_train, y_train, epochs=30)\n",
        "#test_loss = model.evaluate(X_test, y_test)\n",
        "\n",
        "#model.fit(X_train, y_train, epochs=10,\n",
        "#          validation_data=(X_test, y_test),\n",
        "#          callbacks=[TrainValTensorBoard(write_graph=False)])"
      ],
      "execution_count": 8,
      "outputs": [
        {
          "output_type": "stream",
          "text": [
            "WARNING:tensorflow:From /usr/local/lib/python3.6/dist-packages/tensorflow/python/ops/math_ops.py:3066: to_int32 (from tensorflow.python.ops.math_ops) is deprecated and will be removed in a future version.\n",
            "Instructions for updating:\n",
            "Use tf.cast instead.\n",
            "Epoch 1/50\n",
            "8000/8000 [==============================] - 6s 722us/sample - loss: 0.1738 - acc: 0.9490\n",
            "Epoch 2/50\n",
            "8000/8000 [==============================] - 3s 324us/sample - loss: 0.0596 - acc: 0.9827\n",
            "Epoch 3/50\n",
            "8000/8000 [==============================] - 3s 322us/sample - loss: 0.0261 - acc: 0.9914\n",
            "Epoch 4/50\n",
            "8000/8000 [==============================] - 3s 320us/sample - loss: 0.0185 - acc: 0.9936\n",
            "Epoch 5/50\n",
            "8000/8000 [==============================] - 3s 321us/sample - loss: 0.0095 - acc: 0.9969\n",
            "Epoch 6/50\n",
            "8000/8000 [==============================] - 3s 318us/sample - loss: 0.0065 - acc: 0.9979\n",
            "Epoch 7/50\n",
            "8000/8000 [==============================] - 3s 318us/sample - loss: 0.0050 - acc: 0.9983\n",
            "Epoch 8/50\n",
            "8000/8000 [==============================] - 3s 317us/sample - loss: 0.0030 - acc: 0.9989\n",
            "Epoch 9/50\n",
            "8000/8000 [==============================] - 3s 318us/sample - loss: 0.0019 - acc: 0.9994\n",
            "Epoch 10/50\n",
            "8000/8000 [==============================] - 2s 312us/sample - loss: 7.5996e-04 - acc: 0.9998\n",
            "Epoch 11/50\n",
            "8000/8000 [==============================] - 3s 318us/sample - loss: 0.0017 - acc: 0.9995\n",
            "Epoch 12/50\n",
            "8000/8000 [==============================] - 3s 314us/sample - loss: 0.0024 - acc: 0.9994\n",
            "Epoch 13/50\n",
            "8000/8000 [==============================] - 3s 319us/sample - loss: 3.6905e-04 - acc: 0.9999\n",
            "Epoch 14/50\n",
            "8000/8000 [==============================] - 3s 315us/sample - loss: 4.3900e-04 - acc: 0.9999\n",
            "Epoch 15/50\n",
            "8000/8000 [==============================] - 3s 315us/sample - loss: 4.7927e-04 - acc: 0.9998\n",
            "Epoch 16/50\n",
            "8000/8000 [==============================] - 3s 316us/sample - loss: 6.0272e-05 - acc: 1.0000\n",
            "Epoch 17/50\n",
            "8000/8000 [==============================] - 3s 317us/sample - loss: 8.2385e-04 - acc: 0.9999\n",
            "Epoch 18/50\n",
            "8000/8000 [==============================] - 2s 312us/sample - loss: 6.1428e-05 - acc: 1.0000\n",
            "Epoch 19/50\n",
            "8000/8000 [==============================] - 3s 313us/sample - loss: 4.7431e-05 - acc: 1.0000\n",
            "Epoch 20/50\n",
            "8000/8000 [==============================] - 3s 315us/sample - loss: 5.9389e-05 - acc: 1.0000\n",
            "Epoch 21/50\n",
            "8000/8000 [==============================] - 3s 315us/sample - loss: 0.0010 - acc: 0.9998\n",
            "Epoch 22/50\n",
            "8000/8000 [==============================] - 2s 312us/sample - loss: 1.9723e-04 - acc: 0.9999\n",
            "Epoch 23/50\n",
            "8000/8000 [==============================] - 3s 314us/sample - loss: 7.3281e-04 - acc: 0.9999\n",
            "Epoch 24/50\n",
            "8000/8000 [==============================] - 2s 310us/sample - loss: 4.5392e-06 - acc: 1.0000\n",
            "Epoch 25/50\n",
            "8000/8000 [==============================] - 3s 313us/sample - loss: 1.1983e-04 - acc: 1.0000\n",
            "Epoch 26/50\n",
            "8000/8000 [==============================] - 3s 313us/sample - loss: 2.3990e-05 - acc: 1.0000\n",
            "Epoch 27/50\n",
            "8000/8000 [==============================] - 3s 315us/sample - loss: 1.3062e-04 - acc: 0.9999\n",
            "Epoch 28/50\n",
            "8000/8000 [==============================] - 3s 316us/sample - loss: 3.3866e-05 - acc: 1.0000\n",
            "Epoch 29/50\n",
            "8000/8000 [==============================] - 3s 316us/sample - loss: 1.2930e-06 - acc: 1.0000\n",
            "Epoch 30/50\n",
            "8000/8000 [==============================] - 3s 314us/sample - loss: 1.1516e-07 - acc: 1.0000\n",
            "Epoch 31/50\n",
            "8000/8000 [==============================] - 3s 316us/sample - loss: 1.1040e-07 - acc: 1.0000\n",
            "Epoch 32/50\n",
            "8000/8000 [==============================] - 3s 316us/sample - loss: 1.0981e-07 - acc: 1.0000\n",
            "Epoch 33/50\n",
            "8000/8000 [==============================] - 3s 316us/sample - loss: 1.0969e-07 - acc: 1.0000\n",
            "Epoch 34/50\n",
            "8000/8000 [==============================] - 3s 315us/sample - loss: 1.0963e-07 - acc: 1.0000\n",
            "Epoch 35/50\n",
            "8000/8000 [==============================] - 2s 311us/sample - loss: 1.0964e-07 - acc: 1.0000\n",
            "Epoch 36/50\n",
            "8000/8000 [==============================] - 2s 311us/sample - loss: 1.0964e-07 - acc: 1.0000\n",
            "Epoch 37/50\n",
            "8000/8000 [==============================] - 2s 311us/sample - loss: 1.0966e-07 - acc: 1.0000\n",
            "Epoch 38/50\n",
            "8000/8000 [==============================] - 2s 312us/sample - loss: 1.0964e-07 - acc: 1.0000\n",
            "Epoch 39/50\n",
            "8000/8000 [==============================] - 3s 314us/sample - loss: 1.0964e-07 - acc: 1.0000\n",
            "Epoch 40/50\n",
            "8000/8000 [==============================] - 3s 313us/sample - loss: 1.0963e-07 - acc: 1.0000\n",
            "Epoch 41/50\n",
            "8000/8000 [==============================] - 3s 315us/sample - loss: 1.0964e-07 - acc: 1.0000\n",
            "Epoch 42/50\n",
            "8000/8000 [==============================] - 3s 314us/sample - loss: 1.0965e-07 - acc: 1.0000\n",
            "Epoch 43/50\n",
            "8000/8000 [==============================] - 2s 308us/sample - loss: 1.0963e-07 - acc: 1.0000\n",
            "Epoch 44/50\n",
            "8000/8000 [==============================] - 2s 310us/sample - loss: 1.0965e-07 - acc: 1.0000\n",
            "Epoch 45/50\n",
            "8000/8000 [==============================] - 3s 313us/sample - loss: 1.0963e-07 - acc: 1.0000\n",
            "Epoch 46/50\n",
            "8000/8000 [==============================] - 3s 313us/sample - loss: 1.0963e-07 - acc: 1.0000\n",
            "Epoch 47/50\n",
            "8000/8000 [==============================] - 3s 315us/sample - loss: 1.0964e-07 - acc: 1.0000\n",
            "Epoch 48/50\n",
            "8000/8000 [==============================] - 3s 313us/sample - loss: 1.0964e-07 - acc: 1.0000\n",
            "Epoch 49/50\n",
            "8000/8000 [==============================] - 3s 315us/sample - loss: 1.0963e-07 - acc: 1.0000\n",
            "Epoch 50/50\n",
            "8000/8000 [==============================] - 3s 320us/sample - loss: 1.0963e-07 - acc: 1.0000\n",
            "2000/2000 [==============================] - 0s 136us/sample - loss: 0.2075 - acc: 0.9795\n"
          ],
          "name": "stdout"
        }
      ]
    },
    {
      "metadata": {
        "id": "MjZATJE2-3Bg",
        "colab_type": "code",
        "colab": {
          "base_uri": "https://localhost:8080/",
          "height": 735
        },
        "outputId": "ab789557-6d51-4a38-964f-be9b6401cd4e"
      },
      "cell_type": "code",
      "source": [
        "# Plot training accuracy values\n",
        "plt.plot(history1.history['acc'], color='green', label='stride1x2,sigmoid')\n",
        "plt.title('Model accuracy')\n",
        "plt.ylabel('Accuracy')\n",
        "plt.xlabel('Epoch')\n",
        "plt.legend()\n",
        "plt.show()\n",
        "\n",
        "# Plot training loss values\n",
        "plt.plot(history1.history['loss'], color='green', label='stride1x2,sigmoid')\n",
        "plt.title('Model loss')\n",
        "plt.ylabel('Loss')\n",
        "plt.xlabel('Epoch')\n",
        "plt.legend()\n",
        "plt.show()\n",
        "\n",
        "\n"
      ],
      "execution_count": 9,
      "outputs": [
        {
          "output_type": "display_data",
          "data": {
            "image/png": "[encoded data removed]",
            "text/plain": [
              "<Figure size 576x396 with 1 Axes>"
            ]
          },
          "metadata": {
            "tags": []
          }
        },
        {
          "output_type": "display_data",
          "data": {
            "image/png": "[encoded data removed]",
            "text/plain": [
              "<Figure size 576x396 with 1 Axes>"
            ]
          },
          "metadata": {
            "tags": []
          }
        }
      ]
    },
    {
      "metadata": {
        "id": "tDHgCRQcRWQN",
        "colab_type": "code",
        "colab": {
          "base_uri": "https://localhost:8080/",
          "height": 408
        },
        "outputId": "85ac4633-da4e-4272-873a-ddcc9d90ac64"
      },
      "cell_type": "code",
      "source": [
        "model = tf.keras.models.Sequential()\n",
        "model.add(tf.keras.layers.Conv3D(8, (3,3,3), activation='relu', input_shape=(12, 14, 14, 1)))\n",
        "#model.add(tf.keras.layers.MaxPooling3D(pool_size=(2, 2, 2), strides=(1, 2, 2)))\n",
        "#model.add(tf.keras.layers.BatchNormalization())\n",
        "model.add(tf.keras.layers.Conv3D(16, (3,3,3), activation='relu'))\n",
        "model.add(tf.keras.layers.Conv3D(32, (3,3,3), activation='relu'))\n",
        "model.add(tf.keras.layers.MaxPooling3D(pool_size=(1, 2, 2), strides=(1, 2, 2)))\n",
        "model.add(tf.keras.layers.BatchNormalization())\n",
        "\n",
        "\n",
        "#FC Layers\n",
        "model.add(tf.keras.layers.Flatten())\n",
        "model.add(tf.keras.layers.Dense(128))\n",
        "model.add(tf.keras.layers.Dense(1, activation='sigmoid'))\n",
        "\n",
        "model.summary()\n",
        "\n"
      ],
      "execution_count": 10,
      "outputs": [
        {
          "output_type": "stream",
          "text": [
            "_________________________________________________________________\n",
            "Layer (type)                 Output Shape              Param #   \n",
            "=================================================================\n",
            "conv3d_2 (Conv3D)            (None, 10, 12, 12, 8)     224       \n",
            "_________________________________________________________________\n",
            "conv3d_3 (Conv3D)            (None, 8, 10, 10, 16)     3472      \n",
            "_________________________________________________________________\n",
            "conv3d_4 (Conv3D)            (None, 6, 8, 8, 32)       13856     \n",
            "_________________________________________________________________\n",
            "max_pooling3d_1 (MaxPooling3 (None, 6, 4, 4, 32)       0         \n",
            "_________________________________________________________________\n",
            "batch_normalization_v1_1 (Ba (None, 6, 4, 4, 32)       128       \n",
            "_________________________________________________________________\n",
            "flatten_1 (Flatten)          (None, 3072)              0         \n",
            "_________________________________________________________________\n",
            "dense_2 (Dense)              (None, 128)               393344    \n",
            "_________________________________________________________________\n",
            "dense_3 (Dense)              (None, 1)                 129       \n",
            "=================================================================\n",
            "Total params: 411,153\n",
            "Trainable params: 411,089\n",
            "Non-trainable params: 64\n",
            "_________________________________________________________________\n"
          ],
          "name": "stdout"
        }
      ]
    },
    {
      "metadata": {
        "id": "ZpROt57pRWEG",
        "colab_type": "code",
        "colab": {
          "base_uri": "https://localhost:8080/",
          "height": 1734
        },
        "outputId": "37efd798-2acf-4d9c-e7cb-c18e9a08a39a"
      },
      "cell_type": "code",
      "source": [
        "import matplotlib.pyplot as plt\n",
        "from tensorflow.keras.optimizers import RMSprop\n",
        "\n",
        "model.compile(loss='binary_crossentropy',\n",
        "              optimizer=RMSprop(lr=0.0003),\n",
        "              metrics=['acc'])\n",
        "\n",
        "history4 = model.fit(X_train, y_train, epochs=50, verbose=1)\n",
        "test_loss = model.evaluate(X_test, y_test)\n",
        "\n",
        "\n",
        "#model.fit(X_train, y_train, epochs=30)\n",
        "#test_loss = model.evaluate(X_test, y_test)\n",
        "\n",
        "#model.fit(X_train, y_train, epochs=10,\n",
        "#          validation_data=(X_test, y_test),\n",
        "#          callbacks=[TrainValTensorBoard(write_graph=False)])"
      ],
      "execution_count": 11,
      "outputs": [
        {
          "output_type": "stream",
          "text": [
            "Epoch 1/50\n",
            "8000/8000 [==============================] - 3s 395us/sample - loss: 0.1780 - acc: 0.9426\n",
            "Epoch 2/50\n",
            "8000/8000 [==============================] - 3s 349us/sample - loss: 0.0484 - acc: 0.9846\n",
            "Epoch 3/50\n",
            "8000/8000 [==============================] - 3s 348us/sample - loss: 0.0266 - acc: 0.9919\n",
            "Epoch 4/50\n",
            "8000/8000 [==============================] - 3s 352us/sample - loss: 0.0110 - acc: 0.9969\n",
            "Epoch 5/50\n",
            "8000/8000 [==============================] - 3s 354us/sample - loss: 0.0081 - acc: 0.9969\n",
            "Epoch 6/50\n",
            "8000/8000 [==============================] - 3s 354us/sample - loss: 0.0061 - acc: 0.9985\n",
            "Epoch 7/50\n",
            "8000/8000 [==============================] - 3s 353us/sample - loss: 0.0032 - acc: 0.9989\n",
            "Epoch 8/50\n",
            "8000/8000 [==============================] - 3s 350us/sample - loss: 0.0010 - acc: 0.9995\n",
            "Epoch 9/50\n",
            "8000/8000 [==============================] - 3s 352us/sample - loss: 0.0021 - acc: 0.9996\n",
            "Epoch 10/50\n",
            "8000/8000 [==============================] - 3s 349us/sample - loss: 0.0016 - acc: 0.9996\n",
            "Epoch 11/50\n",
            "8000/8000 [==============================] - 3s 351us/sample - loss: 0.0014 - acc: 0.9995\n",
            "Epoch 12/50\n",
            "8000/8000 [==============================] - 3s 349us/sample - loss: 5.3662e-04 - acc: 0.9998\n",
            "Epoch 13/50\n",
            "8000/8000 [==============================] - 3s 351us/sample - loss: 0.0031 - acc: 0.9992\n",
            "Epoch 14/50\n",
            "8000/8000 [==============================] - 3s 351us/sample - loss: 0.0010 - acc: 0.9999\n",
            "Epoch 15/50\n",
            "8000/8000 [==============================] - 3s 353us/sample - loss: 0.0022 - acc: 0.9994\n",
            "Epoch 16/50\n",
            "8000/8000 [==============================] - 3s 352us/sample - loss: 5.3689e-04 - acc: 0.9996\n",
            "Epoch 17/50\n",
            "8000/8000 [==============================] - 3s 352us/sample - loss: 4.2918e-04 - acc: 0.9998\n",
            "Epoch 18/50\n",
            "8000/8000 [==============================] - 3s 354us/sample - loss: 1.0057e-04 - acc: 1.0000\n",
            "Epoch 19/50\n",
            "8000/8000 [==============================] - 3s 349us/sample - loss: 2.0191e-04 - acc: 0.9999\n",
            "Epoch 20/50\n",
            "8000/8000 [==============================] - 3s 349us/sample - loss: 8.1708e-05 - acc: 1.0000\n",
            "Epoch 21/50\n",
            "8000/8000 [==============================] - 3s 354us/sample - loss: 2.8488e-05 - acc: 1.0000\n",
            "Epoch 22/50\n",
            "8000/8000 [==============================] - 3s 352us/sample - loss: 1.2239e-05 - acc: 1.0000\n",
            "Epoch 23/50\n",
            "8000/8000 [==============================] - 3s 352us/sample - loss: 1.6717e-06 - acc: 1.0000\n",
            "Epoch 24/50\n",
            "8000/8000 [==============================] - 3s 351us/sample - loss: 5.2981e-07 - acc: 1.0000\n",
            "Epoch 25/50\n",
            "8000/8000 [==============================] - 3s 352us/sample - loss: 8.3110e-05 - acc: 1.0000\n",
            "Epoch 26/50\n",
            "8000/8000 [==============================] - 3s 354us/sample - loss: 4.6305e-05 - acc: 1.0000\n",
            "Epoch 27/50\n",
            "8000/8000 [==============================] - 3s 353us/sample - loss: 9.8999e-04 - acc: 0.9999\n",
            "Epoch 28/50\n",
            "8000/8000 [==============================] - 3s 351us/sample - loss: 7.7230e-04 - acc: 0.9999\n",
            "Epoch 29/50\n",
            "8000/8000 [==============================] - 3s 354us/sample - loss: 7.2483e-04 - acc: 0.9998\n",
            "Epoch 30/50\n",
            "8000/8000 [==============================] - 3s 355us/sample - loss: 2.2986e-07 - acc: 1.0000\n",
            "Epoch 31/50\n",
            "8000/8000 [==============================] - 3s 352us/sample - loss: 6.8068e-06 - acc: 1.0000\n",
            "Epoch 32/50\n",
            "8000/8000 [==============================] - 3s 351us/sample - loss: 1.2596e-07 - acc: 1.0000\n",
            "Epoch 33/50\n",
            "8000/8000 [==============================] - 3s 353us/sample - loss: 1.1237e-07 - acc: 1.0000\n",
            "Epoch 34/50\n",
            "8000/8000 [==============================] - 3s 351us/sample - loss: 1.0963e-07 - acc: 1.0000\n",
            "Epoch 35/50\n",
            "8000/8000 [==============================] - 3s 354us/sample - loss: 1.0963e-07 - acc: 1.0000\n",
            "Epoch 36/50\n",
            "8000/8000 [==============================] - 3s 352us/sample - loss: 1.0963e-07 - acc: 1.0000\n",
            "Epoch 37/50\n",
            "8000/8000 [==============================] - 3s 356us/sample - loss: 1.0963e-07 - acc: 1.0000\n",
            "Epoch 38/50\n",
            "8000/8000 [==============================] - 3s 355us/sample - loss: 1.0963e-07 - acc: 1.0000\n",
            "Epoch 39/50\n",
            "8000/8000 [==============================] - 3s 351us/sample - loss: 1.0963e-07 - acc: 1.0000\n",
            "Epoch 40/50\n",
            "8000/8000 [==============================] - 3s 353us/sample - loss: 1.0963e-07 - acc: 1.0000\n",
            "Epoch 41/50\n",
            "8000/8000 [==============================] - 3s 352us/sample - loss: 1.0964e-07 - acc: 1.0000\n",
            "Epoch 42/50\n",
            "8000/8000 [==============================] - 3s 355us/sample - loss: 1.0963e-07 - acc: 1.0000\n",
            "Epoch 43/50\n",
            "8000/8000 [==============================] - 3s 354us/sample - loss: 1.0963e-07 - acc: 1.0000\n",
            "Epoch 44/50\n",
            "8000/8000 [==============================] - 3s 352us/sample - loss: 1.0963e-07 - acc: 1.0000\n",
            "Epoch 45/50\n",
            "8000/8000 [==============================] - 3s 352us/sample - loss: 1.0963e-07 - acc: 1.0000\n",
            "Epoch 46/50\n",
            "8000/8000 [==============================] - 3s 354us/sample - loss: 1.0963e-07 - acc: 1.0000\n",
            "Epoch 47/50\n",
            "8000/8000 [==============================] - 3s 359us/sample - loss: 1.0963e-07 - acc: 1.0000\n",
            "Epoch 48/50\n",
            "8000/8000 [==============================] - 3s 358us/sample - loss: 1.0963e-07 - acc: 1.0000\n",
            "Epoch 49/50\n",
            "8000/8000 [==============================] - 3s 357us/sample - loss: 1.0963e-07 - acc: 1.0000\n",
            "Epoch 50/50\n",
            "8000/8000 [==============================] - 3s 358us/sample - loss: 1.0963e-07 - acc: 1.0000\n",
            "2000/2000 [==============================] - 0s 173us/sample - loss: 0.1695 - acc: 0.9845\n"
          ],
          "name": "stdout"
        }
      ]
    },
    {
      "metadata": {
        "id": "eoZDeF-TRVwe",
        "colab_type": "code",
        "colab": {}
      },
      "cell_type": "code",
      "source": [
        "# Plot training accuracy values\n",
        "plt.plot(history1.history['acc'], color='green', label='stride1x2,sigmoid')\n",
        "plt.title('Model accuracy')\n",
        "plt.ylabel('Accuracy')\n",
        "plt.xlabel('Epoch')\n",
        "plt.legend()\n",
        "plt.show()\n",
        "\n",
        "# Plot training loss values\n",
        "plt.plot(history1.history['loss'], color='green', label='stride1x2,sigmoid')\n",
        "plt.title('Model loss')\n",
        "plt.ylabel('Loss')\n",
        "plt.xlabel('Epoch')\n",
        "plt.legend()\n",
        "plt.show()\n",
        "\n",
        "\n",
        "\n"
      ],
      "execution_count": 0,
      "outputs": []
    },
    {
      "metadata": {
        "id": "HcmXvalPlfaV",
        "colab_type": "code",
        "colab": {
          "base_uri": "https://localhost:8080/",
          "height": 340
        },
        "outputId": "025b1c3f-d159-4559-dcb5-51b69370d84b"
      },
      "cell_type": "code",
      "source": [
        "model = tf.keras.models.Sequential()\n",
        "model.add(tf.keras.layers.Conv3D(8, (3,3,3), activation='relu', input_shape=(12, 14, 14, 1)))\n",
        "model.add(tf.keras.layers.MaxPooling3D(pool_size=(2, 2, 2), strides=(2, 2, 2)))\n",
        "model.add(tf.keras.layers.BatchNormalization())\n",
        "#model.add(tf.keras.layers.Conv3D(16, (1,3,3), activation='relu'))\n",
        "#model.add(tf.keras.layers.MaxPooling3D(pool_size=(1, 2, 2), strides=(1, 2, 2)))\n",
        "#model.add(tf.keras.layers.BatchNormalization())\n",
        "\n",
        "\n",
        "#FC Layers\n",
        "model.add(tf.keras.layers.Flatten())\n",
        "model.add(tf.keras.layers.Dense(128))\n",
        "model.add(tf.keras.layers.Dense(1, activation='sigmoid'))\n",
        "\n",
        "model.summary()\n",
        "\n"
      ],
      "execution_count": 14,
      "outputs": [
        {
          "output_type": "stream",
          "text": [
            "_________________________________________________________________\n",
            "Layer (type)                 Output Shape              Param #   \n",
            "=================================================================\n",
            "conv3d_5 (Conv3D)            (None, 10, 12, 12, 8)     224       \n",
            "_________________________________________________________________\n",
            "max_pooling3d_2 (MaxPooling3 (None, 5, 6, 6, 8)        0         \n",
            "_________________________________________________________________\n",
            "batch_normalization_v1_2 (Ba (None, 5, 6, 6, 8)        32        \n",
            "_________________________________________________________________\n",
            "flatten_2 (Flatten)          (None, 1440)              0         \n",
            "_________________________________________________________________\n",
            "dense_4 (Dense)              (None, 128)               184448    \n",
            "_________________________________________________________________\n",
            "dense_5 (Dense)              (None, 1)                 129       \n",
            "=================================================================\n",
            "Total params: 184,833\n",
            "Trainable params: 184,817\n",
            "Non-trainable params: 16\n",
            "_________________________________________________________________\n"
          ],
          "name": "stdout"
        }
      ]
    },
    {
      "metadata": {
        "id": "T4XA10JYlfaZ",
        "colab_type": "code",
        "colab": {
          "base_uri": "https://localhost:8080/",
          "height": 1734
        },
        "outputId": "639f1b15-e80f-487e-b265-8ffe1c2de633"
      },
      "cell_type": "code",
      "source": [
        "import matplotlib.pyplot as plt\n",
        "from tensorflow.keras.optimizers import RMSprop\n",
        "\n",
        "model.compile(loss='binary_crossentropy',\n",
        "              optimizer=RMSprop(lr=0.0003),\n",
        "              metrics=['acc'])\n",
        "\n",
        "history2 = model.fit(X_train, y_train, epochs=50, verbose=1)\n",
        "test_loss = model.evaluate(X_test, y_test)\n",
        "\n",
        "\n",
        "#model.fit(X_train, y_train, epochs=30)\n",
        "#test_loss = model.evaluate(X_test, y_test)\n",
        "\n",
        "#model.fit(X_train, y_train, epochs=10,\n",
        "#          validation_data=(X_test, y_test),\n",
        "#          callbacks=[TrainValTensorBoard(write_graph=False)])"
      ],
      "execution_count": 15,
      "outputs": [
        {
          "output_type": "stream",
          "text": [
            "Epoch 1/50\n",
            "8000/8000 [==============================] - 2s 270us/sample - loss: 0.1905 - acc: 0.9284\n",
            "Epoch 2/50\n",
            "8000/8000 [==============================] - 2s 246us/sample - loss: 0.0889 - acc: 0.9728\n",
            "Epoch 3/50\n",
            "8000/8000 [==============================] - 2s 245us/sample - loss: 0.0659 - acc: 0.9770\n",
            "Epoch 4/50\n",
            "8000/8000 [==============================] - 2s 247us/sample - loss: 0.0480 - acc: 0.9834\n",
            "Epoch 5/50\n",
            "8000/8000 [==============================] - 2s 245us/sample - loss: 0.0464 - acc: 0.9822\n",
            "Epoch 6/50\n",
            "8000/8000 [==============================] - 2s 245us/sample - loss: 0.0343 - acc: 0.9875\n",
            "Epoch 7/50\n",
            "8000/8000 [==============================] - 2s 246us/sample - loss: 0.0287 - acc: 0.9918\n",
            "Epoch 8/50\n",
            "8000/8000 [==============================] - 2s 246us/sample - loss: 0.0276 - acc: 0.9904\n",
            "Epoch 9/50\n",
            "8000/8000 [==============================] - 2s 243us/sample - loss: 0.0214 - acc: 0.9923\n",
            "Epoch 10/50\n",
            "8000/8000 [==============================] - 2s 244us/sample - loss: 0.0194 - acc: 0.9935\n",
            "Epoch 11/50\n",
            "8000/8000 [==============================] - 2s 247us/sample - loss: 0.0168 - acc: 0.9931\n",
            "Epoch 12/50\n",
            "8000/8000 [==============================] - 2s 245us/sample - loss: 0.0147 - acc: 0.9936\n",
            "Epoch 13/50\n",
            "8000/8000 [==============================] - 2s 244us/sample - loss: 0.0137 - acc: 0.9949\n",
            "Epoch 14/50\n",
            "8000/8000 [==============================] - 2s 245us/sample - loss: 0.0111 - acc: 0.9954\n",
            "Epoch 15/50\n",
            "8000/8000 [==============================] - 2s 244us/sample - loss: 0.0105 - acc: 0.9964\n",
            "Epoch 16/50\n",
            "8000/8000 [==============================] - 2s 243us/sample - loss: 0.0079 - acc: 0.9975\n",
            "Epoch 17/50\n",
            "8000/8000 [==============================] - 2s 247us/sample - loss: 0.0067 - acc: 0.9980\n",
            "Epoch 18/50\n",
            "8000/8000 [==============================] - 2s 244us/sample - loss: 0.0069 - acc: 0.9983\n",
            "Epoch 19/50\n",
            "8000/8000 [==============================] - 2s 244us/sample - loss: 0.0063 - acc: 0.9976\n",
            "Epoch 20/50\n",
            "8000/8000 [==============================] - 2s 245us/sample - loss: 0.0045 - acc: 0.9984\n",
            "Epoch 21/50\n",
            "8000/8000 [==============================] - 2s 245us/sample - loss: 0.0062 - acc: 0.9975\n",
            "Epoch 22/50\n",
            "8000/8000 [==============================] - 2s 247us/sample - loss: 0.0041 - acc: 0.9984\n",
            "Epoch 23/50\n",
            "8000/8000 [==============================] - 2s 246us/sample - loss: 0.0034 - acc: 0.9989\n",
            "Epoch 24/50\n",
            "8000/8000 [==============================] - 2s 246us/sample - loss: 0.0023 - acc: 0.9994\n",
            "Epoch 25/50\n",
            "8000/8000 [==============================] - 2s 243us/sample - loss: 0.0054 - acc: 0.9986\n",
            "Epoch 26/50\n",
            "8000/8000 [==============================] - 2s 243us/sample - loss: 0.0042 - acc: 0.9986\n",
            "Epoch 27/50\n",
            "8000/8000 [==============================] - 2s 244us/sample - loss: 0.0025 - acc: 0.9990\n",
            "Epoch 28/50\n",
            "8000/8000 [==============================] - 2s 243us/sample - loss: 0.0024 - acc: 0.9990\n",
            "Epoch 29/50\n",
            "8000/8000 [==============================] - 2s 244us/sample - loss: 0.0013 - acc: 0.9995\n",
            "Epoch 30/50\n",
            "8000/8000 [==============================] - 2s 243us/sample - loss: 0.0014 - acc: 0.9996\n",
            "Epoch 31/50\n",
            "8000/8000 [==============================] - 2s 245us/sample - loss: 0.0012 - acc: 0.9998\n",
            "Epoch 32/50\n",
            "8000/8000 [==============================] - 2s 245us/sample - loss: 0.0027 - acc: 0.9987\n",
            "Epoch 33/50\n",
            "8000/8000 [==============================] - 2s 245us/sample - loss: 0.0011 - acc: 0.9998\n",
            "Epoch 34/50\n",
            "8000/8000 [==============================] - 2s 245us/sample - loss: 0.0013 - acc: 0.9995\n",
            "Epoch 35/50\n",
            "8000/8000 [==============================] - 2s 241us/sample - loss: 0.0011 - acc: 0.9996\n",
            "Epoch 36/50\n",
            "8000/8000 [==============================] - 2s 243us/sample - loss: 0.0012 - acc: 0.9998\n",
            "Epoch 37/50\n",
            "8000/8000 [==============================] - 2s 244us/sample - loss: 0.0019 - acc: 0.9992\n",
            "Epoch 38/50\n",
            "8000/8000 [==============================] - 2s 243us/sample - loss: 0.0020 - acc: 0.9992\n",
            "Epoch 39/50\n",
            "8000/8000 [==============================] - 2s 242us/sample - loss: 0.0011 - acc: 0.9998\n",
            "Epoch 40/50\n",
            "8000/8000 [==============================] - 2s 242us/sample - loss: 0.0016 - acc: 0.9994\n",
            "Epoch 41/50\n",
            "8000/8000 [==============================] - 2s 246us/sample - loss: 0.0021 - acc: 0.9994\n",
            "Epoch 42/50\n",
            "8000/8000 [==============================] - 2s 247us/sample - loss: 4.2078e-04 - acc: 0.9999\n",
            "Epoch 43/50\n",
            "8000/8000 [==============================] - 2s 243us/sample - loss: 0.0013 - acc: 0.9995\n",
            "Epoch 44/50\n",
            "8000/8000 [==============================] - 2s 243us/sample - loss: 4.4458e-04 - acc: 0.9998\n",
            "Epoch 45/50\n",
            "8000/8000 [==============================] - 2s 248us/sample - loss: 0.0018 - acc: 0.9995\n",
            "Epoch 46/50\n",
            "8000/8000 [==============================] - 2s 248us/sample - loss: 8.2692e-04 - acc: 0.9998\n",
            "Epoch 47/50\n",
            "8000/8000 [==============================] - 2s 250us/sample - loss: 0.0011 - acc: 0.9996\n",
            "Epoch 48/50\n",
            "8000/8000 [==============================] - 2s 245us/sample - loss: 2.1422e-04 - acc: 0.9999\n",
            "Epoch 49/50\n",
            "8000/8000 [==============================] - 2s 243us/sample - loss: 5.6489e-04 - acc: 0.9999\n",
            "Epoch 50/50\n",
            "8000/8000 [==============================] - 2s 244us/sample - loss: 9.0325e-04 - acc: 0.9995\n",
            "2000/2000 [==============================] - 0s 129us/sample - loss: 0.2245 - acc: 0.9735\n"
          ],
          "name": "stdout"
        }
      ]
    },
    {
      "metadata": {
        "id": "Iy-jVqBVlfad",
        "colab_type": "code",
        "colab": {
          "base_uri": "https://localhost:8080/",
          "height": 735
        },
        "outputId": "0223f5a4-6faa-454d-bf45-e2e2f1429829"
      },
      "cell_type": "code",
      "source": [
        "# Plot training accuracy values\n",
        "plt.plot(history1.history['acc'], color='green', label='stride1x2,sigmoid')\n",
        "plt.plot(history2.history['acc'], color='red', label='stride2x2,sigmoid')\n",
        "plt.title('Model accuracy')\n",
        "plt.ylabel('Accuracy')\n",
        "plt.xlabel('Epoch')\n",
        "plt.legend()\n",
        "plt.show()\n",
        "\n",
        "# Plot training loss values\n",
        "plt.plot(history1.history['loss'], color='green', label='stride1x2,sigmoid')\n",
        "plt.plot(history2.history['loss'], color='red', label='stride2x2,sigmoid')\n",
        "plt.title('Model loss')\n",
        "plt.ylabel('Loss')\n",
        "plt.xlabel('Epoch')\n",
        "plt.legend()\n",
        "plt.show()\n",
        "\n"
      ],
      "execution_count": 72,
      "outputs": [
        {
          "output_type": "display_data",
          "data": {
            "image/png": "[encoded data removed]",
            "text/plain": [
              "<Figure size 576x396 with 1 Axes>"
            ]
          },
          "metadata": {
            "tags": []
          }
        },
        {
          "output_type": "display_data",
          "data": {
            "image/png": "[encoded data removed]",
            "text/plain": [
              "<Figure size 576x396 with 1 Axes>"
            ]
          },
          "metadata": {
            "tags": []
          }
        }
      ]
    },
    {
      "metadata": {
        "id": "kk1eVkdnlfaj",
        "colab_type": "code",
        "colab": {
          "base_uri": "https://localhost:8080/",
          "height": 340
        },
        "outputId": "3261d6de-a258-4685-e79c-94dd89415fe1"
      },
      "cell_type": "code",
      "source": [
        "model = tf.keras.models.Sequential()\n",
        "model.add(tf.keras.layers.Conv3D(8, (3,3,3), activation='relu', input_shape=(12, 14, 14, 1)))\n",
        "model.add(tf.keras.layers.MaxPooling3D(pool_size=(2, 2, 2), strides=(1, 2, 2)))\n",
        "model.add(tf.keras.layers.BatchNormalization())\n",
        "#model.add(tf.keras.layers.Conv3D(16, (1,3,3), activation='relu'))\n",
        "#model.add(tf.keras.layers.MaxPooling3D(pool_size=(1, 2, 2), strides=(1, 2, 2)))\n",
        "#model.add(tf.keras.layers.BatchNormalization())\n",
        "\n",
        "\n",
        "#FC Layers\n",
        "model.add(tf.keras.layers.Flatten())\n",
        "model.add(tf.keras.layers.Dense(128))\n",
        "model.add(tf.keras.layers.Dense(1, activation='tanh'))\n",
        "\n",
        "model.summary()\n",
        "\n",
        "\n"
      ],
      "execution_count": 16,
      "outputs": [
        {
          "output_type": "stream",
          "text": [
            "_________________________________________________________________\n",
            "Layer (type)                 Output Shape              Param #   \n",
            "=================================================================\n",
            "conv3d_6 (Conv3D)            (None, 10, 12, 12, 8)     224       \n",
            "_________________________________________________________________\n",
            "max_pooling3d_3 (MaxPooling3 (None, 9, 6, 6, 8)        0         \n",
            "_________________________________________________________________\n",
            "batch_normalization_v1_3 (Ba (None, 9, 6, 6, 8)        32        \n",
            "_________________________________________________________________\n",
            "flatten_3 (Flatten)          (None, 2592)              0         \n",
            "_________________________________________________________________\n",
            "dense_6 (Dense)              (None, 128)               331904    \n",
            "_________________________________________________________________\n",
            "dense_7 (Dense)              (None, 1)                 129       \n",
            "=================================================================\n",
            "Total params: 332,289\n",
            "Trainable params: 332,273\n",
            "Non-trainable params: 16\n",
            "_________________________________________________________________\n"
          ],
          "name": "stdout"
        }
      ]
    },
    {
      "metadata": {
        "id": "MA2XSOdKlfam",
        "colab_type": "code",
        "colab": {
          "base_uri": "https://localhost:8080/",
          "height": 1734
        },
        "outputId": "01acae48-2c3b-4836-f1a3-f3e25a75b711"
      },
      "cell_type": "code",
      "source": [
        "import matplotlib.pyplot as plt\n",
        "from tensorflow.keras.optimizers import RMSprop\n",
        "\n",
        "model.compile(loss='binary_crossentropy',\n",
        "              optimizer=RMSprop(lr=0.0003),\n",
        "              metrics=['acc'])\n",
        "\n",
        "history3 = model.fit(X_train, y_train, epochs=50, verbose=1)\n",
        "test_loss = model.evaluate(X_test, y_test)\n",
        "\n",
        "\n",
        "#model.fit(X_train, y_train, epochs=30)\n",
        "#test_loss = model.evaluate(X_test, y_test)\n",
        "\n",
        "#model.fit(X_train, y_train, epochs=10,\n",
        "#          validation_data=(X_test, y_test),\n",
        "#          callbacks=[TrainValTensorBoard(write_graph=False)])"
      ],
      "execution_count": 17,
      "outputs": [
        {
          "output_type": "stream",
          "text": [
            "Epoch 1/50\n",
            "8000/8000 [==============================] - 2s 298us/sample - loss: 1.6445 - acc: 0.8621\n",
            "Epoch 2/50\n",
            "8000/8000 [==============================] - 2s 252us/sample - loss: 0.7792 - acc: 0.9367\n",
            "Epoch 3/50\n",
            "8000/8000 [==============================] - 2s 254us/sample - loss: 0.6082 - acc: 0.9523\n",
            "Epoch 4/50\n",
            "8000/8000 [==============================] - 2s 252us/sample - loss: 0.5663 - acc: 0.9571\n",
            "Epoch 5/50\n",
            "8000/8000 [==============================] - 2s 250us/sample - loss: 0.4686 - acc: 0.9636\n",
            "Epoch 6/50\n",
            "8000/8000 [==============================] - 2s 246us/sample - loss: 0.4424 - acc: 0.9671\n",
            "Epoch 7/50\n",
            "8000/8000 [==============================] - 2s 249us/sample - loss: 0.4128 - acc: 0.9681\n",
            "Epoch 8/50\n",
            "8000/8000 [==============================] - 2s 251us/sample - loss: 0.3800 - acc: 0.9720\n",
            "Epoch 9/50\n",
            "8000/8000 [==============================] - 2s 247us/sample - loss: 0.3494 - acc: 0.9744\n",
            "Epoch 10/50\n",
            "8000/8000 [==============================] - 2s 249us/sample - loss: 0.3118 - acc: 0.9758\n",
            "Epoch 11/50\n",
            "8000/8000 [==============================] - 2s 251us/sample - loss: 0.2776 - acc: 0.9803\n",
            "Epoch 12/50\n",
            "8000/8000 [==============================] - 2s 248us/sample - loss: 0.3241 - acc: 0.9769\n",
            "Epoch 13/50\n",
            "8000/8000 [==============================] - 2s 250us/sample - loss: 0.2526 - acc: 0.9794\n",
            "Epoch 14/50\n",
            "8000/8000 [==============================] - 2s 249us/sample - loss: 0.2228 - acc: 0.9814\n",
            "Epoch 15/50\n",
            "8000/8000 [==============================] - 2s 249us/sample - loss: 0.2211 - acc: 0.9833\n",
            "Epoch 16/50\n",
            "8000/8000 [==============================] - 2s 249us/sample - loss: 0.2030 - acc: 0.9844\n",
            "Epoch 17/50\n",
            "8000/8000 [==============================] - 2s 248us/sample - loss: 0.2289 - acc: 0.9837\n",
            "Epoch 18/50\n",
            "8000/8000 [==============================] - 2s 250us/sample - loss: 0.2019 - acc: 0.9847\n",
            "Epoch 19/50\n",
            "8000/8000 [==============================] - 2s 254us/sample - loss: 0.1647 - acc: 0.9869\n",
            "Epoch 20/50\n",
            "8000/8000 [==============================] - 2s 249us/sample - loss: 0.1599 - acc: 0.9881\n",
            "Epoch 21/50\n",
            "8000/8000 [==============================] - 2s 251us/sample - loss: 0.1747 - acc: 0.9861\n",
            "Epoch 22/50\n",
            "8000/8000 [==============================] - 2s 253us/sample - loss: 0.1658 - acc: 0.9876\n",
            "Epoch 23/50\n",
            "8000/8000 [==============================] - 2s 251us/sample - loss: 0.1465 - acc: 0.9886\n",
            "Epoch 24/50\n",
            "8000/8000 [==============================] - 2s 251us/sample - loss: 0.1433 - acc: 0.9891\n",
            "Epoch 25/50\n",
            "8000/8000 [==============================] - 2s 251us/sample - loss: 0.1527 - acc: 0.9885\n",
            "Epoch 26/50\n",
            "8000/8000 [==============================] - 2s 250us/sample - loss: 0.1372 - acc: 0.9901\n",
            "Epoch 27/50\n",
            "8000/8000 [==============================] - 2s 252us/sample - loss: 0.1247 - acc: 0.9906\n",
            "Epoch 28/50\n",
            "8000/8000 [==============================] - 2s 248us/sample - loss: 0.1199 - acc: 0.9909\n",
            "Epoch 29/50\n",
            "8000/8000 [==============================] - 2s 249us/sample - loss: 0.1396 - acc: 0.9901\n",
            "Epoch 30/50\n",
            "8000/8000 [==============================] - 2s 251us/sample - loss: 0.1120 - acc: 0.9914\n",
            "Epoch 31/50\n",
            "8000/8000 [==============================] - 2s 252us/sample - loss: 0.1294 - acc: 0.9910\n",
            "Epoch 32/50\n",
            "8000/8000 [==============================] - 2s 251us/sample - loss: 0.1119 - acc: 0.9923\n",
            "Epoch 33/50\n",
            "8000/8000 [==============================] - 2s 251us/sample - loss: 0.1253 - acc: 0.9910\n",
            "Epoch 34/50\n",
            "8000/8000 [==============================] - 2s 253us/sample - loss: 0.1234 - acc: 0.9911\n",
            "Epoch 35/50\n",
            "8000/8000 [==============================] - 2s 252us/sample - loss: 0.1000 - acc: 0.9919\n",
            "Epoch 36/50\n",
            "8000/8000 [==============================] - 2s 250us/sample - loss: 0.1092 - acc: 0.9915\n",
            "Epoch 37/50\n",
            "8000/8000 [==============================] - 2s 253us/sample - loss: 0.1166 - acc: 0.9909\n",
            "Epoch 38/50\n",
            "8000/8000 [==============================] - 2s 254us/sample - loss: 0.1064 - acc: 0.9929\n",
            "Epoch 39/50\n",
            "8000/8000 [==============================] - 2s 254us/sample - loss: 0.0915 - acc: 0.9914\n",
            "Epoch 40/50\n",
            "8000/8000 [==============================] - 2s 251us/sample - loss: 0.0909 - acc: 0.9926\n",
            "Epoch 41/50\n",
            "8000/8000 [==============================] - 2s 253us/sample - loss: 0.0829 - acc: 0.9939\n",
            "Epoch 42/50\n",
            "8000/8000 [==============================] - 2s 254us/sample - loss: 0.0833 - acc: 0.9939\n",
            "Epoch 43/50\n",
            "8000/8000 [==============================] - 2s 254us/sample - loss: 0.0738 - acc: 0.9939\n",
            "Epoch 44/50\n",
            "8000/8000 [==============================] - 2s 255us/sample - loss: 0.0863 - acc: 0.9935\n",
            "Epoch 45/50\n",
            "8000/8000 [==============================] - 2s 249us/sample - loss: 0.0924 - acc: 0.9923\n",
            "Epoch 46/50\n",
            "8000/8000 [==============================] - 2s 251us/sample - loss: 0.0851 - acc: 0.9940\n",
            "Epoch 47/50\n",
            "8000/8000 [==============================] - 2s 254us/sample - loss: 0.0863 - acc: 0.9939\n",
            "Epoch 48/50\n",
            "8000/8000 [==============================] - 2s 253us/sample - loss: 0.0848 - acc: 0.9939\n",
            "Epoch 49/50\n",
            "8000/8000 [==============================] - 2s 254us/sample - loss: 0.0713 - acc: 0.9951\n",
            "Epoch 50/50\n",
            "8000/8000 [==============================] - 2s 252us/sample - loss: 0.0693 - acc: 0.9948\n",
            "2000/2000 [==============================] - 0s 144us/sample - loss: 0.2084 - acc: 0.9810\n"
          ],
          "name": "stdout"
        }
      ]
    },
    {
      "metadata": {
        "id": "xWFWNo8PDH-a",
        "colab_type": "code",
        "colab": {
          "base_uri": "https://localhost:8080/",
          "height": 735
        },
        "outputId": "c11e99a7-9f34-4154-d913-5e8e57ea9280"
      },
      "cell_type": "code",
      "source": [
        "# Plot training accuracy values\n",
        "plt.plot(history2.history['acc'], color='red', label='1c_layer,sigmoid')\n",
        "plt.plot(history1.history['acc'], color='green', label='2c_layers,sigmoid')\n",
        "plt.plot(history4.history['acc'], color='yellow', label='3c_layers,sigmoid')\n",
        "plt.plot(history3.history['acc'], color='blue', label='1c_layer,tanh')\n",
        "plt.title('Model accuracy')\n",
        "plt.ylabel('Accuracy')\n",
        "plt.xlabel('Epoch')\n",
        "plt.legend()\n",
        "plt.show()\n",
        "\n",
        "# Plot training loss values\n",
        "plt.plot(history2.history['loss'], color='red', label='1c_layer,sigmoid')\n",
        "plt.plot(history1.history['loss'], color='green', label='2c_layers,sigmoid')\n",
        "plt.plot(history4.history['loss'], color='yellow', label='3c_layers,sigmoid')\n",
        "plt.plot(history3.history['loss'], color='blue', label='1c_layer,tanh')\n",
        "plt.title('Model loss')\n",
        "plt.ylabel('Loss')\n",
        "plt.xlabel('Epoch')\n",
        "plt.legend()\n",
        "plt.show()\n",
        "\n",
        "\n"
      ],
      "execution_count": 19,
      "outputs": [
        {
          "output_type": "display_data",
          "data": {
            "image/png": "[encoded data removed]",
            "text/plain": [
              "<Figure size 576x396 with 1 Axes>"
            ]
          },
          "metadata": {
            "tags": []
          }
        },
        {
          "output_type": "display_data",
          "data": {
            "image/png": "[encoded data removed]",
            "text/plain": [
              "<Figure size 576x396 with 1 Axes>"
            ]
          },
          "metadata": {
            "tags": []
          }
        }
      ]
    },
    {
      "metadata": {
        "id": "BDUcICa5Dt7T",
        "colab_type": "code",
        "colab": {}
      },
      "cell_type": "code",
      "source": [
        ""
      ],
      "execution_count": 0,
      "outputs": []
    }
  ]
}